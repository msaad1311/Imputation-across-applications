{
  "nbformat": 4,
  "nbformat_minor": 0,
  "metadata": {
    "colab": {
      "name": "Imputation across applications.ipynb",
      "provenance": [],
      "collapsed_sections": [],
      "authorship_tag": "ABX9TyPYnWZAgZKgX6TqAzJeTZYt",
      "include_colab_link": true
    },
    "kernelspec": {
      "name": "python3",
      "display_name": "Python 3"
    }
  },
  "cells": [
    {
      "cell_type": "markdown",
      "metadata": {
        "id": "view-in-github",
        "colab_type": "text"
      },
      "source": [
        "<a href=\"https://colab.research.google.com/github/msaad1311/Imputation-across-applications/blob/master/Imputation_across_applications.ipynb\" target=\"_parent\"><img src=\"https://colab.research.google.com/assets/colab-badge.svg\" alt=\"Open In Colab\"/></a>"
      ]
    },
    {
      "cell_type": "code",
      "metadata": {
        "id": "Z6dqH_Mkydcn",
        "colab_type": "code",
        "colab": {}
      },
      "source": [
        "import numpy as np\n",
        "import pandas as pd\n",
        "import matplotlib.pyplot as plt\n",
        "import tensorflow as tf\n",
        "from tensorflow import keras\n",
        "# import reader\n",
        "from sklearn.svm import SVR\n",
        "import numpy as np\n",
        "import sklearn.model_selection\n",
        "import sklearn.datasets\n",
        "import sklearn.metrics\n",
        "# import autosklearn.regression\n",
        "from sklearn import ensemble\n",
        "from sklearn.metrics import mean_squared_error as mse\n",
        "from sklearn.metrics import mean_absolute_error as mae\n",
        "from sklearn.linear_model import LinearRegression"
      ],
      "execution_count": 0,
      "outputs": []
    },
    {
      "cell_type": "code",
      "metadata": {
        "id": "cIzU7ohYyjhk",
        "colab_type": "code",
        "colab": {}
      },
      "source": [
        "def plot_series(time, series, format=\"-\", start=0, end=None, label=None):\n",
        "    plt.plot(time[start:end], series[start:end], format, label=label)\n",
        "    plt.xlabel(\"Time\")\n",
        "    plt.ylabel(\"Value\")\n",
        "    if label:\n",
        "        plt.legend(fontsize=14)\n",
        "    plt.grid(True)"
      ],
      "execution_count": 0,
      "outputs": []
    },
    {
      "cell_type": "code",
      "metadata": {
        "id": "JwSZdWHAymvF",
        "colab_type": "code",
        "colab": {}
      },
      "source": [
        "def trend(time, slope=0):\n",
        "    return slope * time+50\n",
        "def white_noise(time, noise_level=1, seed=None):\n",
        "    rnd = np.random.RandomState(seed)\n",
        "    return rnd.randn(len(time)) * noise_level"
      ],
      "execution_count": 0,
      "outputs": []
    },
    {
      "cell_type": "code",
      "metadata": {
        "id": "qhwoZz1ryp9q",
        "colab_type": "code",
        "colab": {}
      },
      "source": [
        "time = np.arange(4 * 365 + 1)+50\n",
        "baseline = 10\n",
        "series = trend(time, 0.1)\n",
        "\n",
        "plt.figure(figsize=(10, 6))\n",
        "plot_series(time, series)\n",
        "plt.show()\n",
        "series.min()"
      ],
      "execution_count": 0,
      "outputs": []
    },
    {
      "cell_type": "code",
      "metadata": {
        "id": "I9CmdXxhjFe-",
        "colab_type": "code",
        "colab": {}
      },
      "source": [
        "np.arange(10)+10"
      ],
      "execution_count": 0,
      "outputs": []
    },
    {
      "cell_type": "markdown",
      "metadata": {
        "id": "8ECK5S6HyyRa",
        "colab_type": "text"
      },
      "source": [
        "Adding noise"
      ]
    },
    {
      "cell_type": "code",
      "metadata": {
        "id": "HXH3IgQHy226",
        "colab_type": "code",
        "colab": {}
      },
      "source": [
        "series.shape"
      ],
      "execution_count": 0,
      "outputs": []
    },
    {
      "cell_type": "code",
      "metadata": {
        "id": "J9rM5KW7zJQA",
        "colab_type": "code",
        "colab": {}
      },
      "source": [
        "import numpy as np\n",
        "\n",
        "noise = np.random.normal(0,10,1461)"
      ],
      "execution_count": 0,
      "outputs": []
    },
    {
      "cell_type": "code",
      "metadata": {
        "id": "3J6Yy9x3zZrD",
        "colab_type": "code",
        "colab": {}
      },
      "source": [
        "noise.shape"
      ],
      "execution_count": 0,
      "outputs": []
    },
    {
      "cell_type": "code",
      "metadata": {
        "id": "cSu2AEfvzbFP",
        "colab_type": "code",
        "colab": {}
      },
      "source": [
        "series_noise = series+noise\n",
        "# series_noise=series_noise.clip(0,series_noise.max())"
      ],
      "execution_count": 0,
      "outputs": []
    },
    {
      "cell_type": "code",
      "metadata": {
        "id": "cqyQpBtyzec2",
        "colab_type": "code",
        "colab": {}
      },
      "source": [
        "plot_series(time, series_noise)"
      ],
      "execution_count": 0,
      "outputs": []
    },
    {
      "cell_type": "code",
      "metadata": {
        "id": "wSZPylAQgy_Z",
        "colab_type": "code",
        "colab": {}
      },
      "source": [
        "series_noise.min()"
      ],
      "execution_count": 0,
      "outputs": []
    },
    {
      "cell_type": "code",
      "metadata": {
        "id": "TM1E6pKJziVd",
        "colab_type": "code",
        "colab": {}
      },
      "source": [
        "import random\n",
        "series_missing=np.copy(series_noise)\n",
        "for i in range(1,len(series_noise)):\n",
        "    if random.random()<= 0.5:\n",
        "        series_missing[i]=np.nan\n",
        "    \n",
        "'''\n",
        "def misser (df,missing_percent = 0.5):\n",
        "  for i in df.columns:\n",
        "    for j, row_value in df[i].iteritems():\n",
        "      if j==0:\n",
        "        continue\n",
        "      else:\n",
        "        if random.random() <= missing_percent:\n",
        "            df[i][j] = np.nan\n",
        "  return df\n",
        "'''"
      ],
      "execution_count": 0,
      "outputs": []
    },
    {
      "cell_type": "code",
      "metadata": {
        "id": "hEGtEHAF3lb-",
        "colab_type": "code",
        "colab": {}
      },
      "source": [
        "np.count_nonzero(np.isnan(series_noise)),np.count_nonzero(np.isnan(series_missing))"
      ],
      "execution_count": 0,
      "outputs": []
    },
    {
      "cell_type": "code",
      "metadata": {
        "id": "RmykK8p34jrt",
        "colab_type": "code",
        "colab": {}
      },
      "source": [
        "# plot_series(time,series_noise)\n",
        "plot_series(time,series_missing)"
      ],
      "execution_count": 0,
      "outputs": []
    },
    {
      "cell_type": "code",
      "metadata": {
        "id": "VJsFp49E24jk",
        "colab_type": "code",
        "colab": {}
      },
      "source": [
        "df_original= pd.DataFrame(series_noise,columns=['Series'])\n",
        "df_missing= pd.DataFrame(series_missing,columns=['Series'])"
      ],
      "execution_count": 0,
      "outputs": []
    },
    {
      "cell_type": "code",
      "metadata": {
        "id": "HIsMSpWTVknI",
        "colab_type": "code",
        "colab": {}
      },
      "source": [
        "df_missing.fillna(-1.0).to_excel('Trend Missing.xlsx')\n",
        "df_original.to_excel('Trend Original.xlsx')"
      ],
      "execution_count": 0,
      "outputs": []
    },
    {
      "cell_type": "code",
      "metadata": {
        "id": "H4pkAvMO3tPc",
        "colab_type": "code",
        "colab": {}
      },
      "source": [
        "df_missing.fillna(-1.0).to_csv('miss_data1.txt', header=None, index=None, sep='\\t', mode='a')"
      ],
      "execution_count": 0,
      "outputs": []
    },
    {
      "cell_type": "code",
      "metadata": {
        "id": "6k4fxbSo4TDF",
        "colab_type": "code",
        "colab": {}
      },
      "source": [
        "!python LIMELSTM.py"
      ],
      "execution_count": 0,
      "outputs": []
    },
    {
      "cell_type": "code",
      "metadata": {
        "id": "7SrkSCXU42Dq",
        "colab_type": "code",
        "colab": {}
      },
      "source": [
        "from sklearn.metrics import mean_squared_error as mse\n",
        "df_lstm = pd.read_excel('/content/imputed_data_ for LSTM_trend.xlsx')\n",
        "mse(df_original,df_lstm),mse(df_original,df_missing.interpolate())"
      ],
      "execution_count": 0,
      "outputs": []
    },
    {
      "cell_type": "code",
      "metadata": {
        "id": "cXIQIn1i7rVb",
        "colab_type": "code",
        "colab": {}
      },
      "source": [
        "plt.plot(df_lstm[0],color='r')\n",
        "# plt.plot(df_missing,color='b')\n",
        "plt.plot(df_original,color='b')\n",
        "# plt.plot(df_missing.interpolate(),color='g')"
      ],
      "execution_count": 0,
      "outputs": []
    },
    {
      "cell_type": "code",
      "metadata": {
        "id": "yUGnmV_RJ1_M",
        "colab_type": "code",
        "colab": {}
      },
      "source": [
        "!python LIMEGRU.py"
      ],
      "execution_count": 0,
      "outputs": []
    },
    {
      "cell_type": "code",
      "metadata": {
        "id": "foVkzAXBKMbc",
        "colab_type": "code",
        "colab": {}
      },
      "source": [
        "from sklearn.metrics import mean_squared_error as mse\n",
        "df_gru = pd.read_excel('/content/imputed_data_ for GRU_trend.xlsx')\n",
        "mse(df_original,df_gru),mse(df_original,df_missing.interpolate())"
      ],
      "execution_count": 0,
      "outputs": []
    },
    {
      "cell_type": "code",
      "metadata": {
        "id": "5bcPkFx2Koaf",
        "colab_type": "code",
        "colab": {}
      },
      "source": [
        "!python Hybrid.py"
      ],
      "execution_count": 0,
      "outputs": []
    },
    {
      "cell_type": "code",
      "metadata": {
        "id": "M3_WfYQXLQ9R",
        "colab_type": "code",
        "colab": {}
      },
      "source": [
        "from sklearn.metrics import mean_squared_error as mse\n",
        "df_hyd = pd.read_excel('/content/imputed_data_ for Hybrid_trend.xlsx')\n",
        "mse(df_original,df_hyd),mse(df_original,df_missing.interpolate())"
      ],
      "execution_count": 0,
      "outputs": []
    },
    {
      "cell_type": "code",
      "metadata": {
        "id": "kK2Ejl7dPQcR",
        "colab_type": "code",
        "colab": {}
      },
      "source": [
        "!python Residual.py"
      ],
      "execution_count": 0,
      "outputs": []
    },
    {
      "cell_type": "code",
      "metadata": {
        "id": "KrtLNfa3Q1ab",
        "colab_type": "code",
        "colab": {}
      },
      "source": [
        "from sklearn.metrics import mean_squared_error as mse\n",
        "df_res = pd.read_excel('/content/imputed_data_ for Residue_trend.xlsx')\n",
        "mse(df_original,df_res),mse(df_original,df_missing.interpolate())"
      ],
      "execution_count": 0,
      "outputs": []
    },
    {
      "cell_type": "code",
      "metadata": {
        "id": "pVNRMB0SRsim",
        "colab_type": "code",
        "colab": {}
      },
      "source": [
        "!python Random.py"
      ],
      "execution_count": 0,
      "outputs": []
    },
    {
      "cell_type": "code",
      "metadata": {
        "id": "ZN6nKRS23o6d",
        "colab_type": "code",
        "colab": {}
      },
      "source": [
        "from sklearn.metrics import mean_squared_error as mse\n",
        "df_ran3 = pd.read_excel('/content/imputed_data_ for Random1_trend.xlsx')\n",
        "mse(df_original,df_ran3),mse(df_original,df_missing.interpolate(limit_direction='both'))"
      ],
      "execution_count": 0,
      "outputs": []
    },
    {
      "cell_type": "code",
      "metadata": {
        "id": "13mbLK-0lSeH",
        "colab_type": "code",
        "colab": {}
      },
      "source": [
        "!python Hybrid_multiple.py"
      ],
      "execution_count": 0,
      "outputs": []
    },
    {
      "cell_type": "code",
      "metadata": {
        "id": "2gYMgcOY5pjL",
        "colab_type": "code",
        "colab": {}
      },
      "source": [
        "from sklearn.metrics import mean_squared_error as mse\n",
        "df_hyd_trend = pd.read_excel('/content/imputed_data_ for Hybrid multiple Trend.xlsx')\n",
        "mse(df_original,df_hyd_trend),mse(df_original,df_missing.interpolate(limit_direction='both'))"
      ],
      "execution_count": 0,
      "outputs": []
    },
    {
      "cell_type": "code",
      "metadata": {
        "id": "uB7BgwJ96lKV",
        "colab_type": "code",
        "colab": {}
      },
      "source": [
        "!python GRU_Deep.py"
      ],
      "execution_count": 0,
      "outputs": []
    },
    {
      "cell_type": "code",
      "metadata": {
        "id": "OhKX_Q7z7rGm",
        "colab_type": "code",
        "colab": {}
      },
      "source": [
        "from sklearn.metrics import mean_squared_error as mse\n",
        "df_grud = pd.read_excel('/content/imputed_data_ for GRU_deep_trend.xlsx')\n",
        "mse(df_original,df_grud),mse(df_original,df_missing.interpolate(limit_direction='both'))"
      ],
      "execution_count": 0,
      "outputs": []
    },
    {
      "cell_type": "code",
      "metadata": {
        "id": "zpjb3vl2YgeW",
        "colab_type": "code",
        "colab": {}
      },
      "source": [
        "df_missing.interpolate(limit_direction='both').to_excel('Trend Linear.xlsx')"
      ],
      "execution_count": 0,
      "outputs": []
    },
    {
      "cell_type": "code",
      "metadata": {
        "id": "z0VF4bpyYNbo",
        "colab_type": "code",
        "colab": {}
      },
      "source": [
        "ecal = pd.read_excel('/content/MSE for python.xlsx')"
      ],
      "execution_count": 0,
      "outputs": []
    },
    {
      "cell_type": "code",
      "metadata": {
        "id": "Puz-SE5sYZ3k",
        "colab_type": "code",
        "colab": {}
      },
      "source": [
        "ecal.head()"
      ],
      "execution_count": 0,
      "outputs": []
    },
    {
      "cell_type": "code",
      "metadata": {
        "id": "Td9yr0dyY-g4",
        "colab_type": "code",
        "colab": {}
      },
      "source": [
        "ecal = pd.read_excel('/content/MSE for python.xlsx')\n",
        "ecal.head()\n",
        "for i in ecal.columns:\n",
        "    print('the mse for',i,'is:',mse(ecal['Original'],ecal[i]))\n",
        "\n",
        "for i in ecal.columns:\n",
        "    print('the mse for',i,'is:',mse(ecal['Original'],ecal[i]))"
      ],
      "execution_count": 0,
      "outputs": []
    },
    {
      "cell_type": "markdown",
      "metadata": {
        "id": "kU1T9guH2utw",
        "colab_type": "text"
      },
      "source": [
        "Seasonality\n"
      ]
    },
    {
      "cell_type": "code",
      "metadata": {
        "id": "7QO6-vYt2wXm",
        "colab_type": "code",
        "colab": {}
      },
      "source": [
        "def seasonal_pattern(season_time):\n",
        "    \"\"\"Just an arbitrary pattern, you can change it if you wish\"\"\"\n",
        "    return np.where(season_time < 0.4,\n",
        "                    np.cos(season_time * 2 * np.pi),\n",
        "                    1 / np.exp(3 * season_time))\n",
        "\n",
        "def seasonality(time, period, amplitude=1, phase=0):\n",
        "    \"\"\"Repeats the same pattern at each period\"\"\"\n",
        "    season_time = ((time + phase) % period) / period\n",
        "    return amplitude * seasonal_pattern(season_time) + 150"
      ],
      "execution_count": 0,
      "outputs": []
    },
    {
      "cell_type": "code",
      "metadata": {
        "id": "1rv1ZDx62x-m",
        "colab_type": "code",
        "colab": {}
      },
      "source": [
        "baseline = 10\n",
        "amplitude = 40\n",
        "series_seasonal = seasonality(time, period=365, amplitude=amplitude)\n",
        "\n",
        "plt.figure(figsize=(10, 6))\n",
        "plot_series(time, series_seasonal)\n",
        "plt.show()"
      ],
      "execution_count": 0,
      "outputs": []
    },
    {
      "cell_type": "code",
      "metadata": {
        "id": "IyzNExjV3OUz",
        "colab_type": "code",
        "colab": {}
      },
      "source": [
        "series_seasonal.min(),series_seasonal.max(),series_seasonal.shape"
      ],
      "execution_count": 0,
      "outputs": []
    },
    {
      "cell_type": "code",
      "metadata": {
        "id": "Re0hV2nL3rSf",
        "colab_type": "code",
        "colab": {}
      },
      "source": [
        "import numpy as np\n",
        "\n",
        "noise = np.random.normal(0,10,1461)"
      ],
      "execution_count": 0,
      "outputs": []
    },
    {
      "cell_type": "code",
      "metadata": {
        "id": "4wMJVll73xbI",
        "colab_type": "code",
        "colab": {}
      },
      "source": [
        "seasonal_noise = series_seasonal+noise"
      ],
      "execution_count": 0,
      "outputs": []
    },
    {
      "cell_type": "code",
      "metadata": {
        "id": "025b44DU319f",
        "colab_type": "code",
        "colab": {}
      },
      "source": [
        "plt.figure(figsize=(10, 6))\n",
        "plot_series(time, seasonal_noise)\n",
        "plt.show()"
      ],
      "execution_count": 0,
      "outputs": []
    },
    {
      "cell_type": "code",
      "metadata": {
        "id": "RT6mkzUL4V7m",
        "colab_type": "code",
        "colab": {}
      },
      "source": [
        "seasonal_noise.min(),seasonal_noise.max(),seasonal_noise.shape"
      ],
      "execution_count": 0,
      "outputs": []
    },
    {
      "cell_type": "code",
      "metadata": {
        "id": "G9Zp-IMw3lFR",
        "colab_type": "code",
        "colab": {}
      },
      "source": [
        "import random\n",
        "series_missing_seasonal=np.copy(seasonal_noise)\n",
        "for i in range(1,len(seasonal_noise)):\n",
        "    if random.random()<= 0.5:\n",
        "        series_missing_seasonal[i]=np.nan\n",
        "    "
      ],
      "execution_count": 0,
      "outputs": []
    },
    {
      "cell_type": "code",
      "metadata": {
        "id": "g-XGX_MB4jP_",
        "colab_type": "code",
        "colab": {}
      },
      "source": [
        "np.count_nonzero(np.isnan(seasonal_noise)),np.count_nonzero(np.isnan(series_missing_seasonal))"
      ],
      "execution_count": 0,
      "outputs": []
    },
    {
      "cell_type": "code",
      "metadata": {
        "id": "9x3cmB_-4wVb",
        "colab_type": "code",
        "colab": {}
      },
      "source": [
        "plot_series(time,series_missing_seasonal)"
      ],
      "execution_count": 0,
      "outputs": []
    },
    {
      "cell_type": "code",
      "metadata": {
        "id": "ImTNZQNV41P4",
        "colab_type": "code",
        "colab": {}
      },
      "source": [
        "df_original_season= pd.DataFrame(seasonal_noise,columns=['Series'])\n",
        "df_missing_season= pd.DataFrame(series_missing_seasonal,columns=['Series'])"
      ],
      "execution_count": 0,
      "outputs": []
    },
    {
      "cell_type": "code",
      "metadata": {
        "id": "IqBG4WPx4_qh",
        "colab_type": "code",
        "colab": {}
      },
      "source": [
        "df_missing_season.fillna(-1.0).to_csv('miss_data.txt', header=None, index=None, sep='\\t', mode='a')"
      ],
      "execution_count": 0,
      "outputs": []
    },
    {
      "cell_type": "code",
      "metadata": {
        "id": "dCCtzu8Ma6US",
        "colab_type": "code",
        "colab": {}
      },
      "source": [
        "df_original_season.to_excel('Seasonal Original.xlsx')\n",
        "df_missing_season.fillna(-1.0).to_excel('Seasonal Missing.xlsx')\n",
        "df_missing_season.interpolate(limit_direction='Both').to_excel('Seasonal Linear.xlsx')"
      ],
      "execution_count": 0,
      "outputs": []
    },
    {
      "cell_type": "code",
      "metadata": {
        "id": "APKw-Kyg5Chy",
        "colab_type": "code",
        "colab": {}
      },
      "source": [
        "!python LIMELSTM.py"
      ],
      "execution_count": 0,
      "outputs": []
    },
    {
      "cell_type": "code",
      "metadata": {
        "id": "9kqDQwHx5Jqo",
        "colab_type": "code",
        "colab": {}
      },
      "source": [
        "from sklearn.metrics import mean_squared_error as mse\n",
        "df_lstm = pd.read_excel('/content/imputed_data_ for LSTM_new.xlsx')\n",
        "mse(df_original_season,df_lstm),mse(df_original_season,df_missing_season.interpolate())"
      ],
      "execution_count": 0,
      "outputs": []
    },
    {
      "cell_type": "code",
      "metadata": {
        "id": "w1HVjzpj7Owl",
        "colab_type": "code",
        "colab": {}
      },
      "source": [
        "!python LIMEGRU.py"
      ],
      "execution_count": 0,
      "outputs": []
    },
    {
      "cell_type": "code",
      "metadata": {
        "id": "FYXLJyt37fPB",
        "colab_type": "code",
        "colab": {}
      },
      "source": [
        "from sklearn.metrics import mean_squared_error as mse\n",
        "df_gru = pd.read_excel('/content/imputed_data_ for GRU.xlsx')\n",
        "mse(df_original_season,df_gru),mse(df_original_season,df_missing_season.interpolate())"
      ],
      "execution_count": 0,
      "outputs": []
    },
    {
      "cell_type": "code",
      "metadata": {
        "id": "ZuejN_TV9wqj",
        "colab_type": "code",
        "colab": {}
      },
      "source": [
        "!python Hybrid.py"
      ],
      "execution_count": 0,
      "outputs": []
    },
    {
      "cell_type": "code",
      "metadata": {
        "id": "_-zNbIsc9_l5",
        "colab_type": "code",
        "colab": {}
      },
      "source": [
        "from sklearn.metrics import mean_squared_error as mse\n",
        "df_hyd = pd.read_excel('/content/imputed_data_ for Hybrid.xlsx')\n",
        "mse(df_original_season,df_hyd),mse(df_original_season,df_missing_season.interpolate())"
      ],
      "execution_count": 0,
      "outputs": []
    },
    {
      "cell_type": "code",
      "metadata": {
        "id": "iphhbngCC5D3",
        "colab_type": "code",
        "colab": {}
      },
      "source": [
        "!python Residual.py"
      ],
      "execution_count": 0,
      "outputs": []
    },
    {
      "cell_type": "code",
      "metadata": {
        "id": "jGa1vSkTDED5",
        "colab_type": "code",
        "colab": {}
      },
      "source": [
        "from sklearn.metrics import mean_squared_error as mse\n",
        "df_res = pd.read_excel('/content/imputed_data_ for Residue.xlsx')\n",
        "mse(df_original_season,df_res),mse(df_original_season,df_missing_season.interpolate())"
      ],
      "execution_count": 0,
      "outputs": []
    },
    {
      "cell_type": "code",
      "metadata": {
        "id": "22dCMPaQFTQo",
        "colab_type": "code",
        "colab": {}
      },
      "source": [
        "!python LIMEGRU.py"
      ],
      "execution_count": 0,
      "outputs": []
    },
    {
      "cell_type": "code",
      "metadata": {
        "id": "nlLL8psGF_Xe",
        "colab_type": "code",
        "colab": {}
      },
      "source": [
        "from sklearn.metrics import mean_squared_error as mse\n",
        "df_gru1 = pd.read_excel('/content/imputed_data_ for GRU_new.xlsx')\n",
        "mse(df_original_season,df_gru1),mse(df_original_season,df_missing_season.interpolate())"
      ],
      "execution_count": 0,
      "outputs": []
    },
    {
      "cell_type": "code",
      "metadata": {
        "id": "JVmJsVUBGLmi",
        "colab_type": "code",
        "colab": {}
      },
      "source": [
        "!python LIMELSTM.py"
      ],
      "execution_count": 0,
      "outputs": []
    },
    {
      "cell_type": "code",
      "metadata": {
        "id": "uwE8YNBjGWTR",
        "colab_type": "code",
        "colab": {}
      },
      "source": [
        "from sklearn.metrics import mean_squared_error as mse\n",
        "df_lstm1 = pd.read_excel('/content/imputed_data_ for LSTM.xlsx')\n",
        "mse(df_original_season,df_lstm1),mse(df_original_season,df_missing_season.interpolate())"
      ],
      "execution_count": 0,
      "outputs": []
    },
    {
      "cell_type": "code",
      "metadata": {
        "id": "lCWls1RkP19B",
        "colab_type": "code",
        "colab": {}
      },
      "source": [
        "!python Residual.py"
      ],
      "execution_count": 0,
      "outputs": []
    },
    {
      "cell_type": "code",
      "metadata": {
        "id": "Ht7vdsE3P_fY",
        "colab_type": "code",
        "colab": {}
      },
      "source": [
        "from sklearn.metrics import mean_squared_error as mse\n",
        "df_res1 = pd.read_excel('/content/imputed_data_ for Residue_season.xlsx')\n",
        "mse(df_original_season,df_res1),mse(df_original_season,df_missing_season.interpolate())"
      ],
      "execution_count": 0,
      "outputs": []
    },
    {
      "cell_type": "code",
      "metadata": {
        "id": "t0vbxfJ1RumM",
        "colab_type": "code",
        "colab": {}
      },
      "source": [
        "!python LIMEGRU.py"
      ],
      "execution_count": 0,
      "outputs": []
    },
    {
      "cell_type": "code",
      "metadata": {
        "id": "BhehljX3SfwR",
        "colab_type": "code",
        "colab": {}
      },
      "source": [
        "from sklearn.metrics import mean_squared_error as mse\n",
        "df_gru2 = pd.read_excel('/content/imputed_data_ for GRU_season.xlsx')\n",
        "mse(df_original_season,df_gru2),mse(df_original_season,df_missing_season.interpolate())"
      ],
      "execution_count": 0,
      "outputs": []
    },
    {
      "cell_type": "code",
      "metadata": {
        "id": "Al4nAkkiTUnD",
        "colab_type": "code",
        "colab": {}
      },
      "source": [
        "!python Random.py"
      ],
      "execution_count": 0,
      "outputs": []
    },
    {
      "cell_type": "code",
      "metadata": {
        "id": "Rc07M9M7VT8g",
        "colab_type": "code",
        "colab": {}
      },
      "source": [
        "from sklearn.metrics import mean_squared_error as mse\n",
        "df_ran = pd.read_excel('/content/imputed_data_ for Random.xlsx')\n",
        "mse(df_original_season,df_ran),mse(df_original_season,df_missing_season.interpolate())"
      ],
      "execution_count": 0,
      "outputs": []
    },
    {
      "cell_type": "code",
      "metadata": {
        "id": "X7o3vCftXEmv",
        "colab_type": "code",
        "colab": {}
      },
      "source": [
        "from sklearn.metrics import mean_squared_error as mse\n",
        "df_ran = pd.read_excel('/content/imputed_data_ for Random.xlsx')\n",
        "mse(df_original_season,df_ran),mse(df_original_season,df_missing_season.interpolate())"
      ],
      "execution_count": 0,
      "outputs": []
    },
    {
      "cell_type": "code",
      "metadata": {
        "id": "q29n-NamZ2KY",
        "colab_type": "code",
        "colab": {}
      },
      "source": [
        "!python Hybrid_multiple.py"
      ],
      "execution_count": 0,
      "outputs": []
    },
    {
      "cell_type": "code",
      "metadata": {
        "id": "23e6s7hycMe2",
        "colab_type": "code",
        "colab": {}
      },
      "source": [
        "from sklearn.metrics import mean_squared_error as mse\n",
        "df_hmul = pd.read_excel('/content/imputed_data_ for Hybrid multiple.xlsx')\n",
        "mse(df_original_season,df_hmul),mse(df_original_season,df_missing_season.interpolate())"
      ],
      "execution_count": 0,
      "outputs": []
    },
    {
      "cell_type": "code",
      "metadata": {
        "id": "zajdj1BWcibL",
        "colab_type": "code",
        "colab": {}
      },
      "source": [
        "!python Random.py"
      ],
      "execution_count": 0,
      "outputs": []
    },
    {
      "cell_type": "code",
      "metadata": {
        "id": "yQGiZFeod0Rd",
        "colab_type": "code",
        "colab": {}
      },
      "source": [
        "from sklearn.metrics import mean_squared_error as mse\n",
        "df_ran1 = pd.read_excel('/content/imputed_data_ for Random1.xlsx')\n",
        "mse(df_original_season,df_ran1),mse(df_original_season,df_missing_season.interpolate(limit_direction='both'))"
      ],
      "execution_count": 0,
      "outputs": []
    },
    {
      "cell_type": "markdown",
      "metadata": {
        "id": "fbR-df9C9BET",
        "colab_type": "text"
      },
      "source": [
        "Trend and Seasonal"
      ]
    },
    {
      "cell_type": "code",
      "metadata": {
        "id": "zS_dbhJK9DXf",
        "colab_type": "code",
        "colab": {}
      },
      "source": [
        "slope = 0.05\n",
        "series_both = baseline + trend(time, slope) + seasonality(time, period=365, amplitude=amplitude)\n",
        "\n",
        "plt.figure(figsize=(10, 6))\n",
        "plot_series(time, series_both)\n",
        "plt.show()"
      ],
      "execution_count": 0,
      "outputs": []
    },
    {
      "cell_type": "code",
      "metadata": {
        "id": "sg1x31j19MVo",
        "colab_type": "code",
        "colab": {}
      },
      "source": [
        "noise = np.random.normal(0,10,1461)\n",
        "series_both_noise = series_both+noise"
      ],
      "execution_count": 0,
      "outputs": []
    },
    {
      "cell_type": "code",
      "metadata": {
        "id": "0BcULWVd9j8v",
        "colab_type": "code",
        "colab": {}
      },
      "source": [
        "import random\n",
        "series_both_missing=np.copy(series_both_noise)\n",
        "for i in range(1,len(series_noise)):\n",
        "    if random.random()<= 0.5:\n",
        "        series_both_missing[i]=np.nan"
      ],
      "execution_count": 0,
      "outputs": []
    },
    {
      "cell_type": "code",
      "metadata": {
        "id": "OiU5lyc39rPl",
        "colab_type": "code",
        "colab": {}
      },
      "source": [
        "plot_series(time,series_both_missing)"
      ],
      "execution_count": 0,
      "outputs": []
    },
    {
      "cell_type": "code",
      "metadata": {
        "id": "nvIc4HQq90zr",
        "colab_type": "code",
        "colab": {}
      },
      "source": [
        "df_original_both= pd.DataFrame(series_both_noise,columns=['Series'])\n",
        "df_missing_both= pd.DataFrame(series_both_missing,columns=['Series'])"
      ],
      "execution_count": 0,
      "outputs": []
    },
    {
      "cell_type": "code",
      "metadata": {
        "id": "ECUx2wL6-BFn",
        "colab_type": "code",
        "colab": {}
      },
      "source": [
        "df_missing_both.fillna(-1.0).to_csv('miss_data2.txt',header=None, index=None, sep='\\t', mode='a')"
      ],
      "execution_count": 0,
      "outputs": []
    },
    {
      "cell_type": "code",
      "metadata": {
        "id": "jB8INQuKe4ua",
        "colab_type": "code",
        "colab": {}
      },
      "source": [
        "df_original_both.to_excel('Both Original.xlsx')\n",
        "df_missing_both.fillna(-1.0).to_excel('Both Missing.xlsx')\n",
        "df_missing_both.interpolate(limit_direction='Both').to_excel('Both Linear.xlsx')"
      ],
      "execution_count": 0,
      "outputs": []
    },
    {
      "cell_type": "code",
      "metadata": {
        "id": "cXICwqj1-Nz3",
        "colab_type": "code",
        "colab": {}
      },
      "source": [
        "!python LIMELSTM.py"
      ],
      "execution_count": 0,
      "outputs": []
    },
    {
      "cell_type": "code",
      "metadata": {
        "id": "c-dzhLD3-Wrx",
        "colab_type": "code",
        "colab": {}
      },
      "source": [
        "from sklearn.metrics import mean_squared_error as mse\n",
        "df_lstm_both = pd.read_excel('/content/imputed_data_ for LSTM_both.xlsx')\n",
        "mse(df_original_both,df_lstm_both),mse(df_original_both,df_missing_both.interpolate(limit_direction='both'))"
      ],
      "execution_count": 0,
      "outputs": []
    },
    {
      "cell_type": "code",
      "metadata": {
        "id": "OkJApm5Z_Lpc",
        "colab_type": "code",
        "colab": {}
      },
      "source": [
        "!python LIMEGRU.py"
      ],
      "execution_count": 0,
      "outputs": []
    },
    {
      "cell_type": "code",
      "metadata": {
        "id": "MiCz2rtV_Vf0",
        "colab_type": "code",
        "colab": {}
      },
      "source": [
        "from sklearn.metrics import mean_squared_error as mse\n",
        "df_gru_both = pd.read_excel('/content/imputed_data_ for GRU_both.xlsx')\n",
        "mse(df_original_both,df_gru_both),mse(df_original_both,df_missing_both.interpolate(limit_direction='both'))"
      ],
      "execution_count": 0,
      "outputs": []
    },
    {
      "cell_type": "code",
      "metadata": {
        "id": "yJgY47BHAHpN",
        "colab_type": "code",
        "colab": {}
      },
      "source": [
        "!python Hybrid.py"
      ],
      "execution_count": 0,
      "outputs": []
    },
    {
      "cell_type": "code",
      "metadata": {
        "id": "fcWmDw7cAUa9",
        "colab_type": "code",
        "colab": {}
      },
      "source": [
        "from sklearn.metrics import mean_squared_error as mse\n",
        "df_hyd_both = pd.read_excel('/content/imputed_data_ for Hybrid_both.xlsx')\n",
        "mse(df_original_both,df_hyd_both),mse(df_original_both,df_missing_both.interpolate(limit_direction='both'))"
      ],
      "execution_count": 0,
      "outputs": []
    },
    {
      "cell_type": "code",
      "metadata": {
        "id": "0I3qJ7v_SYlY",
        "colab_type": "code",
        "colab": {}
      },
      "source": [
        "!python Hybrid_multiple.py"
      ],
      "execution_count": 0,
      "outputs": []
    },
    {
      "cell_type": "code",
      "metadata": {
        "id": "3o33ijYfSpPx",
        "colab_type": "code",
        "colab": {}
      },
      "source": [
        "from sklearn.metrics import mean_squared_error as mse\n",
        "df_hym_both = pd.read_excel('/content/imputed_data_ for Hybrid multiple Both.xlsx')\n",
        "mse(df_original_both,df_hym_both),mse(df_original_both,df_missing_both.interpolate(limit_direction='both'))"
      ],
      "execution_count": 0,
      "outputs": []
    },
    {
      "cell_type": "code",
      "metadata": {
        "id": "QonuwnbsgXCp",
        "colab_type": "code",
        "colab": {}
      },
      "source": [
        "!python Residual.py"
      ],
      "execution_count": 0,
      "outputs": []
    },
    {
      "cell_type": "code",
      "metadata": {
        "id": "7iNNKaXggqYa",
        "colab_type": "code",
        "colab": {}
      },
      "source": [
        "from sklearn.metrics import mean_squared_error as mse\n",
        "df_res_both = pd.read_excel('/content/imputed_data_ for Residue_both.xlsx')\n",
        "mse(df_original_both,df_res_both),mse(df_original_both,df_missing_both.interpolate(limit_direction='both'))"
      ],
      "execution_count": 0,
      "outputs": []
    },
    {
      "cell_type": "code",
      "metadata": {
        "id": "9C61wF1SioXa",
        "colab_type": "code",
        "colab": {}
      },
      "source": [
        "!python GRU_Deep.py"
      ],
      "execution_count": 0,
      "outputs": []
    },
    {
      "cell_type": "code",
      "metadata": {
        "id": "s-fj_G2-i2yg",
        "colab_type": "code",
        "colab": {}
      },
      "source": [
        "from sklearn.metrics import mean_squared_error as mse\n",
        "df_grd_both = pd.read_excel('/content/imputed_data_ for GRU_deep_both.xlsx')\n",
        "mse(df_original_both,df_grd_both),mse(df_original_both,df_missing_both.interpolate(limit_direction='both'))"
      ],
      "execution_count": 0,
      "outputs": []
    },
    {
      "cell_type": "code",
      "metadata": {
        "id": "ZsZKVKL7jZoI",
        "colab_type": "code",
        "colab": {}
      },
      "source": [
        "!python Random.py"
      ],
      "execution_count": 0,
      "outputs": []
    },
    {
      "cell_type": "code",
      "metadata": {
        "id": "ZbxaVWC2jdDj",
        "colab_type": "code",
        "colab": {}
      },
      "source": [
        "from sklearn.metrics import mean_squared_error as mse\n",
        "df_lgg_both = pd.read_excel('/content/imputed_data_ for lstm-gru-gru_both.xlsx')\n",
        "mse(df_original_both,df_lgg_both),mse(df_original_both,df_missing_both.interpolate(limit_direction='both'))"
      ],
      "execution_count": 0,
      "outputs": []
    },
    {
      "cell_type": "markdown",
      "metadata": {
        "id": "EiCXxi3h6erk",
        "colab_type": "text"
      },
      "source": [
        "Random Time Series"
      ]
    },
    {
      "cell_type": "code",
      "metadata": {
        "id": "Hzyt9BG86ivh",
        "colab_type": "code",
        "colab": {}
      },
      "source": [
        "import random\n",
        "import numpy as np\n",
        "time = np.arange(4 * 365 + 1)+50\n",
        "series_ran = np.random.normal(50,10,1461)\n",
        "plot_series(time,series_ran)"
      ],
      "execution_count": 0,
      "outputs": []
    },
    {
      "cell_type": "code",
      "metadata": {
        "id": "df0N86_-XGsu",
        "colab_type": "code",
        "colab": {}
      },
      "source": [
        "series_missing_ran=np.copy(series_ran)\n",
        "for i in range(1,len(series_ran)):\n",
        "    if random.random()<= 0.5:\n",
        "        series_missing_ran[i]=np.nan"
      ],
      "execution_count": 0,
      "outputs": []
    },
    {
      "cell_type": "code",
      "metadata": {
        "id": "h79KSpoaXXlO",
        "colab_type": "code",
        "colab": {}
      },
      "source": [
        "plot_series(time,series_missing_ran)"
      ],
      "execution_count": 0,
      "outputs": []
    },
    {
      "cell_type": "code",
      "metadata": {
        "id": "70qKyb8xXbLe",
        "colab_type": "code",
        "colab": {}
      },
      "source": [
        "np.count_nonzero(np.isnan(series_ran)),np.count_nonzero(np.isnan(series_missing_ran))"
      ],
      "execution_count": 0,
      "outputs": []
    },
    {
      "cell_type": "code",
      "metadata": {
        "id": "GuRv7TbzXq5s",
        "colab_type": "code",
        "colab": {}
      },
      "source": [
        "df_original_ran= pd.DataFrame(series_ran,columns=['Series'])\n",
        "df_missing_ran= pd.DataFrame(series_missing_ran,columns=['Series'])"
      ],
      "execution_count": 0,
      "outputs": []
    },
    {
      "cell_type": "code",
      "metadata": {
        "id": "Tb3AHr8AX32F",
        "colab_type": "code",
        "colab": {}
      },
      "source": [
        "df_original_ran.to_excel('Random Original.xlsx')\n",
        "df_missing_ran.fillna(-1.0).to_excel('Random Missing.xlsx')\n",
        "df_missing_ran.fillna(-1.0).to_csv('miss_data.txt', header=None, index=None, sep='\\t', mode='a')"
      ],
      "execution_count": 0,
      "outputs": []
    },
    {
      "cell_type": "code",
      "metadata": {
        "id": "XFPV3jAGYgUD",
        "colab_type": "code",
        "colab": {}
      },
      "source": [
        "!python LIMELSTM.py"
      ],
      "execution_count": 0,
      "outputs": []
    },
    {
      "cell_type": "code",
      "metadata": {
        "id": "LJWOJ6Z-ZLS2",
        "colab_type": "code",
        "colab": {}
      },
      "source": [
        "from sklearn.metrics import mean_squared_error as mse\n",
        "df_lstm = pd.read_excel('/content/imputed_data_ for LSTM_Random.xlsx')\n",
        "mse(df_original_ran,df_lstm),mse(df_original_ran,df_missing_ran.interpolate(limit_direction='both'))\n",
        "mae(df_original_ran,df_lstm),mae(df_original_ran,df_missing_ran.interpolate(limit_direction='both'))"
      ],
      "execution_count": 0,
      "outputs": []
    },
    {
      "cell_type": "code",
      "metadata": {
        "id": "qIQj2DYiaAoN",
        "colab_type": "code",
        "colab": {}
      },
      "source": [
        "!python LIMEGRU.py"
      ],
      "execution_count": 0,
      "outputs": []
    },
    {
      "cell_type": "code",
      "metadata": {
        "id": "UKZmi5yzaoI7",
        "colab_type": "code",
        "colab": {}
      },
      "source": [
        "from sklearn.metrics import mean_squared_error as mse\n",
        "df_gru = pd.read_excel('/content/imputed_data_ for GRU_Random.xlsx')\n",
        "mse(df_original_ran,df_gru),mse(df_original_ran,df_missing_ran.interpolate(limit_direction='both'))\n",
        "mae(df_original_ran,df_gru),mae(df_original_ran,df_missing_ran.interpolate(limit_direction='both'))"
      ],
      "execution_count": 0,
      "outputs": []
    },
    {
      "cell_type": "code",
      "metadata": {
        "id": "e2yQbA1hfKEE",
        "colab_type": "code",
        "colab": {}
      },
      "source": [
        "!python Hybrid.py"
      ],
      "execution_count": 0,
      "outputs": []
    },
    {
      "cell_type": "code",
      "metadata": {
        "id": "z-hPeSeNfcZ8",
        "colab_type": "code",
        "colab": {}
      },
      "source": [
        "from sklearn.metrics import mean_squared_error as mse\n",
        "df_hyd = pd.read_excel('/content/imputed_data_ for Hybrid_Random.xlsx')\n",
        "mse(df_original_ran,df_hyd),mse(df_original_ran,df_missing_ran.interpolate(limit_direction='both'))\n",
        "mae(df_original_ran,df_hyd),mae(df_original_ran,df_missing_ran.interpolate(limit_direction='both'))"
      ],
      "execution_count": 0,
      "outputs": []
    },
    {
      "cell_type": "code",
      "metadata": {
        "id": "diJzg_wXqjpK",
        "colab_type": "code",
        "colab": {}
      },
      "source": [
        "!python Hybrid_multiple.py"
      ],
      "execution_count": 0,
      "outputs": []
    },
    {
      "cell_type": "code",
      "metadata": {
        "id": "Elrm8hyVquZ5",
        "colab_type": "code",
        "colab": {}
      },
      "source": [
        "from sklearn.metrics import mean_squared_error as mse\n",
        "df_hym = pd.read_excel('/content/imputed_data_ for Hybrid multiple Random.xlsx')\n",
        "mse(df_original_ran,df_hym),mse(df_original_ran,df_missing_ran.interpolate(limit_direction='both'))\n",
        "print(mae(df_original_ran,df_hym),mae(df_original_ran,df_missing_ran.interpolate(limit_direction='both')))"
      ],
      "execution_count": 0,
      "outputs": []
    },
    {
      "cell_type": "code",
      "metadata": {
        "id": "AKhzdshcq7NH",
        "colab_type": "code",
        "colab": {}
      },
      "source": [
        "!python GRU_Deep.py"
      ],
      "execution_count": 0,
      "outputs": []
    },
    {
      "cell_type": "code",
      "metadata": {
        "id": "IkTUpExCrE4N",
        "colab_type": "code",
        "colab": {}
      },
      "source": [
        "from sklearn.metrics import mean_squared_error as mse\n",
        "df_grd = pd.read_excel('/content/imputed_data_ for GRU_deep_Random.xlsx')\n",
        "mse(df_original_ran,df_grd),mse(df_original_ran,df_missing_ran.interpolate(limit_direction='both'))\n",
        "print(mae(df_original_ran,df_grd),mae(df_original_ran,df_missing_ran.interpolate(limit_direction='both')))"
      ],
      "execution_count": 0,
      "outputs": []
    },
    {
      "cell_type": "code",
      "metadata": {
        "id": "se7-Z6_irp5v",
        "colab_type": "code",
        "colab": {}
      },
      "source": [
        "!python Random.py"
      ],
      "execution_count": 0,
      "outputs": []
    },
    {
      "cell_type": "code",
      "metadata": {
        "id": "QUOTgn-erMeF",
        "colab_type": "code",
        "colab": {}
      },
      "source": [
        "from sklearn.metrics import mean_squared_error as mse\n",
        "df_lgg = pd.read_excel('/content/imputed_data_ for lstm-gru-gru-Random.xlsx')\n",
        "mse(df_original_ran,df_lgg),mse(df_original_ran,df_missing_ran.interpolate(limit_direction='both'))\n",
        "print(mae(df_original_ran,df_lgg),mae(df_original_ran,df_missing_ran.interpolate(limit_direction='both')))"
      ],
      "execution_count": 0,
      "outputs": []
    },
    {
      "cell_type": "code",
      "metadata": {
        "id": "Plr12Bs2roJl",
        "colab_type": "code",
        "colab": {}
      },
      "source": [
        "!python Residual.py"
      ],
      "execution_count": 0,
      "outputs": []
    },
    {
      "cell_type": "code",
      "metadata": {
        "id": "W0HZJup4r2Vq",
        "colab_type": "code",
        "colab": {}
      },
      "source": [
        "from sklearn.metrics import mean_squared_error as mse\n",
        "from sklearn.metrics import mean_absolute_error as mae\n",
        "df_res = pd.read_excel('/content/imputed_data_ for Residue_Random.xlsx')\n",
        "print(mse(df_original_ran,df_res),mse(df_original_ran,df_missing_ran.interpolate(limit_direction='both')))\n",
        "print(mae(df_original_ran,df_res),mae(df_original_ran,df_missing_ran.interpolate(limit_direction='both')))"
      ],
      "execution_count": 0,
      "outputs": []
    },
    {
      "cell_type": "code",
      "metadata": {
        "id": "I0tixKmG0wqr",
        "colab_type": "code",
        "colab": {}
      },
      "source": [
        "df_missing_ran.interpolate(limit_direction='both').to_excel('Random Linear.xlsx')"
      ],
      "execution_count": 0,
      "outputs": []
    },
    {
      "cell_type": "code",
      "metadata": {
        "id": "ywL1hQh21Sq5",
        "colab_type": "code",
        "colab": {}
      },
      "source": [
        "from sklearn.metrics import mean_squared_error as mse\n",
        "from sklearn.metrics import mean_absolute_error as mae\n",
        "\n",
        "ecal = pd.read_excel('/content/MSE for python.xlsx')\n",
        "ecal.head()\n",
        "for i in ecal.columns:\n",
        "    print('the mse for',i,'is:',mse(ecal['Original'],ecal[i]))\n",
        "print('------------------')\n",
        "for i in ecal.columns:\n",
        "    print('the mae for',i,'is:',mae(ecal['Original'],ecal[i]))\n"
      ],
      "execution_count": 0,
      "outputs": []
    },
    {
      "cell_type": "markdown",
      "metadata": {
        "id": "YImN6PyYRvwH",
        "colab_type": "text"
      },
      "source": [
        "# Ensembling\n"
      ]
    },
    {
      "cell_type": "markdown",
      "metadata": {
        "id": "r1O6-poSzxpb",
        "colab_type": "text"
      },
      "source": [
        "Trend Ensembling"
      ]
    },
    {
      "cell_type": "code",
      "metadata": {
        "id": "2ejhWWBdDmZK",
        "colab_type": "code",
        "colab": {}
      },
      "source": [
        "df = pd.read_excel('/content/Trend Missing.xlsx')\n",
        "df.replace(-1.0,np.nan,inplace=True)\n",
        "df.head()\n",
        "df.drop(columns=['Unnamed: 0'],inplace=True)\n",
        "print(df.isnull().sum())"
      ],
      "execution_count": 0,
      "outputs": []
    },
    {
      "cell_type": "code",
      "metadata": {
        "id": "WUXD57PNy5cR",
        "colab_type": "code",
        "colab": {}
      },
      "source": [
        "import random\n",
        "series_missing=np.copy(df.values)\n",
        "for i in range(1,len(df.values)):\n",
        "    if random.random()<= 0.10:\n",
        "        series_missing[i]=np.nan"
      ],
      "execution_count": 0,
      "outputs": []
    },
    {
      "cell_type": "code",
      "metadata": {
        "id": "UYin_R47zxJA",
        "colab_type": "code",
        "colab": {}
      },
      "source": [
        "df_missing = pd.DataFrame(series_missing,columns=['Series'])\n",
        "print(df_missing.isnull().sum())\n",
        "print(df.shape,df_missing.shape)"
      ],
      "execution_count": 0,
      "outputs": []
    },
    {
      "cell_type": "code",
      "metadata": {
        "id": "hj7wECW1z8QT",
        "colab_type": "code",
        "colab": {}
      },
      "source": [
        "df_missing.fillna(-1.0).to_excel('Trend Further missing.xlsx')\n",
        "df_missing.fillna(-1.0).to_csv('miss_data.txt', header=None, index=None, sep='\\t', mode='a')"
      ],
      "execution_count": 0,
      "outputs": []
    },
    {
      "cell_type": "code",
      "metadata": {
        "id": "kGMxmOXl2GnP",
        "colab_type": "code",
        "colab": {}
      },
      "source": [
        "!python LIMEGRU.py"
      ],
      "execution_count": 0,
      "outputs": []
    },
    {
      "cell_type": "code",
      "metadata": {
        "id": "eLKHZ92Q2NXv",
        "colab_type": "code",
        "colab": {}
      },
      "source": [
        "!python Residual.py"
      ],
      "execution_count": 0,
      "outputs": []
    },
    {
      "cell_type": "code",
      "metadata": {
        "id": "QTsfsT_43Fjp",
        "colab_type": "code",
        "colab": {}
      },
      "source": [
        "mdf = pd.read_excel('/content/ML Ensemble Training.xlsx')\n",
        "mdf.head()"
      ],
      "execution_count": 0,
      "outputs": []
    },
    {
      "cell_type": "code",
      "metadata": {
        "id": "ufk9_t-F5vMk",
        "colab_type": "code",
        "colab": {}
      },
      "source": [
        "x_train = mdf[['GRU','Residual']].values\n",
        "y_train=mdf[['Original']].values\n",
        "type(x_train),x_train.shape,type(y_train),y_train.shape"
      ],
      "execution_count": 0,
      "outputs": []
    },
    {
      "cell_type": "code",
      "metadata": {
        "id": "8GnVJxfi6JA7",
        "colab_type": "code",
        "colab": {}
      },
      "source": [
        "from sklearn.svm import SVR\n",
        "import numpy as np\n",
        "import sklearn.model_selection\n",
        "import sklearn.datasets\n",
        "import sklearn.metrics\n",
        "# import autosklearn.regression\n",
        "from sklearn import ensemble\n",
        "from sklearn.metrics import mean_squared_error as mse\n",
        "from sklearn.metrics import mean_absolute_error as mae"
      ],
      "execution_count": 0,
      "outputs": []
    },
    {
      "cell_type": "code",
      "metadata": {
        "id": "IEqpBEzi7wJa",
        "colab_type": "code",
        "colab": {}
      },
      "source": [
        "gbr = ensemble.GradientBoostingRegressor()\n",
        "clf = SVR(kernel='linear')\n",
        "clf.fit(x_train,y_train)\n",
        "gbr.fit(x_train,y_train)"
      ],
      "execution_count": 0,
      "outputs": []
    },
    {
      "cell_type": "code",
      "metadata": {
        "id": "IeUS0vmJ6QxR",
        "colab_type": "code",
        "colab": {}
      },
      "source": [
        "ytest = pd.read_excel('/content/y_test.xlsx').values\n",
        "xtest = pd.read_excel('/content/x_test.xlsx').values\n",
        "type(ytest),ytest.shape,type(xtest),xtest.shape"
      ],
      "execution_count": 0,
      "outputs": []
    },
    {
      "cell_type": "code",
      "metadata": {
        "id": "hw6Je9iA6WJH",
        "colab_type": "code",
        "colab": {}
      },
      "source": [
        "predictions = clf.predict(xtest)\n",
        "predictions2 = gbr.predict(xtest)"
      ],
      "execution_count": 0,
      "outputs": []
    },
    {
      "cell_type": "code",
      "metadata": {
        "id": "0DDkXTz36iei",
        "colab_type": "code",
        "colab": {}
      },
      "source": [
        "mse(ytest,predictions),mae(ytest,predictions),mse(ytest,predictions2),mae(ytest,predictions2)"
      ],
      "execution_count": 0,
      "outputs": []
    },
    {
      "cell_type": "markdown",
      "metadata": {
        "id": "FBnnMvtBz0mX",
        "colab_type": "text"
      },
      "source": [
        "Seasonal Ensembling"
      ]
    },
    {
      "cell_type": "code",
      "metadata": {
        "id": "Xzpigavg9LMF",
        "colab_type": "code",
        "colab": {}
      },
      "source": [
        "df = pd.read_excel('/content/Seasonal Missing.xlsx')\n",
        "df.replace(-1.0,np.nan,inplace=True)\n",
        "print(df.head())\n",
        "df.drop(columns=['Unnamed: 0'],inplace=True)\n",
        "print(df.isnull().sum())"
      ],
      "execution_count": 0,
      "outputs": []
    },
    {
      "cell_type": "code",
      "metadata": {
        "id": "C4t6WmHr0G_L",
        "colab_type": "code",
        "colab": {}
      },
      "source": [
        "import random\n",
        "series_missing=np.copy(df.values)\n",
        "for i in range(1,len(df.values)):\n",
        "    if random.random()<= 0.10:\n",
        "        series_missing[i]=np.nan"
      ],
      "execution_count": 0,
      "outputs": []
    },
    {
      "cell_type": "code",
      "metadata": {
        "id": "ShwEufdk0Q66",
        "colab_type": "code",
        "colab": {}
      },
      "source": [
        "df_missing = pd.DataFrame(series_missing,columns=['Series'])\n",
        "print(df_missing.isnull().sum())\n",
        "print(df.shape,df_missing.shape)"
      ],
      "execution_count": 0,
      "outputs": []
    },
    {
      "cell_type": "code",
      "metadata": {
        "id": "GseNMl6X0ThH",
        "colab_type": "code",
        "colab": {}
      },
      "source": [
        "df_missing.fillna(-1.0).to_excel('Seasonal Further missing.xlsx')\n",
        "df_missing.fillna(-1.0).to_csv('miss_data.txt', header=None, index=None, sep='\\t', mode='a')"
      ],
      "execution_count": 0,
      "outputs": []
    },
    {
      "cell_type": "code",
      "metadata": {
        "id": "JspFt8Fp0YEB",
        "colab_type": "code",
        "colab": {}
      },
      "source": [
        "!python Random.py"
      ],
      "execution_count": 0,
      "outputs": []
    },
    {
      "cell_type": "code",
      "metadata": {
        "id": "QMp1aRDR0647",
        "colab_type": "code",
        "colab": {}
      },
      "source": [
        "!python Residual.py"
      ],
      "execution_count": 0,
      "outputs": []
    },
    {
      "cell_type": "code",
      "metadata": {
        "id": "8CYj1c233w3U",
        "colab_type": "code",
        "colab": {}
      },
      "source": [
        "mdf = pd.read_excel('/content/ML Ensemble Training.xlsx')\n",
        "print(mdf.head())\n",
        "x_train = mdf[['LSTM GRU GRU','Residual']].values\n",
        "y_train=mdf[['Orignial']].values\n",
        "type(x_train),x_train.shape,type(y_train),y_train.shape"
      ],
      "execution_count": 0,
      "outputs": []
    },
    {
      "cell_type": "code",
      "metadata": {
        "id": "lC2nlzfL63xO",
        "colab_type": "code",
        "colab": {}
      },
      "source": [
        "ytest = pd.read_excel('/content/y_test.xlsx').values\n",
        "xtest = pd.read_excel('/content/x_test.xlsx').values\n",
        "type(ytest),ytest.shape,type(xtest),xtest.shape"
      ],
      "execution_count": 0,
      "outputs": []
    },
    {
      "cell_type": "code",
      "metadata": {
        "id": "i49bNG-k5UdO",
        "colab_type": "code",
        "colab": {}
      },
      "source": [
        "gbr = ensemble.GradientBoostingRegressor()\n",
        "clf = SVR(kernel='linear')\n",
        "clf.fit(x_train,y_train)\n",
        "gbr.fit(x_train,y_train)\n",
        "predictions = clf.predict(xtest)\n",
        "predictions2 = gbr.predict(xtest)"
      ],
      "execution_count": 0,
      "outputs": []
    },
    {
      "cell_type": "code",
      "metadata": {
        "id": "-eaOTYbW6o89",
        "colab_type": "code",
        "colab": {}
      },
      "source": [
        "mse(ytest,predictions),mae(ytest,predictions),mse(ytest,predictions2),mae(ytest,predictions2)"
      ],
      "execution_count": 0,
      "outputs": []
    },
    {
      "cell_type": "code",
      "metadata": {
        "id": "7oI96i3K69Pr",
        "colab_type": "code",
        "colab": {}
      },
      "source": [
        "import numpy as np\n",
        "from sklearn.linear_model import LinearRegression\n",
        "\n",
        "reg = LinearRegression().fit(x_train, y_train)\n",
        "print(reg.score(x_train, y_train))\n",
        "\n",
        "# reg.coef_\n",
        "\n",
        "# reg.intercept_\n",
        "\n",
        "lr_pred=reg.predict(xtest)\n"
      ],
      "execution_count": 0,
      "outputs": []
    },
    {
      "cell_type": "code",
      "metadata": {
        "id": "y0ZwV3Vm7e7h",
        "colab_type": "code",
        "colab": {}
      },
      "source": [
        "mse(ytest,lr_pred),mae(ytest,lr_pred)"
      ],
      "execution_count": 0,
      "outputs": []
    },
    {
      "cell_type": "code",
      "metadata": {
        "id": "yMTSrYrZ7jNF",
        "colab_type": "code",
        "colab": {}
      },
      "source": [
        "from sklearn.ensemble import AdaBoostRegressor\n",
        "model = AdaBoostRegressor()\n",
        "model.fit(x_train, y_train)\n",
        "# model.score(x_test,y_test)"
      ],
      "execution_count": 0,
      "outputs": []
    },
    {
      "cell_type": "code",
      "metadata": {
        "id": "i8h9czXZ84Ga",
        "colab_type": "code",
        "colab": {}
      },
      "source": [
        "mse(ytest,model.predict(xtest)),mae(ytest,model.predict(xtest))"
      ],
      "execution_count": 0,
      "outputs": []
    },
    {
      "cell_type": "code",
      "metadata": {
        "id": "L8r6nGsr8_ee",
        "colab_type": "code",
        "colab": {}
      },
      "source": [
        "import xgboost as xgb\n",
        "model1=xgb.XGBRegressor()\n",
        "model1.fit(x_train, y_train)\n",
        "# model.score(x_test,y_test)"
      ],
      "execution_count": 0,
      "outputs": []
    },
    {
      "cell_type": "code",
      "metadata": {
        "id": "VdVaFc6O9cz4",
        "colab_type": "code",
        "colab": {}
      },
      "source": [
        "mse(ytest,model1.predict(xtest)),mae(ytest,model1.predict(xtest))"
      ],
      "execution_count": 0,
      "outputs": []
    },
    {
      "cell_type": "code",
      "metadata": {
        "id": "DIDJbuLT9fDM",
        "colab_type": "code",
        "colab": {}
      },
      "source": [
        "from sklearn.neighbors import KNeighborsRegressor\n",
        "neigh = KNeighborsRegressor(n_neighbors=30)\n",
        "neigh.fit(x_train, y_train)\n",
        "mse(ytest,neigh.predict(xtest)),mae(ytest,neigh.predict(xtest))"
      ],
      "execution_count": 0,
      "outputs": []
    },
    {
      "cell_type": "code",
      "metadata": {
        "id": "_O8jbsWl-fp7",
        "colab_type": "code",
        "colab": {}
      },
      "source": [
        "from sklearn import linear_model\n",
        "reg = linear_model.Lasso()\n",
        "reg.fit(x_train, y_train)\n",
        "mse(ytest,reg.predict(xtest)),mae(ytest,reg.predict(xtest))"
      ],
      "execution_count": 0,
      "outputs": []
    },
    {
      "cell_type": "code",
      "metadata": {
        "id": "XhenQ3mS-8Iu",
        "colab_type": "code",
        "colab": {}
      },
      "source": [
        "avg = (reg.predict(xtest).reshape(-1,1)+lr_pred.reshape(-1,1)+predictions.reshape(-1,1))"
      ],
      "execution_count": 0,
      "outputs": []
    },
    {
      "cell_type": "code",
      "metadata": {
        "id": "UCZtkZfk_V3f",
        "colab_type": "code",
        "colab": {}
      },
      "source": [
        "avg.shape"
      ],
      "execution_count": 0,
      "outputs": []
    },
    {
      "cell_type": "code",
      "metadata": {
        "id": "dIsH72E4_YAG",
        "colab_type": "code",
        "colab": {}
      },
      "source": [
        "avg=avg/3"
      ],
      "execution_count": 0,
      "outputs": []
    },
    {
      "cell_type": "code",
      "metadata": {
        "id": "pHHt1U2b_0Fg",
        "colab_type": "code",
        "colab": {}
      },
      "source": [
        "avg.shape,ytest.shape"
      ],
      "execution_count": 0,
      "outputs": []
    },
    {
      "cell_type": "code",
      "metadata": {
        "id": "7W6qY-pR_0_u",
        "colab_type": "code",
        "colab": {}
      },
      "source": [
        "mae(ytest,avg)"
      ],
      "execution_count": 0,
      "outputs": []
    },
    {
      "cell_type": "markdown",
      "metadata": {
        "id": "3IjiTI-FTcnT",
        "colab_type": "text"
      },
      "source": [
        "Both Ensembling"
      ]
    },
    {
      "cell_type": "code",
      "metadata": {
        "id": "sQHynfnb_45N",
        "colab_type": "code",
        "colab": {
          "base_uri": "https://localhost:8080/",
          "height": 153
        },
        "outputId": "e4acfe72-2877-42fd-cf01-9cc7c77af765"
      },
      "source": [
        "df = pd.read_excel('/content/Both Missing.xlsx')\n",
        "df.replace(-1.0,np.nan,inplace=True)\n",
        "print(df.head())\n",
        "df.drop(columns=['Unnamed: 0'],inplace=True)\n",
        "print(df.isnull().sum())"
      ],
      "execution_count": 6,
      "outputs": [
        {
          "output_type": "stream",
          "text": [
            "   Unnamed: 0      Series\n",
            "0           0  236.841804\n",
            "1           1         NaN\n",
            "2           2         NaN\n",
            "3           3         NaN\n",
            "4           4         NaN\n",
            "Series    718\n",
            "dtype: int64\n"
          ],
          "name": "stdout"
        }
      ]
    },
    {
      "cell_type": "code",
      "metadata": {
        "id": "KdxUvrl_UEOM",
        "colab_type": "code",
        "colab": {}
      },
      "source": [
        "import random\n",
        "series_missing=np.copy(df.values)\n",
        "for i in range(1,len(df.values)):\n",
        "    if random.random()<= 0.10:\n",
        "        series_missing[i]=np.nan"
      ],
      "execution_count": 0,
      "outputs": []
    },
    {
      "cell_type": "code",
      "metadata": {
        "id": "iF7ya_73UJB8",
        "colab_type": "code",
        "colab": {
          "base_uri": "https://localhost:8080/",
          "height": 68
        },
        "outputId": "d489c697-e5b8-4775-8e9b-61d989436faa"
      },
      "source": [
        "df_missing = pd.DataFrame(series_missing,columns=['Series'])\n",
        "print(df_missing.isnull().sum())\n",
        "print(df.shape,df_missing.shape)"
      ],
      "execution_count": 9,
      "outputs": [
        {
          "output_type": "stream",
          "text": [
            "Series    781\n",
            "dtype: int64\n",
            "(1461, 1) (1461, 1)\n"
          ],
          "name": "stdout"
        }
      ]
    },
    {
      "cell_type": "code",
      "metadata": {
        "id": "0S8txN7UUMCo",
        "colab_type": "code",
        "colab": {}
      },
      "source": [
        "df_missing.fillna(-1.0).to_excel('Both Further missing.xlsx')\n",
        "df_missing.fillna(-1.0).to_csv('miss_data.txt', header=None, index=None, sep='\\t', mode='a')"
      ],
      "execution_count": 0,
      "outputs": []
    },
    {
      "cell_type": "code",
      "metadata": {
        "id": "5UwFQOGfUQ1a",
        "colab_type": "code",
        "colab": {
          "base_uri": "https://localhost:8080/",
          "height": 1000
        },
        "outputId": "12ff04a2-4215-42ad-9072-691008c74f68"
      },
      "source": [
        "!python LIMEGRU.py"
      ],
      "execution_count": 11,
      "outputs": [
        {
          "output_type": "stream",
          "text": [
            "WARNING:tensorflow:From LIMEGRU.py:142: The name tf.app.run is deprecated. Please use tf.compat.v1.app.run instead.\n",
            "\n",
            "I0222 23:57:22.929220 139884865714048 utils.py:141] NumExpr defaulting to 2 threads.\n",
            "WARNING:tensorflow:From LIMEGRU.py:114: The name tf.ConfigProto is deprecated. Please use tf.compat.v1.ConfigProto instead.\n",
            "\n",
            "W0222 23:57:22.937943 139884865714048 module_wrapper.py:139] From LIMEGRU.py:114: The name tf.ConfigProto is deprecated. Please use tf.compat.v1.ConfigProto instead.\n",
            "\n",
            "WARNING:tensorflow:From LIMEGRU.py:117: The name tf.Session is deprecated. Please use tf.compat.v1.Session instead.\n",
            "\n",
            "W0222 23:57:22.938246 139884865714048 module_wrapper.py:139] From LIMEGRU.py:117: The name tf.Session is deprecated. Please use tf.compat.v1.Session instead.\n",
            "\n",
            "2020-02-22 23:57:22.956192: I tensorflow/core/platform/profile_utils/cpu_utils.cc:94] CPU Frequency: 2300000000 Hz\n",
            "2020-02-22 23:57:22.959787: I tensorflow/compiler/xla/service/service.cc:168] XLA service 0x3200bc0 initialized for platform Host (this does not guarantee that XLA will be used). Devices:\n",
            "2020-02-22 23:57:22.959843: I tensorflow/compiler/xla/service/service.cc:176]   StreamExecutor device (0): Host, Default Version\n",
            "2020-02-22 23:57:22.994326: I tensorflow/stream_executor/platform/default/dso_loader.cc:44] Successfully opened dynamic library libcuda.so.1\n",
            "2020-02-22 23:57:23.065934: E tensorflow/stream_executor/cuda/cuda_driver.cc:318] failed call to cuInit: CUDA_ERROR_NO_DEVICE: no CUDA-capable device is detected\n",
            "2020-02-22 23:57:23.066005: I tensorflow/stream_executor/cuda/cuda_diagnostics.cc:156] kernel driver does not appear to be running on this host (3114d6793ca9): /proc/driver/nvidia/version does not exist\n",
            "WARNING:tensorflow:From LIMEGRU.py:120: The name tf.variable_scope is deprecated. Please use tf.compat.v1.variable_scope instead.\n",
            "\n",
            "W0222 23:57:23.066705 139884865714048 module_wrapper.py:139] From LIMEGRU.py:120: The name tf.variable_scope is deprecated. Please use tf.compat.v1.variable_scope instead.\n",
            "\n",
            "WARNING:tensorflow:From LIMEGRU.py:30: The name tf.placeholder is deprecated. Please use tf.compat.v1.placeholder instead.\n",
            "\n",
            "W0222 23:57:23.067153 139884865714048 module_wrapper.py:139] From LIMEGRU.py:30: The name tf.placeholder is deprecated. Please use tf.compat.v1.placeholder instead.\n",
            "\n",
            "WARNING:tensorflow:From LIMEGRU.py:32: GRUCell.__init__ (from tensorflow.python.ops.rnn_cell_impl) is deprecated and will be removed in a future version.\n",
            "Instructions for updating:\n",
            "This class is equivalent as tf.keras.layers.GRUCell, and will be replaced by that in Tensorflow 2.0.\n",
            "W0222 23:57:23.068780 139884865714048 deprecation.py:323] From LIMEGRU.py:32: GRUCell.__init__ (from tensorflow.python.ops.rnn_cell_impl) is deprecated and will be removed in a future version.\n",
            "Instructions for updating:\n",
            "This class is equivalent as tf.keras.layers.GRUCell, and will be replaced by that in Tensorflow 2.0.\n",
            "WARNING:tensorflow:From LIMEGRU.py:33: MultiRNNCell.__init__ (from tensorflow.python.ops.rnn_cell_impl) is deprecated and will be removed in a future version.\n",
            "Instructions for updating:\n",
            "This class is equivalent as tf.keras.layers.StackedRNNCells, and will be replaced by that in Tensorflow 2.0.\n",
            "W0222 23:57:23.070953 139884865714048 deprecation.py:323] From LIMEGRU.py:33: MultiRNNCell.__init__ (from tensorflow.python.ops.rnn_cell_impl) is deprecated and will be removed in a future version.\n",
            "Instructions for updating:\n",
            "This class is equivalent as tf.keras.layers.StackedRNNCells, and will be replaced by that in Tensorflow 2.0.\n",
            "WARNING:tensorflow:From /usr/local/lib/python3.6/dist-packages/tensorflow_core/python/ops/rnn_cell_impl.py:559: Layer.add_variable (from tensorflow.python.keras.engine.base_layer) is deprecated and will be removed in a future version.\n",
            "Instructions for updating:\n",
            "Please use `layer.add_weight` method instead.\n",
            "W0222 23:57:23.103085 139884865714048 deprecation.py:323] From /usr/local/lib/python3.6/dist-packages/tensorflow_core/python/ops/rnn_cell_impl.py:559: Layer.add_variable (from tensorflow.python.keras.engine.base_layer) is deprecated and will be removed in a future version.\n",
            "Instructions for updating:\n",
            "Please use `layer.add_weight` method instead.\n",
            "WARNING:tensorflow:From /usr/local/lib/python3.6/dist-packages/tensorflow_core/python/ops/rnn_cell_impl.py:565: calling Constant.__init__ (from tensorflow.python.ops.init_ops) with dtype is deprecated and will be removed in a future version.\n",
            "Instructions for updating:\n",
            "Call initializer instance with the dtype argument instead of passing it to the constructor\n",
            "W0222 23:57:23.111507 139884865714048 deprecation.py:506] From /usr/local/lib/python3.6/dist-packages/tensorflow_core/python/ops/rnn_cell_impl.py:565: calling Constant.__init__ (from tensorflow.python.ops.init_ops) with dtype is deprecated and will be removed in a future version.\n",
            "Instructions for updating:\n",
            "Call initializer instance with the dtype argument instead of passing it to the constructor\n",
            "WARNING:tensorflow:From /usr/local/lib/python3.6/dist-packages/tensorflow_core/python/ops/rnn_cell_impl.py:575: calling Zeros.__init__ (from tensorflow.python.ops.init_ops) with dtype is deprecated and will be removed in a future version.\n",
            "Instructions for updating:\n",
            "Call initializer instance with the dtype argument instead of passing it to the constructor\n",
            "W0222 23:57:23.121875 139884865714048 deprecation.py:506] From /usr/local/lib/python3.6/dist-packages/tensorflow_core/python/ops/rnn_cell_impl.py:575: calling Zeros.__init__ (from tensorflow.python.ops.init_ops) with dtype is deprecated and will be removed in a future version.\n",
            "Instructions for updating:\n",
            "Call initializer instance with the dtype argument instead of passing it to the constructor\n",
            "WARNING:tensorflow:From LIMEGRU.py:41: The name tf.get_variable_scope is deprecated. Please use tf.compat.v1.get_variable_scope instead.\n",
            "\n",
            "W0222 23:57:23.137850 139884865714048 module_wrapper.py:139] From LIMEGRU.py:41: The name tf.get_variable_scope is deprecated. Please use tf.compat.v1.get_variable_scope instead.\n",
            "\n",
            "WARNING:tensorflow:From LIMEGRU.py:49: where (from tensorflow.python.ops.array_ops) is deprecated and will be removed in a future version.\n",
            "Instructions for updating:\n",
            "Use tf.where in 2.0, which has the same broadcast rule as np.where\n",
            "W0222 23:57:23.144672 139884865714048 deprecation.py:323] From LIMEGRU.py:49: where (from tensorflow.python.ops.array_ops) is deprecated and will be removed in a future version.\n",
            "Instructions for updating:\n",
            "Use tf.where in 2.0, which has the same broadcast rule as np.where\n",
            "WARNING:tensorflow:From LIMEGRU.py:70: The name tf.train.AdamOptimizer is deprecated. Please use tf.compat.v1.train.AdamOptimizer instead.\n",
            "\n",
            "W0222 23:57:23.852163 139884865714048 module_wrapper.py:139] From LIMEGRU.py:70: The name tf.train.AdamOptimizer is deprecated. Please use tf.compat.v1.train.AdamOptimizer instead.\n",
            "\n",
            "WARNING:tensorflow:From LIMEGRU.py:73: The name tf.assign is deprecated. Please use tf.compat.v1.assign instead.\n",
            "\n",
            "W0222 23:57:26.314041 139884865714048 module_wrapper.py:139] From LIMEGRU.py:73: The name tf.assign is deprecated. Please use tf.compat.v1.assign instead.\n",
            "\n",
            "WARNING:tensorflow:From /usr/local/lib/python3.6/dist-packages/tensorflow_core/python/util/tf_should_use.py:198: initialize_all_variables (from tensorflow.python.ops.variables) is deprecated and will be removed after 2017-03-02.\n",
            "Instructions for updating:\n",
            "Use `tf.global_variables_initializer` instead.\n",
            "W0222 23:57:26.315102 139884865714048 deprecation.py:323] From /usr/local/lib/python3.6/dist-packages/tensorflow_core/python/util/tf_should_use.py:198: initialize_all_variables (from tensorflow.python.ops.variables) is deprecated and will be removed after 2017-03-02.\n",
            "Instructions for updating:\n",
            "Use `tf.global_variables_initializer` instead.\n",
            "Number of iterations: 0\n",
            "(1460, 1)\n",
            "Number of iterations: 1\n",
            "(1460, 1)\n",
            "Number of iterations: 2\n",
            "(1460, 1)\n",
            "Number of iterations: 3\n",
            "(1460, 1)\n",
            "Number of iterations: 4\n",
            "(1460, 1)\n",
            "Number of iterations: 5\n",
            "(1460, 1)\n",
            "RMSE: 0.1907581379101012\n",
            "The Learning rate is: 0.01\n",
            "Number of iterations: 6\n",
            "(1460, 1)\n",
            "RMSE: 0.19651206139443503\n",
            "The Learning rate is: 0.01\n",
            "Number of iterations: 7\n",
            "(1460, 1)\n",
            "RMSE: 0.2000904460915537\n",
            "The Learning rate is: 0.01\n",
            "Number of iterations: 8\n",
            "(1460, 1)\n",
            "RMSE: 0.19606608024697483\n",
            "The Learning rate is: 0.01\n",
            "Number of iterations: 9\n",
            "(1460, 1)\n",
            "RMSE: 0.20234163667555088\n",
            "The Learning rate is: 0.01\n",
            "Number of iterations: 10\n",
            "(1460, 1)\n",
            "RMSE: 0.19682569518565315\n",
            "The Learning rate is: 0.01\n",
            "Number of iterations: 11\n",
            "(1460, 1)\n",
            "RMSE: 0.2119151045381133\n",
            "The Learning rate is: 0.007\n",
            "Number of iterations: 12\n",
            "(1460, 1)\n",
            "RMSE: 0.18455562567435502\n",
            "The Learning rate is: 0.007\n",
            "Number of iterations: 13\n",
            "(1460, 1)\n",
            "RMSE: 0.18927998951785802\n",
            "The Learning rate is: 0.007\n",
            "Number of iterations: 14\n",
            "(1460, 1)\n",
            "RMSE: 0.19080832583724416\n",
            "The Learning rate is: 0.007\n",
            "Number of iterations: 15\n",
            "(1460, 1)\n",
            "RMSE: 0.1900246418919798\n",
            "The Learning rate is: 0.007\n",
            "Number of iterations: 16\n",
            "(1460, 1)\n",
            "RMSE: 0.19230537145009755\n",
            "The Learning rate is: 0.007\n",
            "Number of iterations: 17\n",
            "(1460, 1)\n",
            "RMSE: 0.18937609988547366\n",
            "The Learning rate is: 0.007\n",
            "Number of iterations: 18\n",
            "(1460, 1)\n",
            "RMSE: 0.19163997751911077\n",
            "The Learning rate is: 0.007\n",
            "Number of iterations: 19\n",
            "(1460, 1)\n",
            "RMSE: 0.19214160569393104\n",
            "The Learning rate is: 0.007\n",
            "Number of iterations: 20\n",
            "(1460, 1)\n",
            "RMSE: 0.19377716190793734\n",
            "The Learning rate is: 0.007\n",
            "Number of iterations: 21\n",
            "(1460, 1)\n",
            "RMSE: 0.22211996918036228\n",
            "The Learning rate is: 0.004\n",
            "Number of iterations: 22\n",
            "(1460, 1)\n",
            "RMSE: 0.20754263045627352\n",
            "The Learning rate is: 0.004\n",
            "Number of iterations: 23\n",
            "(1460, 1)\n",
            "RMSE: 0.19973701298538502\n",
            "The Learning rate is: 0.004\n",
            "Number of iterations: 24\n",
            "(1460, 1)\n",
            "RMSE: 0.19190824087430886\n",
            "The Learning rate is: 0.004\n",
            "Number of iterations: 25\n",
            "(1460, 1)\n",
            "RMSE: 0.1883774807590646\n",
            "The Learning rate is: 0.004\n",
            "Number of iterations: 26\n",
            "(1460, 1)\n",
            "RMSE: 0.18729389791354614\n",
            "The Learning rate is: 0.004\n",
            "Number of iterations: 27\n",
            "(1460, 1)\n",
            "RMSE: 0.1873212632843288\n",
            "The Learning rate is: 0.004\n",
            "Number of iterations: 28\n",
            "(1460, 1)\n",
            "RMSE: 0.18822951374595345\n",
            "The Learning rate is: 0.004\n",
            "Number of iterations: 29\n",
            "(1460, 1)\n",
            "RMSE: 0.18707326911196412\n",
            "The Learning rate is: 0.004\n",
            "Number of iterations: 30\n",
            "(1460, 1)\n",
            "RMSE: 0.18671993471069934\n",
            "The Learning rate is: 0.004\n",
            "Number of iterations: 31\n",
            "(1460, 1)\n",
            "RMSE: 0.18958417935900124\n",
            "The Learning rate is: 0.002\n",
            "Number of iterations: 32\n",
            "(1460, 1)\n",
            "RMSE: 0.1796659829581091\n",
            "The Learning rate is: 0.002\n",
            "Number of iterations: 33\n",
            "(1460, 1)\n",
            "RMSE: 0.17863315270783864\n",
            "The Learning rate is: 0.002\n",
            "Number of iterations: 34\n",
            "(1460, 1)\n",
            "RMSE: 0.17841686688256872\n",
            "The Learning rate is: 0.002\n",
            "Number of iterations: 35\n",
            "(1460, 1)\n",
            "RMSE: 0.177924173120378\n",
            "The Learning rate is: 0.002\n",
            "Number of iterations: 36\n",
            "(1460, 1)\n",
            "RMSE: 0.1770464002004294\n",
            "The Learning rate is: 0.002\n",
            "Number of iterations: 37\n",
            "(1460, 1)\n",
            "RMSE: 0.17584121603836164\n",
            "The Learning rate is: 0.002\n",
            "Number of iterations: 38\n",
            "(1460, 1)\n",
            "RMSE: 0.17416785335358834\n",
            "The Learning rate is: 0.002\n",
            "Number of iterations: 39\n",
            "(1460, 1)\n",
            "RMSE: 0.171838685722794\n",
            "The Learning rate is: 0.002\n",
            "Number of iterations: 40\n",
            "(1460, 1)\n",
            "RMSE: 0.1643745726560364\n",
            "The Learning rate is: 0.002\n",
            "Number of iterations: 41\n",
            "(1460, 1)\n",
            "RMSE: 0.18482214520612864\n",
            "The Learning rate is: 0.001\n",
            "Number of iterations: 42\n",
            "(1460, 1)\n",
            "RMSE: 0.13496067308160756\n",
            "The Learning rate is: 0.001\n",
            "Number of iterations: 43\n",
            "(1460, 1)\n",
            "RMSE: 0.12785902078092862\n",
            "The Learning rate is: 0.001\n",
            "Number of iterations: 44\n",
            "(1460, 1)\n",
            "RMSE: 0.12317967560378536\n",
            "The Learning rate is: 0.001\n",
            "Number of iterations: 45\n",
            "(1460, 1)\n",
            "RMSE: 0.11774584745457412\n",
            "The Learning rate is: 0.001\n",
            "Number of iterations: 46\n",
            "(1460, 1)\n",
            "RMSE: 0.11413327356210698\n",
            "The Learning rate is: 0.001\n",
            "Number of iterations: 47\n",
            "(1460, 1)\n",
            "RMSE: 0.10964061294642342\n",
            "The Learning rate is: 0.001\n",
            "Number of iterations: 48\n",
            "(1460, 1)\n",
            "RMSE: 0.10437149432245844\n",
            "The Learning rate is: 0.001\n",
            "Number of iterations: 49\n",
            "(1460, 1)\n",
            "RMSE: 0.10075032538088141\n",
            "The Learning rate is: 0.001\n",
            "Number of iterations: 50\n",
            "(1460, 1)\n",
            "RMSE: 0.0966531637740285\n",
            "The Learning rate is: 0.001\n",
            "Number of iterations: 51\n",
            "(1460, 1)\n",
            "RMSE: 0.09679561452914533\n",
            "The Learning rate is: 0.0005\n",
            "Number of iterations: 52\n",
            "(1460, 1)\n",
            "RMSE: 0.087074831267593\n",
            "The Learning rate is: 0.0005\n",
            "Number of iterations: 53\n",
            "(1460, 1)\n",
            "RMSE: 0.08427747541115875\n",
            "The Learning rate is: 0.0005\n",
            "Number of iterations: 54\n",
            "(1460, 1)\n",
            "RMSE: 0.08297117454121071\n",
            "The Learning rate is: 0.0005\n",
            "Number of iterations: 55\n",
            "(1460, 1)\n",
            "RMSE: 0.08202557147239271\n",
            "The Learning rate is: 0.0005\n",
            "Number of iterations: 56\n",
            "(1460, 1)\n",
            "RMSE: 0.081323135343266\n",
            "The Learning rate is: 0.0005\n",
            "Number of iterations: 57\n",
            "(1460, 1)\n",
            "RMSE: 0.08078665910519443\n",
            "The Learning rate is: 0.0005\n",
            "Number of iterations: 58\n",
            "(1460, 1)\n",
            "RMSE: 0.08036899735898242\n",
            "The Learning rate is: 0.0005\n",
            "Number of iterations: 59\n",
            "(1460, 1)\n",
            "RMSE: 0.08003342418388475\n",
            "The Learning rate is: 0.0005\n",
            "Number of iterations: 60\n",
            "(1460, 1)\n",
            "RMSE: 0.07975311020422911\n",
            "The Learning rate is: 0.0005\n",
            "Number of iterations: 61\n",
            "(1460, 1)\n",
            "RMSE: 0.07960335549928221\n",
            "The Learning rate is: 0.00025\n",
            "Number of iterations: 62\n",
            "(1460, 1)\n",
            "RMSE: 0.07617659673425771\n",
            "The Learning rate is: 0.00025\n",
            "Number of iterations: 63\n",
            "(1460, 1)\n",
            "RMSE: 0.0763755885250505\n",
            "The Learning rate is: 0.00025\n",
            "Number of iterations: 64\n",
            "(1460, 1)\n",
            "RMSE: 0.0762856923662857\n",
            "The Learning rate is: 0.00025\n",
            "Number of iterations: 65\n",
            "(1460, 1)\n",
            "RMSE: 0.07627370335150456\n",
            "The Learning rate is: 0.00025\n",
            "Number of iterations: 66\n",
            "(1460, 1)\n",
            "RMSE: 0.07626887714667975\n",
            "The Learning rate is: 0.00025\n",
            "Number of iterations: 67\n",
            "(1460, 1)\n",
            "RMSE: 0.07627232340966708\n",
            "The Learning rate is: 0.00025\n",
            "Number of iterations: 68\n",
            "(1460, 1)\n",
            "RMSE: 0.07627887423752404\n",
            "The Learning rate is: 0.00025\n",
            "Number of iterations: 69\n",
            "(1460, 1)\n",
            "RMSE: 0.07628593851607775\n",
            "The Learning rate is: 0.00025\n",
            "Number of iterations: 70\n",
            "(1460, 1)\n",
            "RMSE: 0.07629194765267772\n",
            "The Learning rate is: 0.00025\n",
            "Number of iterations: 71\n",
            "(1460, 1)\n",
            "RMSE: 0.07629065213457376\n",
            "The Learning rate is: 0.000125\n",
            "Number of iterations: 72\n",
            "(1460, 1)\n",
            "RMSE: 0.07522052388496617\n",
            "The Learning rate is: 0.000125\n",
            "Number of iterations: 73\n",
            "(1460, 1)\n",
            "RMSE: 0.07535399538050559\n",
            "The Learning rate is: 0.000125\n",
            "Number of iterations: 74\n",
            "(1460, 1)\n",
            "RMSE: 0.07533233254231358\n",
            "The Learning rate is: 0.000125\n",
            "Number of iterations: 75\n",
            "(1460, 1)\n",
            "RMSE: 0.07534078586340408\n",
            "The Learning rate is: 0.000125\n",
            "Number of iterations: 76\n",
            "(1460, 1)\n",
            "RMSE: 0.07534121464305511\n",
            "The Learning rate is: 0.000125\n",
            "Number of iterations: 77\n",
            "(1460, 1)\n",
            "RMSE: 0.0753425571493185\n",
            "The Learning rate is: 0.000125\n",
            "Number of iterations: 78\n",
            "(1460, 1)\n",
            "RMSE: 0.07534320357661635\n",
            "The Learning rate is: 0.000125\n",
            "Number of iterations: 79\n",
            "(1460, 1)\n",
            "RMSE: 0.07534371982223094\n",
            "The Learning rate is: 0.000125\n",
            "Number of iterations: 80\n",
            "(1460, 1)\n",
            "RMSE: 0.07534407277275165\n",
            "The Learning rate is: 0.000125\n",
            "Number of iterations: 81\n",
            "(1460, 1)\n",
            "RMSE: 0.07530887410682842\n",
            "The Learning rate is: 6.25e-05\n",
            "Number of iterations: 82\n",
            "(1460, 1)\n",
            "RMSE: 0.07500191370888959\n",
            "The Learning rate is: 6.25e-05\n",
            "Number of iterations: 83\n",
            "(1460, 1)\n",
            "RMSE: 0.07501974446790916\n",
            "The Learning rate is: 6.25e-05\n",
            "Number of iterations: 84\n",
            "(1460, 1)\n",
            "RMSE: 0.07501961316633315\n",
            "The Learning rate is: 6.25e-05\n",
            "Number of iterations: 85\n",
            "(1460, 1)\n",
            "RMSE: 0.07501926051796858\n",
            "The Learning rate is: 6.25e-05\n",
            "Number of iterations: 86\n",
            "(1460, 1)\n",
            "RMSE: 0.0750184218037203\n",
            "The Learning rate is: 6.25e-05\n",
            "Number of iterations: 87\n",
            "(1460, 1)\n",
            "RMSE: 0.07501719079440282\n",
            "The Learning rate is: 6.25e-05\n",
            "Number of iterations: 88\n",
            "(1460, 1)\n",
            "RMSE: 0.07501568932931815\n",
            "The Learning rate is: 6.25e-05\n",
            "Number of iterations: 89\n",
            "(1460, 1)\n",
            "RMSE: 0.07501398666801563\n",
            "The Learning rate is: 6.25e-05\n",
            "Number of iterations: 90\n",
            "(1460, 1)\n",
            "RMSE: 0.07501212558119437\n",
            "The Learning rate is: 6.25e-05\n",
            "Number of iterations: 91\n",
            "(1460, 1)\n",
            "RMSE: 0.07496644799603293\n",
            "The Learning rate is: 3.125e-05\n",
            "Number of iterations: 92\n",
            "(1460, 1)\n",
            "RMSE: 0.07487243818369323\n",
            "The Learning rate is: 3.125e-05\n",
            "Number of iterations: 93\n",
            "(1460, 1)\n",
            "RMSE: 0.0748664579994743\n",
            "The Learning rate is: 3.125e-05\n",
            "Number of iterations: 94\n",
            "(1460, 1)\n",
            "RMSE: 0.07486519531188475\n",
            "The Learning rate is: 3.125e-05\n",
            "Number of iterations: 95\n",
            "(1460, 1)\n",
            "RMSE: 0.07486408769787628\n",
            "The Learning rate is: 3.125e-05\n",
            "Number of iterations: 96\n",
            "(1460, 1)\n",
            "RMSE: 0.07486291823217958\n",
            "The Learning rate is: 3.125e-05\n",
            "Number of iterations: 97\n",
            "(1460, 1)\n",
            "RMSE: 0.07486162873856403\n",
            "The Learning rate is: 3.125e-05\n",
            "Number of iterations: 98\n",
            "(1460, 1)\n",
            "RMSE: 0.0748602108033193\n",
            "The Learning rate is: 3.125e-05\n",
            "Number of iterations: 99\n",
            "(1460, 1)\n",
            "RMSE: 0.07485866696916421\n",
            "The Learning rate is: 3.125e-05\n",
            "Number of iterations: 100\n",
            "(1460, 1)\n",
            "RMSE: 0.07485701128185852\n",
            "The Learning rate is: 3.125e-05\n",
            "Number of iterations: 101\n",
            "(1460, 1)\n",
            "RMSE: 0.07482163855234972\n",
            "The Learning rate is: 1.5625e-05\n",
            "Number of iterations: 102\n",
            "(1460, 1)\n",
            "RMSE: 0.07479541722963182\n",
            "The Learning rate is: 1.5625e-05\n",
            "Number of iterations: 103\n",
            "(1460, 1)\n",
            "RMSE: 0.0747869632789756\n",
            "The Learning rate is: 1.5625e-05\n",
            "Number of iterations: 104\n",
            "(1460, 1)\n",
            "RMSE: 0.07478412022275399\n",
            "The Learning rate is: 1.5625e-05\n",
            "Number of iterations: 105\n",
            "(1460, 1)\n",
            "RMSE: 0.07478269684840091\n",
            "The Learning rate is: 1.5625e-05\n",
            "Number of iterations: 106\n",
            "(1460, 1)\n",
            "RMSE: 0.07478160052688029\n",
            "The Learning rate is: 1.5625e-05\n",
            "Number of iterations: 107\n",
            "(1460, 1)\n",
            "RMSE: 0.0747805630526539\n",
            "The Learning rate is: 1.5625e-05\n",
            "Number of iterations: 108\n",
            "(1460, 1)\n",
            "RMSE: 0.07477948627390156\n",
            "The Learning rate is: 1.5625e-05\n",
            "Number of iterations: 109\n",
            "(1460, 1)\n",
            "RMSE: 0.07477838172702275\n",
            "The Learning rate is: 1.5625e-05\n",
            "Number of iterations: 110\n",
            "(1460, 1)\n",
            "RMSE: 0.07477721075222625\n",
            "The Learning rate is: 1.5625e-05\n",
            "Number of iterations: 111\n",
            "(1460, 1)\n",
            "RMSE: 0.07475482004003979\n",
            "The Learning rate is: 7.8125e-06\n",
            "Number of iterations: 112\n",
            "(1460, 1)\n",
            "RMSE: 0.07474790431705215\n",
            "The Learning rate is: 7.8125e-06\n",
            "Number of iterations: 113\n",
            "(1460, 1)\n",
            "RMSE: 0.07474366775056791\n",
            "The Learning rate is: 7.8125e-06\n",
            "Number of iterations: 114\n",
            "(1460, 1)\n",
            "RMSE: 0.07474119352629734\n",
            "The Learning rate is: 7.8125e-06\n",
            "Number of iterations: 115\n",
            "(1460, 1)\n",
            "RMSE: 0.07473961171968205\n",
            "The Learning rate is: 7.8125e-06\n",
            "Number of iterations: 116\n",
            "(1460, 1)\n",
            "RMSE: 0.07473847840224017\n",
            "The Learning rate is: 7.8125e-06\n",
            "Number of iterations: 117\n",
            "(1460, 1)\n",
            "RMSE: 0.0747375710778649\n",
            "The Learning rate is: 7.8125e-06\n",
            "Number of iterations: 118\n",
            "(1460, 1)\n",
            "RMSE: 0.07473676210921126\n",
            "The Learning rate is: 7.8125e-06\n",
            "Number of iterations: 119\n",
            "(1460, 1)\n",
            "RMSE: 0.07473599952110788\n",
            "The Learning rate is: 7.8125e-06\n",
            "Number of iterations: 120\n",
            "(1460, 1)\n",
            "RMSE: 0.07473525505085818\n",
            "The Learning rate is: 7.8125e-06\n",
            "Number of iterations: 121\n",
            "(1460, 1)\n",
            "RMSE: 0.0747223906135462\n",
            "The Learning rate is: 3.90625e-06\n",
            "Number of iterations: 122\n",
            "(1460, 1)\n",
            "RMSE: 0.07472051002570694\n",
            "The Learning rate is: 3.90625e-06\n",
            "Number of iterations: 123\n",
            "(1460, 1)\n",
            "RMSE: 0.07471892208990581\n",
            "The Learning rate is: 3.90625e-06\n",
            "Number of iterations: 124\n",
            "(1460, 1)\n",
            "RMSE: 0.07471767515815585\n",
            "The Learning rate is: 3.90625e-06\n",
            "Number of iterations: 125\n",
            "(1460, 1)\n",
            "RMSE: 0.07471666920013365\n",
            "The Learning rate is: 3.90625e-06\n",
            "Number of iterations: 126\n",
            "(1460, 1)\n",
            "RMSE: 0.07471582706631426\n",
            "The Learning rate is: 3.90625e-06\n",
            "Number of iterations: 127\n",
            "(1460, 1)\n",
            "RMSE: 0.07471512163813722\n",
            "The Learning rate is: 3.90625e-06\n",
            "Number of iterations: 128\n",
            "(1460, 1)\n",
            "RMSE: 0.07471448437207\n",
            "The Learning rate is: 3.90625e-06\n",
            "Number of iterations: 129\n",
            "(1460, 1)\n",
            "RMSE: 0.07471389662502277\n",
            "The Learning rate is: 3.90625e-06\n",
            "Number of iterations: 130\n",
            "(1460, 1)\n",
            "RMSE: 0.07471335584428042\n",
            "The Learning rate is: 3.90625e-06\n",
            "Number of iterations: 131\n",
            "(1460, 1)\n",
            "RMSE: 0.0747062951576402\n",
            "The Learning rate is: 1.953125e-06\n",
            "Number of iterations: 132\n",
            "(1460, 1)\n",
            "RMSE: 0.07470568760917926\n",
            "The Learning rate is: 1.953125e-06\n",
            "Number of iterations: 133\n",
            "(1460, 1)\n",
            "RMSE: 0.07470509514486783\n",
            "The Learning rate is: 1.953125e-06\n",
            "Number of iterations: 134\n",
            "(1460, 1)\n",
            "RMSE: 0.07470455985458001\n",
            "The Learning rate is: 1.953125e-06\n",
            "Number of iterations: 135\n",
            "(1460, 1)\n",
            "RMSE: 0.07470406950207989\n",
            "The Learning rate is: 1.953125e-06\n",
            "Number of iterations: 136\n",
            "(1460, 1)\n",
            "RMSE: 0.07470361852386347\n",
            "The Learning rate is: 1.953125e-06\n",
            "Number of iterations: 137\n",
            "(1460, 1)\n",
            "RMSE: 0.07470319585741872\n",
            "The Learning rate is: 1.953125e-06\n",
            "Number of iterations: 138\n",
            "(1460, 1)\n",
            "RMSE: 0.07470279972694115\n",
            "The Learning rate is: 1.953125e-06\n",
            "Number of iterations: 139\n",
            "(1460, 1)\n",
            "RMSE: 0.07470242889776282\n",
            "The Learning rate is: 1.953125e-06\n",
            "Number of iterations: 140\n",
            "(1460, 1)\n",
            "RMSE: 0.07470207625085593\n",
            "The Learning rate is: 1.953125e-06\n",
            "Number of iterations: 141\n",
            "(1460, 1)\n",
            "RMSE: 0.07469831309025805\n",
            "The Learning rate is: 9.765625e-07\n",
            "Number of iterations: 142\n",
            "(1460, 1)\n",
            "RMSE: 0.07469806589040197\n",
            "The Learning rate is: 9.765625e-07\n",
            "Number of iterations: 143\n",
            "(1460, 1)\n",
            "RMSE: 0.07469781510766459\n",
            "The Learning rate is: 9.765625e-07\n",
            "Number of iterations: 144\n",
            "(1460, 1)\n",
            "RMSE: 0.07469757985167369\n",
            "The Learning rate is: 9.765625e-07\n",
            "Number of iterations: 145\n",
            "(1460, 1)\n",
            "RMSE: 0.07469734968973477\n",
            "The Learning rate is: 9.765625e-07\n",
            "Number of iterations: 146\n",
            "(1460, 1)\n",
            "RMSE: 0.07469712770789315\n",
            "The Learning rate is: 9.765625e-07\n",
            "Number of iterations: 147\n",
            "(1460, 1)\n",
            "RMSE: 0.07469691360028928\n",
            "The Learning rate is: 9.765625e-07\n",
            "Number of iterations: 148\n",
            "(1460, 1)\n",
            "RMSE: 0.07469670338093115\n",
            "The Learning rate is: 9.765625e-07\n",
            "Number of iterations: 149\n",
            "(1460, 1)\n",
            "RMSE: 0.07469649884077348\n",
            "The Learning rate is: 9.765625e-07\n"
          ],
          "name": "stdout"
        }
      ]
    },
    {
      "cell_type": "code",
      "metadata": {
        "id": "70dY95W8VVqG",
        "colab_type": "code",
        "colab": {
          "base_uri": "https://localhost:8080/",
          "height": 1000
        },
        "outputId": "a674fbc8-f565-4fb4-9cd4-ba8f7ab0c37e"
      },
      "source": [
        "!python Hybrid.py"
      ],
      "execution_count": 12,
      "outputs": [
        {
          "output_type": "stream",
          "text": [
            "WARNING:tensorflow:From Hybrid.py:143: The name tf.app.run is deprecated. Please use tf.compat.v1.app.run instead.\n",
            "\n",
            "I0222 23:59:55.608554 139819253102464 utils.py:141] NumExpr defaulting to 2 threads.\n",
            "WARNING:tensorflow:From Hybrid.py:115: The name tf.ConfigProto is deprecated. Please use tf.compat.v1.ConfigProto instead.\n",
            "\n",
            "W0222 23:59:55.615999 139819253102464 module_wrapper.py:139] From Hybrid.py:115: The name tf.ConfigProto is deprecated. Please use tf.compat.v1.ConfigProto instead.\n",
            "\n",
            "WARNING:tensorflow:From Hybrid.py:118: The name tf.Session is deprecated. Please use tf.compat.v1.Session instead.\n",
            "\n",
            "W0222 23:59:55.616322 139819253102464 module_wrapper.py:139] From Hybrid.py:118: The name tf.Session is deprecated. Please use tf.compat.v1.Session instead.\n",
            "\n",
            "2020-02-22 23:59:55.621507: I tensorflow/core/platform/profile_utils/cpu_utils.cc:94] CPU Frequency: 2300000000 Hz\n",
            "2020-02-22 23:59:55.621753: I tensorflow/compiler/xla/service/service.cc:168] XLA service 0x2e6cbc0 initialized for platform Host (this does not guarantee that XLA will be used). Devices:\n",
            "2020-02-22 23:59:55.621786: I tensorflow/compiler/xla/service/service.cc:176]   StreamExecutor device (0): Host, Default Version\n",
            "2020-02-22 23:59:55.624146: I tensorflow/stream_executor/platform/default/dso_loader.cc:44] Successfully opened dynamic library libcuda.so.1\n",
            "2020-02-22 23:59:55.626112: E tensorflow/stream_executor/cuda/cuda_driver.cc:318] failed call to cuInit: CUDA_ERROR_NO_DEVICE: no CUDA-capable device is detected\n",
            "2020-02-22 23:59:55.626154: I tensorflow/stream_executor/cuda/cuda_diagnostics.cc:156] kernel driver does not appear to be running on this host (3114d6793ca9): /proc/driver/nvidia/version does not exist\n",
            "WARNING:tensorflow:From Hybrid.py:121: The name tf.variable_scope is deprecated. Please use tf.compat.v1.variable_scope instead.\n",
            "\n",
            "W0222 23:59:55.626788 139819253102464 module_wrapper.py:139] From Hybrid.py:121: The name tf.variable_scope is deprecated. Please use tf.compat.v1.variable_scope instead.\n",
            "\n",
            "WARNING:tensorflow:From Hybrid.py:30: The name tf.placeholder is deprecated. Please use tf.compat.v1.placeholder instead.\n",
            "\n",
            "W0222 23:59:55.627374 139819253102464 module_wrapper.py:139] From Hybrid.py:30: The name tf.placeholder is deprecated. Please use tf.compat.v1.placeholder instead.\n",
            "\n",
            "WARNING:tensorflow:From Hybrid.py:32: BasicLSTMCell.__init__ (from tensorflow.python.ops.rnn_cell_impl) is deprecated and will be removed in a future version.\n",
            "Instructions for updating:\n",
            "This class is equivalent as tf.keras.layers.LSTMCell, and will be replaced by that in Tensorflow 2.0.\n",
            "W0222 23:59:55.629257 139819253102464 deprecation.py:323] From Hybrid.py:32: BasicLSTMCell.__init__ (from tensorflow.python.ops.rnn_cell_impl) is deprecated and will be removed in a future version.\n",
            "Instructions for updating:\n",
            "This class is equivalent as tf.keras.layers.LSTMCell, and will be replaced by that in Tensorflow 2.0.\n",
            "WARNING:tensorflow:From Hybrid.py:33: GRUCell.__init__ (from tensorflow.python.ops.rnn_cell_impl) is deprecated and will be removed in a future version.\n",
            "Instructions for updating:\n",
            "This class is equivalent as tf.keras.layers.GRUCell, and will be replaced by that in Tensorflow 2.0.\n",
            "W0222 23:59:55.631506 139819253102464 deprecation.py:323] From Hybrid.py:33: GRUCell.__init__ (from tensorflow.python.ops.rnn_cell_impl) is deprecated and will be removed in a future version.\n",
            "Instructions for updating:\n",
            "This class is equivalent as tf.keras.layers.GRUCell, and will be replaced by that in Tensorflow 2.0.\n",
            "WARNING:tensorflow:From Hybrid.py:34: MultiRNNCell.__init__ (from tensorflow.python.ops.rnn_cell_impl) is deprecated and will be removed in a future version.\n",
            "Instructions for updating:\n",
            "This class is equivalent as tf.keras.layers.StackedRNNCells, and will be replaced by that in Tensorflow 2.0.\n",
            "W0222 23:59:55.632055 139819253102464 deprecation.py:323] From Hybrid.py:34: MultiRNNCell.__init__ (from tensorflow.python.ops.rnn_cell_impl) is deprecated and will be removed in a future version.\n",
            "Instructions for updating:\n",
            "This class is equivalent as tf.keras.layers.StackedRNNCells, and will be replaced by that in Tensorflow 2.0.\n",
            "WARNING:tensorflow:From /usr/local/lib/python3.6/dist-packages/tensorflow_core/python/ops/rnn_cell_impl.py:735: Layer.add_variable (from tensorflow.python.keras.engine.base_layer) is deprecated and will be removed in a future version.\n",
            "Instructions for updating:\n",
            "Please use `layer.add_weight` method instead.\n",
            "W0222 23:59:55.651414 139819253102464 deprecation.py:323] From /usr/local/lib/python3.6/dist-packages/tensorflow_core/python/ops/rnn_cell_impl.py:735: Layer.add_variable (from tensorflow.python.keras.engine.base_layer) is deprecated and will be removed in a future version.\n",
            "Instructions for updating:\n",
            "Please use `layer.add_weight` method instead.\n",
            "WARNING:tensorflow:From /usr/local/lib/python3.6/dist-packages/tensorflow_core/python/ops/rnn_cell_impl.py:739: calling Zeros.__init__ (from tensorflow.python.ops.init_ops) with dtype is deprecated and will be removed in a future version.\n",
            "Instructions for updating:\n",
            "Call initializer instance with the dtype argument instead of passing it to the constructor\n",
            "W0222 23:59:55.659500 139819253102464 deprecation.py:506] From /usr/local/lib/python3.6/dist-packages/tensorflow_core/python/ops/rnn_cell_impl.py:739: calling Zeros.__init__ (from tensorflow.python.ops.init_ops) with dtype is deprecated and will be removed in a future version.\n",
            "Instructions for updating:\n",
            "Call initializer instance with the dtype argument instead of passing it to the constructor\n",
            "WARNING:tensorflow:From /usr/local/lib/python3.6/dist-packages/tensorflow_core/python/ops/rnn_cell_impl.py:565: calling Constant.__init__ (from tensorflow.python.ops.init_ops) with dtype is deprecated and will be removed in a future version.\n",
            "Instructions for updating:\n",
            "Call initializer instance with the dtype argument instead of passing it to the constructor\n",
            "W0222 23:59:55.681477 139819253102464 deprecation.py:506] From /usr/local/lib/python3.6/dist-packages/tensorflow_core/python/ops/rnn_cell_impl.py:565: calling Constant.__init__ (from tensorflow.python.ops.init_ops) with dtype is deprecated and will be removed in a future version.\n",
            "Instructions for updating:\n",
            "Call initializer instance with the dtype argument instead of passing it to the constructor\n",
            "WARNING:tensorflow:From Hybrid.py:42: The name tf.get_variable_scope is deprecated. Please use tf.compat.v1.get_variable_scope instead.\n",
            "\n",
            "W0222 23:59:55.705971 139819253102464 module_wrapper.py:139] From Hybrid.py:42: The name tf.get_variable_scope is deprecated. Please use tf.compat.v1.get_variable_scope instead.\n",
            "\n",
            "WARNING:tensorflow:From Hybrid.py:50: where (from tensorflow.python.ops.array_ops) is deprecated and will be removed in a future version.\n",
            "Instructions for updating:\n",
            "Use tf.where in 2.0, which has the same broadcast rule as np.where\n",
            "W0222 23:59:55.712762 139819253102464 deprecation.py:323] From Hybrid.py:50: where (from tensorflow.python.ops.array_ops) is deprecated and will be removed in a future version.\n",
            "Instructions for updating:\n",
            "Use tf.where in 2.0, which has the same broadcast rule as np.where\n",
            "WARNING:tensorflow:From Hybrid.py:71: The name tf.train.AdamOptimizer is deprecated. Please use tf.compat.v1.train.AdamOptimizer instead.\n",
            "\n",
            "W0222 23:59:56.835719 139819253102464 module_wrapper.py:139] From Hybrid.py:71: The name tf.train.AdamOptimizer is deprecated. Please use tf.compat.v1.train.AdamOptimizer instead.\n",
            "\n",
            "WARNING:tensorflow:From Hybrid.py:74: The name tf.assign is deprecated. Please use tf.compat.v1.assign instead.\n",
            "\n",
            "W0223 00:00:00.601211 139819253102464 module_wrapper.py:139] From Hybrid.py:74: The name tf.assign is deprecated. Please use tf.compat.v1.assign instead.\n",
            "\n",
            "WARNING:tensorflow:From /usr/local/lib/python3.6/dist-packages/tensorflow_core/python/util/tf_should_use.py:198: initialize_all_variables (from tensorflow.python.ops.variables) is deprecated and will be removed after 2017-03-02.\n",
            "Instructions for updating:\n",
            "Use `tf.global_variables_initializer` instead.\n",
            "W0223 00:00:00.602327 139819253102464 deprecation.py:323] From /usr/local/lib/python3.6/dist-packages/tensorflow_core/python/util/tf_should_use.py:198: initialize_all_variables (from tensorflow.python.ops.variables) is deprecated and will be removed after 2017-03-02.\n",
            "Instructions for updating:\n",
            "Use `tf.global_variables_initializer` instead.\n",
            "Number of iterations: 0\n",
            "(1460, 1)\n",
            "Number of iterations: 1\n",
            "(1460, 1)\n",
            "Number of iterations: 2\n",
            "(1460, 1)\n",
            "Number of iterations: 3\n",
            "(1460, 1)\n",
            "Number of iterations: 4\n",
            "(1460, 1)\n",
            "Number of iterations: 5\n",
            "(1460, 1)\n",
            "RMSE: 0.19800593852928716\n",
            "The Learning rate is: 0.01\n",
            "Number of iterations: 6\n",
            "(1460, 1)\n",
            "RMSE: 0.2110301507954286\n",
            "The Learning rate is: 0.01\n",
            "Number of iterations: 7\n",
            "(1460, 1)\n",
            "RMSE: 0.19407556568695739\n",
            "The Learning rate is: 0.01\n",
            "Number of iterations: 8\n",
            "(1460, 1)\n",
            "RMSE: 0.20570877268550086\n",
            "The Learning rate is: 0.01\n",
            "Number of iterations: 9\n",
            "(1460, 1)\n",
            "RMSE: 0.18537493247505893\n",
            "The Learning rate is: 0.01\n",
            "Number of iterations: 10\n",
            "(1460, 1)\n",
            "RMSE: 0.20799331652031733\n",
            "The Learning rate is: 0.01\n",
            "Number of iterations: 11\n",
            "(1460, 1)\n",
            "RMSE: 0.19353120666405615\n",
            "The Learning rate is: 0.007\n",
            "Number of iterations: 12\n",
            "(1460, 1)\n",
            "RMSE: 0.21475094177798024\n",
            "The Learning rate is: 0.007\n",
            "Number of iterations: 13\n",
            "(1460, 1)\n",
            "RMSE: 0.21868499507331576\n",
            "The Learning rate is: 0.007\n",
            "Number of iterations: 14\n",
            "(1460, 1)\n",
            "RMSE: 0.21226378914186203\n",
            "The Learning rate is: 0.007\n",
            "Number of iterations: 15\n",
            "(1460, 1)\n",
            "RMSE: 0.20893116631675332\n",
            "The Learning rate is: 0.007\n",
            "Number of iterations: 16\n",
            "(1460, 1)\n",
            "RMSE: 0.2203585207618485\n",
            "The Learning rate is: 0.007\n",
            "Number of iterations: 17\n",
            "(1460, 1)\n",
            "RMSE: 0.2280601919788729\n",
            "The Learning rate is: 0.007\n",
            "Number of iterations: 18\n",
            "(1460, 1)\n",
            "RMSE: 0.21462076009531217\n",
            "The Learning rate is: 0.007\n",
            "Number of iterations: 19\n",
            "(1460, 1)\n",
            "RMSE: 0.2016197048449787\n",
            "The Learning rate is: 0.007\n",
            "Number of iterations: 20\n",
            "(1460, 1)\n",
            "RMSE: 0.21315617861156178\n",
            "The Learning rate is: 0.007\n",
            "Number of iterations: 21\n",
            "(1460, 1)\n",
            "RMSE: 0.20745394234273234\n",
            "The Learning rate is: 0.004\n",
            "Number of iterations: 22\n",
            "(1460, 1)\n",
            "RMSE: 0.19137119677278022\n",
            "The Learning rate is: 0.004\n",
            "Number of iterations: 23\n",
            "(1460, 1)\n",
            "RMSE: 0.1878538756812181\n",
            "The Learning rate is: 0.004\n",
            "Number of iterations: 24\n",
            "(1460, 1)\n",
            "RMSE: 0.18761178305552167\n",
            "The Learning rate is: 0.004\n",
            "Number of iterations: 25\n",
            "(1460, 1)\n",
            "RMSE: 0.1875156360291233\n",
            "The Learning rate is: 0.004\n",
            "Number of iterations: 26\n",
            "(1460, 1)\n",
            "RMSE: 0.18741015513499046\n",
            "The Learning rate is: 0.004\n",
            "Number of iterations: 27\n",
            "(1460, 1)\n",
            "RMSE: 0.18734387409132475\n",
            "The Learning rate is: 0.004\n",
            "Number of iterations: 28\n",
            "(1460, 1)\n",
            "RMSE: 0.18724108459071376\n",
            "The Learning rate is: 0.004\n",
            "Number of iterations: 29\n",
            "(1460, 1)\n",
            "RMSE: 0.18723625446134845\n",
            "The Learning rate is: 0.004\n",
            "Number of iterations: 30\n",
            "(1460, 1)\n",
            "RMSE: 0.18703802961241575\n",
            "The Learning rate is: 0.004\n",
            "Number of iterations: 31\n",
            "(1460, 1)\n",
            "RMSE: 0.18664346253908715\n",
            "The Learning rate is: 0.002\n",
            "Number of iterations: 32\n",
            "(1460, 1)\n",
            "RMSE: 0.18342726210942878\n",
            "The Learning rate is: 0.002\n",
            "Number of iterations: 33\n",
            "(1460, 1)\n",
            "RMSE: 0.1828481933177168\n",
            "The Learning rate is: 0.002\n",
            "Number of iterations: 34\n",
            "(1460, 1)\n",
            "RMSE: 0.18259297968494326\n",
            "The Learning rate is: 0.002\n",
            "Number of iterations: 35\n",
            "(1460, 1)\n",
            "RMSE: 0.18244172345180193\n",
            "The Learning rate is: 0.002\n",
            "Number of iterations: 36\n",
            "(1460, 1)\n",
            "RMSE: 0.18231056166538032\n",
            "The Learning rate is: 0.002\n",
            "Number of iterations: 37\n",
            "(1460, 1)\n",
            "RMSE: 0.1821615787491393\n",
            "The Learning rate is: 0.002\n",
            "Number of iterations: 38\n",
            "(1460, 1)\n",
            "RMSE: 0.18197414987997235\n",
            "The Learning rate is: 0.002\n",
            "Number of iterations: 39\n",
            "(1460, 1)\n",
            "RMSE: 0.18173732708950757\n",
            "The Learning rate is: 0.002\n",
            "Number of iterations: 40\n",
            "(1460, 1)\n",
            "RMSE: 0.18145579056154718\n",
            "The Learning rate is: 0.002\n",
            "Number of iterations: 41\n",
            "(1460, 1)\n",
            "RMSE: 0.1792668714003616\n",
            "The Learning rate is: 0.001\n",
            "Number of iterations: 42\n",
            "(1460, 1)\n",
            "RMSE: 0.16990764318346205\n",
            "The Learning rate is: 0.001\n",
            "Number of iterations: 43\n",
            "(1460, 1)\n",
            "RMSE: 0.1746730651183742\n",
            "The Learning rate is: 0.001\n",
            "Number of iterations: 44\n",
            "(1460, 1)\n",
            "RMSE: 0.15584838126629263\n",
            "The Learning rate is: 0.001\n",
            "Number of iterations: 45\n",
            "(1460, 1)\n",
            "RMSE: 0.1746506353748149\n",
            "The Learning rate is: 0.001\n",
            "Number of iterations: 46\n",
            "(1460, 1)\n",
            "RMSE: 0.18875669657576025\n",
            "The Learning rate is: 0.001\n",
            "Number of iterations: 47\n",
            "(1460, 1)\n",
            "RMSE: 0.1628333951635023\n",
            "The Learning rate is: 0.001\n",
            "Number of iterations: 48\n",
            "(1460, 1)\n",
            "RMSE: 0.1385713698740441\n",
            "The Learning rate is: 0.001\n",
            "Number of iterations: 49\n",
            "(1460, 1)\n",
            "RMSE: 0.12686964880630888\n",
            "The Learning rate is: 0.001\n",
            "Number of iterations: 50\n",
            "(1460, 1)\n",
            "RMSE: 0.11580130618392136\n",
            "The Learning rate is: 0.001\n",
            "Number of iterations: 51\n",
            "(1460, 1)\n",
            "RMSE: 0.1180389736400279\n",
            "The Learning rate is: 0.0005\n",
            "Number of iterations: 52\n",
            "(1460, 1)\n",
            "RMSE: 0.09749234821988806\n",
            "The Learning rate is: 0.0005\n",
            "Number of iterations: 53\n",
            "(1460, 1)\n",
            "RMSE: 0.095156339815124\n",
            "The Learning rate is: 0.0005\n",
            "Number of iterations: 54\n",
            "(1460, 1)\n",
            "RMSE: 0.09362202168904345\n",
            "The Learning rate is: 0.0005\n",
            "Number of iterations: 55\n",
            "(1460, 1)\n",
            "RMSE: 0.09219475051778513\n",
            "The Learning rate is: 0.0005\n",
            "Number of iterations: 56\n",
            "(1460, 1)\n",
            "RMSE: 0.09090432645588566\n",
            "The Learning rate is: 0.0005\n",
            "Number of iterations: 57\n",
            "(1460, 1)\n",
            "RMSE: 0.08970620757482564\n",
            "The Learning rate is: 0.0005\n",
            "Number of iterations: 58\n",
            "(1460, 1)\n",
            "RMSE: 0.08854386106206236\n",
            "The Learning rate is: 0.0005\n",
            "Number of iterations: 59\n",
            "(1460, 1)\n",
            "RMSE: 0.08738393094917879\n",
            "The Learning rate is: 0.0005\n",
            "Number of iterations: 60\n",
            "(1460, 1)\n",
            "RMSE: 0.0862346228764355\n",
            "The Learning rate is: 0.0005\n",
            "Number of iterations: 61\n",
            "(1460, 1)\n",
            "RMSE: 0.08432649769860794\n",
            "The Learning rate is: 0.00025\n",
            "Number of iterations: 62\n",
            "(1460, 1)\n",
            "RMSE: 0.07878144486478594\n",
            "The Learning rate is: 0.00025\n",
            "Number of iterations: 63\n",
            "(1460, 1)\n",
            "RMSE: 0.07877653155930558\n",
            "The Learning rate is: 0.00025\n",
            "Number of iterations: 64\n",
            "(1460, 1)\n",
            "RMSE: 0.07853634046969231\n",
            "The Learning rate is: 0.00025\n",
            "Number of iterations: 65\n",
            "(1460, 1)\n",
            "RMSE: 0.07836505330182\n",
            "The Learning rate is: 0.00025\n",
            "Number of iterations: 66\n",
            "(1460, 1)\n",
            "RMSE: 0.07823411486735297\n",
            "The Learning rate is: 0.00025\n",
            "Number of iterations: 67\n",
            "(1460, 1)\n",
            "RMSE: 0.07813673340158128\n",
            "The Learning rate is: 0.00025\n",
            "Number of iterations: 68\n",
            "(1460, 1)\n",
            "RMSE: 0.07806564407375456\n",
            "The Learning rate is: 0.00025\n",
            "Number of iterations: 69\n",
            "(1460, 1)\n",
            "RMSE: 0.0780139748671313\n",
            "The Learning rate is: 0.00025\n",
            "Number of iterations: 70\n",
            "(1460, 1)\n",
            "RMSE: 0.07797590879166255\n",
            "The Learning rate is: 0.00025\n",
            "Number of iterations: 71\n",
            "(1460, 1)\n",
            "RMSE: 0.07741364971384507\n",
            "The Learning rate is: 0.000125\n",
            "Number of iterations: 72\n",
            "(1460, 1)\n",
            "RMSE: 0.0757788204372257\n",
            "The Learning rate is: 0.000125\n",
            "Number of iterations: 73\n",
            "(1460, 1)\n",
            "RMSE: 0.07601465101476693\n",
            "The Learning rate is: 0.000125\n",
            "Number of iterations: 74\n",
            "(1460, 1)\n",
            "RMSE: 0.07597330212197326\n",
            "The Learning rate is: 0.000125\n",
            "Number of iterations: 75\n",
            "(1460, 1)\n",
            "RMSE: 0.07599527829768565\n",
            "The Learning rate is: 0.000125\n",
            "Number of iterations: 76\n",
            "(1460, 1)\n",
            "RMSE: 0.07600543558737988\n",
            "The Learning rate is: 0.000125\n",
            "Number of iterations: 77\n",
            "(1460, 1)\n",
            "RMSE: 0.07601919508103917\n",
            "The Learning rate is: 0.000125\n",
            "Number of iterations: 78\n",
            "(1460, 1)\n",
            "RMSE: 0.07603248725695828\n",
            "The Learning rate is: 0.000125\n",
            "Number of iterations: 79\n",
            "(1460, 1)\n",
            "RMSE: 0.07604573778178624\n",
            "The Learning rate is: 0.000125\n",
            "Number of iterations: 80\n",
            "(1460, 1)\n",
            "RMSE: 0.0760585139009127\n",
            "The Learning rate is: 0.000125\n",
            "Number of iterations: 81\n",
            "(1460, 1)\n",
            "RMSE: 0.07579483960525094\n",
            "The Learning rate is: 6.25e-05\n",
            "Number of iterations: 82\n",
            "(1460, 1)\n",
            "RMSE: 0.0753139204589682\n",
            "The Learning rate is: 6.25e-05\n",
            "Number of iterations: 83\n",
            "(1460, 1)\n",
            "RMSE: 0.07536542101784957\n",
            "The Learning rate is: 6.25e-05\n",
            "Number of iterations: 84\n",
            "(1460, 1)\n",
            "RMSE: 0.07537091385690922\n",
            "The Learning rate is: 6.25e-05\n",
            "Number of iterations: 85\n",
            "(1460, 1)\n",
            "RMSE: 0.0753805112079711\n",
            "The Learning rate is: 6.25e-05\n",
            "Number of iterations: 86\n",
            "(1460, 1)\n",
            "RMSE: 0.07538896861253595\n",
            "The Learning rate is: 6.25e-05\n",
            "Number of iterations: 87\n",
            "(1460, 1)\n",
            "RMSE: 0.0753967376837306\n",
            "The Learning rate is: 6.25e-05\n",
            "Number of iterations: 88\n",
            "(1460, 1)\n",
            "RMSE: 0.07540381246548762\n",
            "The Learning rate is: 6.25e-05\n",
            "Number of iterations: 89\n",
            "(1460, 1)\n",
            "RMSE: 0.07541024176368422\n",
            "The Learning rate is: 6.25e-05\n",
            "Number of iterations: 90\n",
            "(1460, 1)\n",
            "RMSE: 0.07541604658886301\n",
            "The Learning rate is: 6.25e-05\n",
            "Number of iterations: 91\n",
            "(1460, 1)\n",
            "RMSE: 0.07526362116517352\n",
            "The Learning rate is: 3.125e-05\n",
            "Number of iterations: 92\n",
            "(1460, 1)\n",
            "RMSE: 0.0751429072127326\n",
            "The Learning rate is: 3.125e-05\n",
            "Number of iterations: 93\n",
            "(1460, 1)\n",
            "RMSE: 0.07514139965480564\n",
            "The Learning rate is: 3.125e-05\n",
            "Number of iterations: 94\n",
            "(1460, 1)\n",
            "RMSE: 0.07514455639724321\n",
            "The Learning rate is: 3.125e-05\n",
            "Number of iterations: 95\n",
            "(1460, 1)\n",
            "RMSE: 0.07514742428857633\n",
            "The Learning rate is: 3.125e-05\n",
            "Number of iterations: 96\n",
            "(1460, 1)\n",
            "RMSE: 0.07515002852374619\n",
            "The Learning rate is: 3.125e-05\n",
            "Number of iterations: 97\n",
            "(1460, 1)\n",
            "RMSE: 0.07515236664637687\n",
            "The Learning rate is: 3.125e-05\n",
            "Number of iterations: 98\n",
            "(1460, 1)\n",
            "RMSE: 0.07515444846299577\n",
            "The Learning rate is: 3.125e-05\n",
            "Number of iterations: 99\n",
            "(1460, 1)\n",
            "RMSE: 0.0751562720328342\n",
            "The Learning rate is: 3.125e-05\n",
            "Number of iterations: 100\n",
            "(1460, 1)\n",
            "RMSE: 0.07515783610600844\n",
            "The Learning rate is: 3.125e-05\n",
            "Number of iterations: 101\n",
            "(1460, 1)\n",
            "RMSE: 0.07506294145181445\n",
            "The Learning rate is: 1.5625e-05\n",
            "Number of iterations: 102\n",
            "(1460, 1)\n",
            "RMSE: 0.07503901327703758\n",
            "The Learning rate is: 1.5625e-05\n",
            "Number of iterations: 103\n",
            "(1460, 1)\n",
            "RMSE: 0.07503326367986057\n",
            "The Learning rate is: 1.5625e-05\n",
            "Number of iterations: 104\n",
            "(1460, 1)\n",
            "RMSE: 0.07503239010574163\n",
            "The Learning rate is: 1.5625e-05\n",
            "Number of iterations: 105\n",
            "(1460, 1)\n",
            "RMSE: 0.07503260267578502\n",
            "The Learning rate is: 1.5625e-05\n",
            "Number of iterations: 106\n",
            "(1460, 1)\n",
            "RMSE: 0.07503303732231445\n",
            "The Learning rate is: 1.5625e-05\n",
            "Number of iterations: 107\n",
            "(1460, 1)\n",
            "RMSE: 0.0750334572686923\n",
            "The Learning rate is: 1.5625e-05\n",
            "Number of iterations: 108\n",
            "(1460, 1)\n",
            "RMSE: 0.07503379873226519\n",
            "The Learning rate is: 1.5625e-05\n",
            "Number of iterations: 109\n",
            "(1460, 1)\n",
            "RMSE: 0.07503404233270326\n",
            "The Learning rate is: 1.5625e-05\n",
            "Number of iterations: 110\n",
            "(1460, 1)\n",
            "RMSE: 0.07503421316777398\n",
            "The Learning rate is: 1.5625e-05\n",
            "Number of iterations: 111\n",
            "(1460, 1)\n",
            "RMSE: 0.07497776620338702\n",
            "The Learning rate is: 7.8125e-06\n",
            "Number of iterations: 112\n",
            "(1460, 1)\n",
            "RMSE: 0.07497447716591603\n",
            "The Learning rate is: 7.8125e-06\n",
            "Number of iterations: 113\n",
            "(1460, 1)\n",
            "RMSE: 0.07497269250475982\n",
            "The Learning rate is: 7.8125e-06\n",
            "Number of iterations: 114\n",
            "(1460, 1)\n",
            "RMSE: 0.07497188200664683\n",
            "The Learning rate is: 7.8125e-06\n",
            "Number of iterations: 115\n",
            "(1460, 1)\n",
            "RMSE: 0.07497146376872735\n",
            "The Learning rate is: 7.8125e-06\n",
            "Number of iterations: 116\n",
            "(1460, 1)\n",
            "RMSE: 0.0749712172317597\n",
            "The Learning rate is: 7.8125e-06\n",
            "Number of iterations: 117\n",
            "(1460, 1)\n",
            "RMSE: 0.0749710224221279\n",
            "The Learning rate is: 7.8125e-06\n",
            "Number of iterations: 118\n",
            "(1460, 1)\n",
            "RMSE: 0.0749708317278664\n",
            "The Learning rate is: 7.8125e-06\n",
            "Number of iterations: 119\n",
            "(1460, 1)\n",
            "RMSE: 0.07497063472149286\n",
            "The Learning rate is: 7.8125e-06\n",
            "Number of iterations: 120\n",
            "(1460, 1)\n",
            "RMSE: 0.07497040126161313\n",
            "The Learning rate is: 7.8125e-06\n",
            "Number of iterations: 121\n",
            "(1460, 1)\n",
            "RMSE: 0.07493854284041762\n",
            "The Learning rate is: 3.90625e-06\n",
            "Number of iterations: 122\n",
            "(1460, 1)\n",
            "RMSE: 0.07493836594329756\n",
            "The Learning rate is: 3.90625e-06\n",
            "Number of iterations: 123\n",
            "(1460, 1)\n",
            "RMSE: 0.07493810469237773\n",
            "The Learning rate is: 3.90625e-06\n",
            "Number of iterations: 124\n",
            "(1460, 1)\n",
            "RMSE: 0.07493790531176296\n",
            "The Learning rate is: 3.90625e-06\n",
            "Number of iterations: 125\n",
            "(1460, 1)\n",
            "RMSE: 0.07493772580845605\n",
            "The Learning rate is: 3.90625e-06\n",
            "Number of iterations: 126\n",
            "(1460, 1)\n",
            "RMSE: 0.07493754419521083\n",
            "The Learning rate is: 3.90625e-06\n",
            "Number of iterations: 127\n",
            "(1460, 1)\n",
            "RMSE: 0.07493734841577648\n",
            "The Learning rate is: 3.90625e-06\n",
            "Number of iterations: 128\n",
            "(1460, 1)\n",
            "RMSE: 0.07493713848768688\n",
            "The Learning rate is: 3.90625e-06\n",
            "Number of iterations: 129\n",
            "(1460, 1)\n",
            "RMSE: 0.07493692299773409\n",
            "The Learning rate is: 3.90625e-06\n",
            "Number of iterations: 130\n",
            "(1460, 1)\n",
            "RMSE: 0.07493669041236947\n",
            "The Learning rate is: 3.90625e-06\n",
            "Number of iterations: 131\n",
            "(1460, 1)\n",
            "RMSE: 0.07491941898476616\n",
            "The Learning rate is: 1.953125e-06\n",
            "Number of iterations: 132\n",
            "(1460, 1)\n",
            "RMSE: 0.07491943929167567\n",
            "The Learning rate is: 1.953125e-06\n",
            "Number of iterations: 133\n",
            "(1460, 1)\n",
            "RMSE: 0.07491939114582635\n",
            "The Learning rate is: 1.953125e-06\n",
            "Number of iterations: 134\n",
            "(1460, 1)\n",
            "RMSE: 0.07491933243630819\n",
            "The Learning rate is: 1.953125e-06\n",
            "Number of iterations: 135\n",
            "(1460, 1)\n",
            "RMSE: 0.07491925742605879\n",
            "The Learning rate is: 1.953125e-06\n",
            "Number of iterations: 136\n",
            "(1460, 1)\n",
            "RMSE: 0.07491916901716798\n",
            "The Learning rate is: 1.953125e-06\n",
            "Number of iterations: 137\n",
            "(1460, 1)\n",
            "RMSE: 0.07491906661090901\n",
            "The Learning rate is: 1.953125e-06\n",
            "Number of iterations: 138\n",
            "(1460, 1)\n",
            "RMSE: 0.07491895160368389\n",
            "The Learning rate is: 1.953125e-06\n",
            "Number of iterations: 139\n",
            "(1460, 1)\n",
            "RMSE: 0.07491881720172539\n",
            "The Learning rate is: 1.953125e-06\n",
            "Number of iterations: 140\n",
            "(1460, 1)\n",
            "RMSE: 0.07491868229419976\n",
            "The Learning rate is: 1.953125e-06\n",
            "Number of iterations: 141\n",
            "(1460, 1)\n",
            "RMSE: 0.0749095813005489\n",
            "The Learning rate is: 9.765625e-07\n",
            "Number of iterations: 142\n",
            "(1460, 1)\n",
            "RMSE: 0.07490956349877918\n",
            "The Learning rate is: 9.765625e-07\n",
            "Number of iterations: 143\n",
            "(1460, 1)\n",
            "RMSE: 0.07490952703709303\n",
            "The Learning rate is: 9.765625e-07\n",
            "Number of iterations: 144\n",
            "(1460, 1)\n",
            "RMSE: 0.07490948370431726\n",
            "The Learning rate is: 9.765625e-07\n",
            "Number of iterations: 145\n",
            "(1460, 1)\n",
            "RMSE: 0.07490943556837507\n",
            "The Learning rate is: 9.765625e-07\n",
            "Number of iterations: 146\n",
            "(1460, 1)\n",
            "RMSE: 0.07490937624296913\n",
            "The Learning rate is: 9.765625e-07\n",
            "Number of iterations: 147\n",
            "(1460, 1)\n",
            "RMSE: 0.07490932252088729\n",
            "The Learning rate is: 9.765625e-07\n",
            "Number of iterations: 148\n",
            "(1460, 1)\n",
            "RMSE: 0.074909259181446\n",
            "The Learning rate is: 9.765625e-07\n",
            "Number of iterations: 149\n",
            "(1460, 1)\n",
            "RMSE: 0.07490918503235526\n",
            "The Learning rate is: 9.765625e-07\n"
          ],
          "name": "stdout"
        }
      ]
    },
    {
      "cell_type": "code",
      "metadata": {
        "id": "7hNnSxG4Xt9J",
        "colab_type": "code",
        "colab": {}
      },
      "source": [
        "from google.colab import files\n",
        "\n",
        "files.download('/content/imputed_data_ for Hybrid_both Ensemble.xlsx')"
      ],
      "execution_count": 0,
      "outputs": []
    },
    {
      "cell_type": "code",
      "metadata": {
        "id": "9NFAwhLBV18L",
        "colab_type": "code",
        "colab": {
          "base_uri": "https://localhost:8080/",
          "height": 136
        },
        "outputId": "aa763e13-8725-4fd9-dcaa-04ac79f9ff0f"
      },
      "source": [
        "mdf = pd.read_excel('/content/ML Ensemble Training.xlsx')\n",
        "print(mdf.head())\n",
        "x_train = mdf[['GRU','Hybrid']].values\n",
        "y_train=mdf[['Original']].values\n",
        "type(x_train),x_train.shape,type(y_train),y_train.shape"
      ],
      "execution_count": 15,
      "outputs": [
        {
          "output_type": "stream",
          "text": [
            "     Original         GRU      Hybrid\n",
            "0  238.189475  241.865651  241.090878\n",
            "1  230.814541  241.772144  241.680785\n",
            "2  226.499687  221.341593  219.743735\n",
            "3  194.864339  222.576206  222.125256\n",
            "4  196.105779  197.601099  197.240561\n"
          ],
          "name": "stdout"
        },
        {
          "output_type": "execute_result",
          "data": {
            "text/plain": [
              "(numpy.ndarray, (63, 2), numpy.ndarray, (63, 1))"
            ]
          },
          "metadata": {
            "tags": []
          },
          "execution_count": 15
        }
      ]
    },
    {
      "cell_type": "code",
      "metadata": {
        "id": "DMkDTrSJWq4A",
        "colab_type": "code",
        "colab": {
          "base_uri": "https://localhost:8080/",
          "height": 34
        },
        "outputId": "e7cc06f1-5ba8-488d-cbfe-824781d9a36e"
      },
      "source": [
        "ytest = pd.read_excel('/content/y_test.xlsx').values\n",
        "xtest = pd.read_excel('/content/x_test.xlsx').values\n",
        "type(ytest),ytest.shape,type(xtest),xtest.shape"
      ],
      "execution_count": 16,
      "outputs": [
        {
          "output_type": "execute_result",
          "data": {
            "text/plain": [
              "(numpy.ndarray, (718, 1), numpy.ndarray, (718, 2))"
            ]
          },
          "metadata": {
            "tags": []
          },
          "execution_count": 16
        }
      ]
    },
    {
      "cell_type": "code",
      "metadata": {
        "id": "biuI4SoCWwQ2",
        "colab_type": "code",
        "colab": {
          "base_uri": "https://localhost:8080/",
          "height": 105
        },
        "outputId": "6dfcdb02-1ff4-4c96-d5d4-30024f3fe12e"
      },
      "source": [
        "gbr = ensemble.GradientBoostingRegressor()\n",
        "clf = SVR(kernel='linear')\n",
        "clf.fit(x_train,y_train)\n",
        "gbr.fit(x_train,y_train)\n",
        "reg = LinearRegression().fit(x_train, y_train)\n",
        "predictions = clf.predict(xtest)\n",
        "predictions2 = gbr.predict(xtest)\n",
        "lr_pred=reg.predict(xtest)"
      ],
      "execution_count": 19,
      "outputs": [
        {
          "output_type": "stream",
          "text": [
            "/usr/local/lib/python3.6/dist-packages/sklearn/utils/validation.py:760: DataConversionWarning: A column-vector y was passed when a 1d array was expected. Please change the shape of y to (n_samples, ), for example using ravel().\n",
            "  y = column_or_1d(y, warn=True)\n",
            "/usr/local/lib/python3.6/dist-packages/sklearn/ensemble/_gb.py:1454: DataConversionWarning: A column-vector y was passed when a 1d array was expected. Please change the shape of y to (n_samples, ), for example using ravel().\n",
            "  y = column_or_1d(y, warn=True)\n"
          ],
          "name": "stderr"
        }
      ]
    },
    {
      "cell_type": "code",
      "metadata": {
        "id": "UQgXaguPWzsZ",
        "colab_type": "code",
        "colab": {
          "base_uri": "https://localhost:8080/",
          "height": 119
        },
        "outputId": "4b902523-cd5f-4e90-b30b-ed3e4d47bc2e"
      },
      "source": [
        "mse(ytest,predictions),mae(ytest,predictions),mse(ytest,predictions2),mae(ytest,predictions2),mse(ytest,lr_pred),mae(ytest,lr_pred)"
      ],
      "execution_count": 22,
      "outputs": [
        {
          "output_type": "execute_result",
          "data": {
            "text/plain": [
              "(151.81165936289236,\n",
              " 9.514375182095112,\n",
              " 292.0869235103149,\n",
              " 12.830268622277272,\n",
              " 152.17591804886598,\n",
              " 9.70050261184138)"
            ]
          },
          "metadata": {
            "tags": []
          },
          "execution_count": 22
        }
      ]
    },
    {
      "cell_type": "markdown",
      "metadata": {
        "id": "VB8JWUOoajZe",
        "colab_type": "text"
      },
      "source": [
        "Random Ensemble"
      ]
    },
    {
      "cell_type": "code",
      "metadata": {
        "id": "Jg7LsKsLZvDZ",
        "colab_type": "code",
        "colab": {
          "base_uri": "https://localhost:8080/",
          "height": 153
        },
        "outputId": "57f704d4-f040-43db-af71-53cbb22fd412"
      },
      "source": [
        "df = pd.read_excel('/content/Random Missing.xlsx')\n",
        "df.replace(-1.0,np.nan,inplace=True)\n",
        "print(df.head())\n",
        "df.drop(columns=['Unnamed: 0'],inplace=True)\n",
        "print(df.isnull().sum())"
      ],
      "execution_count": 40,
      "outputs": [
        {
          "output_type": "stream",
          "text": [
            "   Unnamed: 0     Series\n",
            "0           0  64.262716\n",
            "1           1  51.184589\n",
            "2           2        NaN\n",
            "3           3        NaN\n",
            "4           4  59.402088\n",
            "Series    750\n",
            "dtype: int64\n"
          ],
          "name": "stdout"
        }
      ]
    },
    {
      "cell_type": "code",
      "metadata": {
        "id": "M3Ey82JQcHYm",
        "colab_type": "code",
        "colab": {}
      },
      "source": [
        "import random\n",
        "series_missing=np.copy(df.values)\n",
        "for i in range(1,len(df.values)):\n",
        "    if random.random()<= 0.10:\n",
        "        series_missing[i]=np.nan"
      ],
      "execution_count": 0,
      "outputs": []
    },
    {
      "cell_type": "code",
      "metadata": {
        "id": "TB4_M7eYcKk7",
        "colab_type": "code",
        "colab": {
          "base_uri": "https://localhost:8080/",
          "height": 68
        },
        "outputId": "3cfeafd4-9726-4570-e78a-a75b75d3ecaa"
      },
      "source": [
        "df_missing = pd.DataFrame(series_missing,columns=['Series'])\n",
        "print(df_missing.isnull().sum())\n",
        "print(df.shape,df_missing.shape)"
      ],
      "execution_count": 42,
      "outputs": [
        {
          "output_type": "stream",
          "text": [
            "Series    822\n",
            "dtype: int64\n",
            "(1461, 1) (1461, 1)\n"
          ],
          "name": "stdout"
        }
      ]
    },
    {
      "cell_type": "code",
      "metadata": {
        "id": "oun6jYfdcNVx",
        "colab_type": "code",
        "colab": {}
      },
      "source": [
        "df_missing.fillna(-1.0).to_excel('Random Further missing.xlsx')\n",
        "df_missing.fillna(-1.0).to_csv('miss_data.txt', header=None, index=None, sep='\\t', mode='a')"
      ],
      "execution_count": 0,
      "outputs": []
    },
    {
      "cell_type": "code",
      "metadata": {
        "id": "gPfZDgW4cQPa",
        "colab_type": "code",
        "colab": {
          "base_uri": "https://localhost:8080/",
          "height": 1000
        },
        "outputId": "60f245d9-958b-4754-cfe7-92589c29ce21"
      },
      "source": [
        "!python Hybrid.py"
      ],
      "execution_count": 45,
      "outputs": [
        {
          "output_type": "stream",
          "text": [
            "WARNING:tensorflow:From Hybrid.py:143: The name tf.app.run is deprecated. Please use tf.compat.v1.app.run instead.\n",
            "\n",
            "I0223 00:27:56.841311 140488953489280 utils.py:141] NumExpr defaulting to 2 threads.\n",
            "WARNING:tensorflow:From Hybrid.py:115: The name tf.ConfigProto is deprecated. Please use tf.compat.v1.ConfigProto instead.\n",
            "\n",
            "W0223 00:27:56.849101 140488953489280 module_wrapper.py:139] From Hybrid.py:115: The name tf.ConfigProto is deprecated. Please use tf.compat.v1.ConfigProto instead.\n",
            "\n",
            "WARNING:tensorflow:From Hybrid.py:118: The name tf.Session is deprecated. Please use tf.compat.v1.Session instead.\n",
            "\n",
            "W0223 00:27:56.849441 140488953489280 module_wrapper.py:139] From Hybrid.py:118: The name tf.Session is deprecated. Please use tf.compat.v1.Session instead.\n",
            "\n",
            "2020-02-23 00:27:56.854991: I tensorflow/core/platform/profile_utils/cpu_utils.cc:94] CPU Frequency: 2300000000 Hz\n",
            "2020-02-23 00:27:56.855240: I tensorflow/compiler/xla/service/service.cc:168] XLA service 0x2f76bc0 initialized for platform Host (this does not guarantee that XLA will be used). Devices:\n",
            "2020-02-23 00:27:56.855279: I tensorflow/compiler/xla/service/service.cc:176]   StreamExecutor device (0): Host, Default Version\n",
            "2020-02-23 00:27:56.857363: I tensorflow/stream_executor/platform/default/dso_loader.cc:44] Successfully opened dynamic library libcuda.so.1\n",
            "2020-02-23 00:27:56.859654: E tensorflow/stream_executor/cuda/cuda_driver.cc:318] failed call to cuInit: CUDA_ERROR_NO_DEVICE: no CUDA-capable device is detected\n",
            "2020-02-23 00:27:56.859697: I tensorflow/stream_executor/cuda/cuda_diagnostics.cc:156] kernel driver does not appear to be running on this host (3114d6793ca9): /proc/driver/nvidia/version does not exist\n",
            "WARNING:tensorflow:From Hybrid.py:121: The name tf.variable_scope is deprecated. Please use tf.compat.v1.variable_scope instead.\n",
            "\n",
            "W0223 00:27:56.860327 140488953489280 module_wrapper.py:139] From Hybrid.py:121: The name tf.variable_scope is deprecated. Please use tf.compat.v1.variable_scope instead.\n",
            "\n",
            "WARNING:tensorflow:From Hybrid.py:30: The name tf.placeholder is deprecated. Please use tf.compat.v1.placeholder instead.\n",
            "\n",
            "W0223 00:27:56.860735 140488953489280 module_wrapper.py:139] From Hybrid.py:30: The name tf.placeholder is deprecated. Please use tf.compat.v1.placeholder instead.\n",
            "\n",
            "WARNING:tensorflow:From Hybrid.py:32: BasicLSTMCell.__init__ (from tensorflow.python.ops.rnn_cell_impl) is deprecated and will be removed in a future version.\n",
            "Instructions for updating:\n",
            "This class is equivalent as tf.keras.layers.LSTMCell, and will be replaced by that in Tensorflow 2.0.\n",
            "W0223 00:27:56.862364 140488953489280 deprecation.py:323] From Hybrid.py:32: BasicLSTMCell.__init__ (from tensorflow.python.ops.rnn_cell_impl) is deprecated and will be removed in a future version.\n",
            "Instructions for updating:\n",
            "This class is equivalent as tf.keras.layers.LSTMCell, and will be replaced by that in Tensorflow 2.0.\n",
            "WARNING:tensorflow:From Hybrid.py:33: GRUCell.__init__ (from tensorflow.python.ops.rnn_cell_impl) is deprecated and will be removed in a future version.\n",
            "Instructions for updating:\n",
            "This class is equivalent as tf.keras.layers.GRUCell, and will be replaced by that in Tensorflow 2.0.\n",
            "W0223 00:27:56.865185 140488953489280 deprecation.py:323] From Hybrid.py:33: GRUCell.__init__ (from tensorflow.python.ops.rnn_cell_impl) is deprecated and will be removed in a future version.\n",
            "Instructions for updating:\n",
            "This class is equivalent as tf.keras.layers.GRUCell, and will be replaced by that in Tensorflow 2.0.\n",
            "WARNING:tensorflow:From Hybrid.py:34: MultiRNNCell.__init__ (from tensorflow.python.ops.rnn_cell_impl) is deprecated and will be removed in a future version.\n",
            "Instructions for updating:\n",
            "This class is equivalent as tf.keras.layers.StackedRNNCells, and will be replaced by that in Tensorflow 2.0.\n",
            "W0223 00:27:56.865648 140488953489280 deprecation.py:323] From Hybrid.py:34: MultiRNNCell.__init__ (from tensorflow.python.ops.rnn_cell_impl) is deprecated and will be removed in a future version.\n",
            "Instructions for updating:\n",
            "This class is equivalent as tf.keras.layers.StackedRNNCells, and will be replaced by that in Tensorflow 2.0.\n",
            "WARNING:tensorflow:From /usr/local/lib/python3.6/dist-packages/tensorflow_core/python/ops/rnn_cell_impl.py:735: Layer.add_variable (from tensorflow.python.keras.engine.base_layer) is deprecated and will be removed in a future version.\n",
            "Instructions for updating:\n",
            "Please use `layer.add_weight` method instead.\n",
            "W0223 00:27:56.885503 140488953489280 deprecation.py:323] From /usr/local/lib/python3.6/dist-packages/tensorflow_core/python/ops/rnn_cell_impl.py:735: Layer.add_variable (from tensorflow.python.keras.engine.base_layer) is deprecated and will be removed in a future version.\n",
            "Instructions for updating:\n",
            "Please use `layer.add_weight` method instead.\n",
            "WARNING:tensorflow:From /usr/local/lib/python3.6/dist-packages/tensorflow_core/python/ops/rnn_cell_impl.py:739: calling Zeros.__init__ (from tensorflow.python.ops.init_ops) with dtype is deprecated and will be removed in a future version.\n",
            "Instructions for updating:\n",
            "Call initializer instance with the dtype argument instead of passing it to the constructor\n",
            "W0223 00:27:56.893772 140488953489280 deprecation.py:506] From /usr/local/lib/python3.6/dist-packages/tensorflow_core/python/ops/rnn_cell_impl.py:739: calling Zeros.__init__ (from tensorflow.python.ops.init_ops) with dtype is deprecated and will be removed in a future version.\n",
            "Instructions for updating:\n",
            "Call initializer instance with the dtype argument instead of passing it to the constructor\n",
            "WARNING:tensorflow:From /usr/local/lib/python3.6/dist-packages/tensorflow_core/python/ops/rnn_cell_impl.py:565: calling Constant.__init__ (from tensorflow.python.ops.init_ops) with dtype is deprecated and will be removed in a future version.\n",
            "Instructions for updating:\n",
            "Call initializer instance with the dtype argument instead of passing it to the constructor\n",
            "W0223 00:27:56.915682 140488953489280 deprecation.py:506] From /usr/local/lib/python3.6/dist-packages/tensorflow_core/python/ops/rnn_cell_impl.py:565: calling Constant.__init__ (from tensorflow.python.ops.init_ops) with dtype is deprecated and will be removed in a future version.\n",
            "Instructions for updating:\n",
            "Call initializer instance with the dtype argument instead of passing it to the constructor\n",
            "WARNING:tensorflow:From Hybrid.py:42: The name tf.get_variable_scope is deprecated. Please use tf.compat.v1.get_variable_scope instead.\n",
            "\n",
            "W0223 00:27:56.941411 140488953489280 module_wrapper.py:139] From Hybrid.py:42: The name tf.get_variable_scope is deprecated. Please use tf.compat.v1.get_variable_scope instead.\n",
            "\n",
            "WARNING:tensorflow:From Hybrid.py:50: where (from tensorflow.python.ops.array_ops) is deprecated and will be removed in a future version.\n",
            "Instructions for updating:\n",
            "Use tf.where in 2.0, which has the same broadcast rule as np.where\n",
            "W0223 00:27:56.948261 140488953489280 deprecation.py:323] From Hybrid.py:50: where (from tensorflow.python.ops.array_ops) is deprecated and will be removed in a future version.\n",
            "Instructions for updating:\n",
            "Use tf.where in 2.0, which has the same broadcast rule as np.where\n",
            "WARNING:tensorflow:From Hybrid.py:71: The name tf.train.AdamOptimizer is deprecated. Please use tf.compat.v1.train.AdamOptimizer instead.\n",
            "\n",
            "W0223 00:27:58.074824 140488953489280 module_wrapper.py:139] From Hybrid.py:71: The name tf.train.AdamOptimizer is deprecated. Please use tf.compat.v1.train.AdamOptimizer instead.\n",
            "\n",
            "WARNING:tensorflow:From Hybrid.py:74: The name tf.assign is deprecated. Please use tf.compat.v1.assign instead.\n",
            "\n",
            "W0223 00:28:01.862986 140488953489280 module_wrapper.py:139] From Hybrid.py:74: The name tf.assign is deprecated. Please use tf.compat.v1.assign instead.\n",
            "\n",
            "WARNING:tensorflow:From /usr/local/lib/python3.6/dist-packages/tensorflow_core/python/util/tf_should_use.py:198: initialize_all_variables (from tensorflow.python.ops.variables) is deprecated and will be removed after 2017-03-02.\n",
            "Instructions for updating:\n",
            "Use `tf.global_variables_initializer` instead.\n",
            "W0223 00:28:01.864129 140488953489280 deprecation.py:323] From /usr/local/lib/python3.6/dist-packages/tensorflow_core/python/util/tf_should_use.py:198: initialize_all_variables (from tensorflow.python.ops.variables) is deprecated and will be removed after 2017-03-02.\n",
            "Instructions for updating:\n",
            "Use `tf.global_variables_initializer` instead.\n",
            "Number of iterations: 0\n",
            "(1460, 1)\n",
            "Number of iterations: 1\n",
            "(1460, 1)\n",
            "Number of iterations: 2\n",
            "(1460, 1)\n",
            "Number of iterations: 3\n",
            "(1460, 1)\n",
            "Number of iterations: 4\n",
            "(1460, 1)\n",
            "Number of iterations: 5\n",
            "(1460, 1)\n",
            "RMSE: 0.17891658932570662\n",
            "The Learning rate is: 0.01\n",
            "Number of iterations: 6\n",
            "(1460, 1)\n",
            "RMSE: 0.17946401755644087\n",
            "The Learning rate is: 0.01\n",
            "Number of iterations: 7\n",
            "(1460, 1)\n",
            "RMSE: 0.17870531086214192\n",
            "The Learning rate is: 0.01\n",
            "Number of iterations: 8\n",
            "(1460, 1)\n",
            "RMSE: 0.17899668992987713\n",
            "The Learning rate is: 0.01\n",
            "Number of iterations: 9\n",
            "(1460, 1)\n",
            "RMSE: 0.1787930977685341\n",
            "The Learning rate is: 0.01\n",
            "Number of iterations: 10\n",
            "(1460, 1)\n",
            "RMSE: 0.17875071019786518\n",
            "The Learning rate is: 0.01\n",
            "Number of iterations: 11\n",
            "(1460, 1)\n",
            "RMSE: 0.1780899938442657\n",
            "The Learning rate is: 0.007\n",
            "Number of iterations: 12\n",
            "(1460, 1)\n",
            "RMSE: 0.1773215729018113\n",
            "The Learning rate is: 0.007\n",
            "Number of iterations: 13\n",
            "(1460, 1)\n",
            "RMSE: 0.17725814623653754\n",
            "The Learning rate is: 0.007\n",
            "Number of iterations: 14\n",
            "(1460, 1)\n",
            "RMSE: 0.17724531108200003\n",
            "The Learning rate is: 0.007\n",
            "Number of iterations: 15\n",
            "(1460, 1)\n",
            "RMSE: 0.17722639834001158\n",
            "The Learning rate is: 0.007\n",
            "Number of iterations: 16\n",
            "(1460, 1)\n",
            "RMSE: 0.17720267260399533\n",
            "The Learning rate is: 0.007\n",
            "Number of iterations: 17\n",
            "(1460, 1)\n",
            "RMSE: 0.17717561962125722\n",
            "The Learning rate is: 0.007\n",
            "Number of iterations: 18\n",
            "(1460, 1)\n",
            "RMSE: 0.17714658004029551\n",
            "The Learning rate is: 0.007\n",
            "Number of iterations: 19\n",
            "(1460, 1)\n",
            "RMSE: 0.17711668252157572\n",
            "The Learning rate is: 0.007\n",
            "Number of iterations: 20\n",
            "(1460, 1)\n",
            "RMSE: 0.1770868845146037\n",
            "The Learning rate is: 0.007\n",
            "Number of iterations: 21\n",
            "(1460, 1)\n",
            "RMSE: 0.17636345302225093\n",
            "The Learning rate is: 0.004\n",
            "Number of iterations: 22\n",
            "(1460, 1)\n",
            "RMSE: 0.17634454118104415\n",
            "The Learning rate is: 0.004\n",
            "Number of iterations: 23\n",
            "(1460, 1)\n",
            "RMSE: 0.1763496944792455\n",
            "The Learning rate is: 0.004\n",
            "Number of iterations: 24\n",
            "(1460, 1)\n",
            "RMSE: 0.17635599845544708\n",
            "The Learning rate is: 0.004\n",
            "Number of iterations: 25\n",
            "(1460, 1)\n",
            "RMSE: 0.1763611203451131\n",
            "The Learning rate is: 0.004\n",
            "Number of iterations: 26\n",
            "(1460, 1)\n",
            "RMSE: 0.1763650659318913\n",
            "The Learning rate is: 0.004\n",
            "Number of iterations: 27\n",
            "(1460, 1)\n",
            "RMSE: 0.17636789591145985\n",
            "The Learning rate is: 0.004\n",
            "Number of iterations: 28\n",
            "(1460, 1)\n",
            "RMSE: 0.17636966389137587\n",
            "The Learning rate is: 0.004\n",
            "Number of iterations: 29\n",
            "(1460, 1)\n",
            "RMSE: 0.17637042441901082\n",
            "The Learning rate is: 0.004\n",
            "Number of iterations: 30\n",
            "(1460, 1)\n",
            "RMSE: 0.17637025026392725\n",
            "The Learning rate is: 0.004\n",
            "Number of iterations: 31\n",
            "(1460, 1)\n",
            "RMSE: 0.17593505322279934\n",
            "The Learning rate is: 0.002\n",
            "Number of iterations: 32\n",
            "(1460, 1)\n",
            "RMSE: 0.17592089187450063\n",
            "The Learning rate is: 0.002\n",
            "Number of iterations: 33\n",
            "(1460, 1)\n",
            "RMSE: 0.17592564420519174\n",
            "The Learning rate is: 0.002\n",
            "Number of iterations: 34\n",
            "(1460, 1)\n",
            "RMSE: 0.175929345719894\n",
            "The Learning rate is: 0.002\n",
            "Number of iterations: 35\n",
            "(1460, 1)\n",
            "RMSE: 0.17593286913022077\n",
            "The Learning rate is: 0.002\n",
            "Number of iterations: 36\n",
            "(1460, 1)\n",
            "RMSE: 0.17593616353364222\n",
            "The Learning rate is: 0.002\n",
            "Number of iterations: 37\n",
            "(1460, 1)\n",
            "RMSE: 0.17593922144378119\n",
            "The Learning rate is: 0.002\n",
            "Number of iterations: 38\n",
            "(1460, 1)\n",
            "RMSE: 0.1759420513104429\n",
            "The Learning rate is: 0.002\n",
            "Number of iterations: 39\n",
            "(1460, 1)\n",
            "RMSE: 0.1759446403725579\n",
            "The Learning rate is: 0.002\n",
            "Number of iterations: 40\n",
            "(1460, 1)\n",
            "RMSE: 0.17594699044936857\n",
            "The Learning rate is: 0.002\n",
            "Number of iterations: 41\n",
            "(1460, 1)\n",
            "RMSE: 0.1757259636231647\n",
            "The Learning rate is: 0.001\n",
            "Number of iterations: 42\n",
            "(1460, 1)\n",
            "RMSE: 0.1757244442752512\n",
            "The Learning rate is: 0.001\n",
            "Number of iterations: 43\n",
            "(1460, 1)\n",
            "RMSE: 0.17572611704058225\n",
            "The Learning rate is: 0.001\n",
            "Number of iterations: 44\n",
            "(1460, 1)\n",
            "RMSE: 0.1757278556885773\n",
            "The Learning rate is: 0.001\n",
            "Number of iterations: 45\n",
            "(1460, 1)\n",
            "RMSE: 0.17572956907741952\n",
            "The Learning rate is: 0.001\n",
            "Number of iterations: 46\n",
            "(1460, 1)\n",
            "RMSE: 0.17573124596697642\n",
            "The Learning rate is: 0.001\n",
            "Number of iterations: 47\n",
            "(1460, 1)\n",
            "RMSE: 0.175732887278928\n",
            "The Learning rate is: 0.001\n",
            "Number of iterations: 48\n",
            "(1460, 1)\n",
            "RMSE: 0.1757344823048414\n",
            "The Learning rate is: 0.001\n",
            "Number of iterations: 49\n",
            "(1460, 1)\n",
            "RMSE: 0.17573603521299402\n",
            "The Learning rate is: 0.001\n",
            "Number of iterations: 50\n",
            "(1460, 1)\n",
            "RMSE: 0.17573753479509352\n",
            "The Learning rate is: 0.001\n",
            "Number of iterations: 51\n",
            "(1460, 1)\n",
            "RMSE: 0.17562398913277277\n",
            "The Learning rate is: 0.0005\n",
            "Number of iterations: 52\n",
            "(1460, 1)\n",
            "RMSE: 0.1756237510409712\n",
            "The Learning rate is: 0.0005\n",
            "Number of iterations: 53\n",
            "(1460, 1)\n",
            "RMSE: 0.17562436308449983\n",
            "The Learning rate is: 0.0005\n",
            "Number of iterations: 54\n",
            "(1460, 1)\n",
            "RMSE: 0.17562510870158785\n",
            "The Learning rate is: 0.0005\n",
            "Number of iterations: 55\n",
            "(1460, 1)\n",
            "RMSE: 0.17562588836062307\n",
            "The Learning rate is: 0.0005\n",
            "Number of iterations: 56\n",
            "(1460, 1)\n",
            "RMSE: 0.17562667720252498\n",
            "The Learning rate is: 0.0005\n",
            "Number of iterations: 57\n",
            "(1460, 1)\n",
            "RMSE: 0.1756274701785055\n",
            "The Learning rate is: 0.0005\n",
            "Number of iterations: 58\n",
            "(1460, 1)\n",
            "RMSE: 0.17562825479226019\n",
            "The Learning rate is: 0.0005\n",
            "Number of iterations: 59\n",
            "(1460, 1)\n",
            "RMSE: 0.17562903532831692\n",
            "The Learning rate is: 0.0005\n",
            "Number of iterations: 60\n",
            "(1460, 1)\n",
            "RMSE: 0.17562980926583857\n",
            "The Learning rate is: 0.0005\n",
            "Number of iterations: 61\n",
            "(1460, 1)\n",
            "RMSE: 0.1755696554709938\n",
            "The Learning rate is: 0.00025\n",
            "Number of iterations: 62\n",
            "(1460, 1)\n",
            "RMSE: 0.17556958980645807\n",
            "The Learning rate is: 0.00025\n",
            "Number of iterations: 63\n",
            "(1460, 1)\n",
            "RMSE: 0.17556975576850858\n",
            "The Learning rate is: 0.00025\n",
            "Number of iterations: 64\n",
            "(1460, 1)\n",
            "RMSE: 0.1755700029464468\n",
            "The Learning rate is: 0.00025\n",
            "Number of iterations: 65\n",
            "(1460, 1)\n",
            "RMSE: 0.17557028676148004\n",
            "The Learning rate is: 0.00025\n",
            "Number of iterations: 66\n",
            "(1460, 1)\n",
            "RMSE: 0.175570589760281\n",
            "The Learning rate is: 0.00025\n",
            "Number of iterations: 67\n",
            "(1460, 1)\n",
            "RMSE: 0.17557090087875915\n",
            "The Learning rate is: 0.00025\n",
            "Number of iterations: 68\n",
            "(1460, 1)\n",
            "RMSE: 0.1755712140030644\n",
            "The Learning rate is: 0.00025\n",
            "Number of iterations: 69\n",
            "(1460, 1)\n",
            "RMSE: 0.17557152771403342\n",
            "The Learning rate is: 0.00025\n",
            "Number of iterations: 70\n",
            "(1460, 1)\n",
            "RMSE: 0.17557183968163229\n",
            "The Learning rate is: 0.00025\n",
            "Number of iterations: 71\n",
            "(1460, 1)\n",
            "RMSE: 0.17553928714904285\n",
            "The Learning rate is: 0.000125\n",
            "Number of iterations: 72\n",
            "(1460, 1)\n",
            "RMSE: 0.1755392527647337\n",
            "The Learning rate is: 0.000125\n",
            "Number of iterations: 73\n",
            "(1460, 1)\n",
            "RMSE: 0.1755392618576119\n",
            "The Learning rate is: 0.000125\n",
            "Number of iterations: 74\n",
            "(1460, 1)\n",
            "RMSE: 0.17553929349184644\n",
            "The Learning rate is: 0.000125\n",
            "Number of iterations: 75\n",
            "(1460, 1)\n",
            "RMSE: 0.17553933753497006\n",
            "The Learning rate is: 0.000125\n",
            "Number of iterations: 76\n",
            "(1460, 1)\n",
            "RMSE: 0.17553939174931651\n",
            "The Learning rate is: 0.000125\n",
            "Number of iterations: 77\n",
            "(1460, 1)\n",
            "RMSE: 0.17553945009664784\n",
            "The Learning rate is: 0.000125\n",
            "Number of iterations: 78\n",
            "(1460, 1)\n",
            "RMSE: 0.17553950838645105\n",
            "The Learning rate is: 0.000125\n",
            "Number of iterations: 79\n",
            "(1460, 1)\n",
            "RMSE: 0.17553956915318542\n",
            "The Learning rate is: 0.000125\n",
            "Number of iterations: 80\n",
            "(1460, 1)\n",
            "RMSE: 0.17553962908344906\n",
            "The Learning rate is: 0.000125\n",
            "Number of iterations: 81\n",
            "(1460, 1)\n",
            "RMSE: 0.1755219264400566\n",
            "The Learning rate is: 6.25e-05\n",
            "Number of iterations: 82\n",
            "(1460, 1)\n",
            "RMSE: 0.17552187534706623\n",
            "The Learning rate is: 6.25e-05\n",
            "Number of iterations: 83\n",
            "(1460, 1)\n",
            "RMSE: 0.1755218328803054\n",
            "The Learning rate is: 6.25e-05\n",
            "Number of iterations: 84\n",
            "(1460, 1)\n",
            "RMSE: 0.17552179107336718\n",
            "The Learning rate is: 6.25e-05\n",
            "Number of iterations: 85\n",
            "(1460, 1)\n",
            "RMSE: 0.17552175185108787\n",
            "The Learning rate is: 6.25e-05\n",
            "Number of iterations: 86\n",
            "(1460, 1)\n",
            "RMSE: 0.1755217143226522\n",
            "The Learning rate is: 6.25e-05\n",
            "Number of iterations: 87\n",
            "(1460, 1)\n",
            "RMSE: 0.17552167346343858\n",
            "The Learning rate is: 6.25e-05\n",
            "Number of iterations: 88\n",
            "(1460, 1)\n",
            "RMSE: 0.17552163430946813\n",
            "The Learning rate is: 6.25e-05\n",
            "Number of iterations: 89\n",
            "(1460, 1)\n",
            "RMSE: 0.17552159086002578\n",
            "The Learning rate is: 6.25e-05\n",
            "Number of iterations: 90\n",
            "(1460, 1)\n",
            "RMSE: 0.17552154605239612\n",
            "The Learning rate is: 6.25e-05\n",
            "Number of iterations: 91\n",
            "(1460, 1)\n",
            "RMSE: 0.17551199493382466\n",
            "The Learning rate is: 3.125e-05\n",
            "Number of iterations: 92\n",
            "(1460, 1)\n",
            "RMSE: 0.17551194410297635\n",
            "The Learning rate is: 3.125e-05\n",
            "Number of iterations: 93\n",
            "(1460, 1)\n",
            "RMSE: 0.17551189118765498\n",
            "The Learning rate is: 3.125e-05\n",
            "Number of iterations: 94\n",
            "(1460, 1)\n",
            "RMSE: 0.17551183626619304\n",
            "The Learning rate is: 3.125e-05\n",
            "Number of iterations: 95\n",
            "(1460, 1)\n",
            "RMSE: 0.17551178312934632\n",
            "The Learning rate is: 3.125e-05\n",
            "Number of iterations: 96\n",
            "(1460, 1)\n",
            "RMSE: 0.17551172650560226\n",
            "The Learning rate is: 3.125e-05\n",
            "Number of iterations: 97\n",
            "(1460, 1)\n",
            "RMSE: 0.1755116685478278\n",
            "The Learning rate is: 3.125e-05\n",
            "Number of iterations: 98\n",
            "(1460, 1)\n",
            "RMSE: 0.17551160936198967\n",
            "The Learning rate is: 3.125e-05\n",
            "Number of iterations: 99\n",
            "(1460, 1)\n",
            "RMSE: 0.17551154991652707\n",
            "The Learning rate is: 3.125e-05\n",
            "Number of iterations: 100\n",
            "(1460, 1)\n",
            "RMSE: 0.1755114877038794\n",
            "The Learning rate is: 3.125e-05\n",
            "Number of iterations: 101\n",
            "(1460, 1)\n",
            "RMSE: 0.17550640311220053\n",
            "The Learning rate is: 1.5625e-05\n",
            "Number of iterations: 102\n",
            "(1460, 1)\n",
            "RMSE: 0.17550636095614072\n",
            "The Learning rate is: 1.5625e-05\n",
            "Number of iterations: 103\n",
            "(1460, 1)\n",
            "RMSE: 0.17550631770878977\n",
            "The Learning rate is: 1.5625e-05\n",
            "Number of iterations: 104\n",
            "(1460, 1)\n",
            "RMSE: 0.17550627371853858\n",
            "The Learning rate is: 1.5625e-05\n",
            "Number of iterations: 105\n",
            "(1460, 1)\n",
            "RMSE: 0.17550622885183711\n",
            "The Learning rate is: 1.5625e-05\n",
            "Number of iterations: 106\n",
            "(1460, 1)\n",
            "RMSE: 0.17550618302326582\n",
            "The Learning rate is: 1.5625e-05\n",
            "Number of iterations: 107\n",
            "(1460, 1)\n",
            "RMSE: 0.17550613655000447\n",
            "The Learning rate is: 1.5625e-05\n",
            "Number of iterations: 108\n",
            "(1460, 1)\n",
            "RMSE: 0.1755060882848148\n",
            "The Learning rate is: 1.5625e-05\n",
            "Number of iterations: 109\n",
            "(1460, 1)\n",
            "RMSE: 0.1755060393849618\n",
            "The Learning rate is: 1.5625e-05\n",
            "Number of iterations: 110\n",
            "(1460, 1)\n",
            "RMSE: 0.17550598881460977\n",
            "The Learning rate is: 1.5625e-05\n",
            "Number of iterations: 111\n",
            "(1460, 1)\n",
            "RMSE: 0.17550331856584786\n",
            "The Learning rate is: 7.8125e-06\n",
            "Number of iterations: 112\n",
            "(1460, 1)\n",
            "RMSE: 0.17550328954656966\n",
            "The Learning rate is: 7.8125e-06\n",
            "Number of iterations: 113\n",
            "(1460, 1)\n",
            "RMSE: 0.17550326027341276\n",
            "The Learning rate is: 7.8125e-06\n",
            "Number of iterations: 114\n",
            "(1460, 1)\n",
            "RMSE: 0.17550323084118133\n",
            "The Learning rate is: 7.8125e-06\n",
            "Number of iterations: 115\n",
            "(1460, 1)\n",
            "RMSE: 0.17550320016568302\n",
            "The Learning rate is: 7.8125e-06\n",
            "Number of iterations: 116\n",
            "(1460, 1)\n",
            "RMSE: 0.17550316822406786\n",
            "The Learning rate is: 7.8125e-06\n",
            "Number of iterations: 117\n",
            "(1460, 1)\n",
            "RMSE: 0.17550313781154972\n",
            "The Learning rate is: 7.8125e-06\n",
            "Number of iterations: 118\n",
            "(1460, 1)\n",
            "RMSE: 0.17550310530260946\n",
            "The Learning rate is: 7.8125e-06\n",
            "Number of iterations: 119\n",
            "(1460, 1)\n",
            "RMSE: 0.17550307410434696\n",
            "The Learning rate is: 7.8125e-06\n",
            "Number of iterations: 120\n",
            "(1460, 1)\n",
            "RMSE: 0.17550304043707377\n",
            "The Learning rate is: 7.8125e-06\n",
            "Number of iterations: 121\n",
            "(1460, 1)\n",
            "RMSE: 0.17550165744239096\n",
            "The Learning rate is: 3.90625e-06\n",
            "Number of iterations: 122\n",
            "(1460, 1)\n",
            "RMSE: 0.17550163922478157\n",
            "The Learning rate is: 3.90625e-06\n",
            "Number of iterations: 123\n",
            "(1460, 1)\n",
            "RMSE: 0.17550162153070017\n",
            "The Learning rate is: 3.90625e-06\n",
            "Number of iterations: 124\n",
            "(1460, 1)\n",
            "RMSE: 0.1755016027555073\n",
            "The Learning rate is: 3.90625e-06\n",
            "Number of iterations: 125\n",
            "(1460, 1)\n",
            "RMSE: 0.17550158400611846\n",
            "The Learning rate is: 3.90625e-06\n",
            "Number of iterations: 126\n",
            "(1460, 1)\n",
            "RMSE: 0.1755015654974768\n",
            "The Learning rate is: 3.90625e-06\n",
            "Number of iterations: 127\n",
            "(1460, 1)\n",
            "RMSE: 0.17550154533207388\n",
            "The Learning rate is: 3.90625e-06\n",
            "Number of iterations: 128\n",
            "(1460, 1)\n",
            "RMSE: 0.17550152691179097\n",
            "The Learning rate is: 3.90625e-06\n",
            "Number of iterations: 129\n",
            "(1460, 1)\n",
            "RMSE: 0.17550150646922305\n",
            "The Learning rate is: 3.90625e-06\n",
            "Number of iterations: 130\n",
            "(1460, 1)\n",
            "RMSE: 0.17550148658811096\n",
            "The Learning rate is: 3.90625e-06\n",
            "Number of iterations: 131\n",
            "(1460, 1)\n",
            "RMSE: 0.17550077607404202\n",
            "The Learning rate is: 1.953125e-06\n",
            "Number of iterations: 132\n",
            "(1460, 1)\n",
            "RMSE: 0.1755007661766159\n",
            "The Learning rate is: 1.953125e-06\n",
            "Number of iterations: 133\n",
            "(1460, 1)\n",
            "RMSE: 0.1755007555542786\n",
            "The Learning rate is: 1.953125e-06\n",
            "Number of iterations: 134\n",
            "(1460, 1)\n",
            "RMSE: 0.17550074470229715\n",
            "The Learning rate is: 1.953125e-06\n",
            "Number of iterations: 135\n",
            "(1460, 1)\n",
            "RMSE: 0.17550073459175838\n",
            "The Learning rate is: 1.953125e-06\n",
            "Number of iterations: 136\n",
            "(1460, 1)\n",
            "RMSE: 0.17550072422128793\n",
            "The Learning rate is: 1.953125e-06\n",
            "Number of iterations: 137\n",
            "(1460, 1)\n",
            "RMSE: 0.17550071270881498\n",
            "The Learning rate is: 1.953125e-06\n",
            "Number of iterations: 138\n",
            "(1460, 1)\n",
            "RMSE: 0.1755007018952025\n",
            "The Learning rate is: 1.953125e-06\n",
            "Number of iterations: 139\n",
            "(1460, 1)\n",
            "RMSE: 0.175500691337634\n",
            "The Learning rate is: 1.953125e-06\n",
            "Number of iterations: 140\n",
            "(1460, 1)\n",
            "RMSE: 0.17550067973311154\n",
            "The Learning rate is: 1.953125e-06\n",
            "Number of iterations: 141\n",
            "(1460, 1)\n",
            "RMSE: 0.17550031766266277\n",
            "The Learning rate is: 9.765625e-07\n",
            "Number of iterations: 142\n",
            "(1460, 1)\n",
            "RMSE: 0.1755003120127765\n",
            "The Learning rate is: 9.765625e-07\n",
            "Number of iterations: 143\n",
            "(1460, 1)\n",
            "RMSE: 0.17550030643743958\n",
            "The Learning rate is: 9.765625e-07\n",
            "Number of iterations: 144\n",
            "(1460, 1)\n",
            "RMSE: 0.17550030029912214\n",
            "The Learning rate is: 9.765625e-07\n",
            "Number of iterations: 145\n",
            "(1460, 1)\n",
            "RMSE: 0.1755002950312333\n",
            "The Learning rate is: 9.765625e-07\n",
            "Number of iterations: 146\n",
            "(1460, 1)\n",
            "RMSE: 0.17550028802845208\n",
            "The Learning rate is: 9.765625e-07\n",
            "Number of iterations: 147\n",
            "(1460, 1)\n",
            "RMSE: 0.175500282702356\n",
            "The Learning rate is: 9.765625e-07\n",
            "Number of iterations: 148\n",
            "(1460, 1)\n",
            "RMSE: 0.17550027593249318\n",
            "The Learning rate is: 9.765625e-07\n",
            "Number of iterations: 149\n",
            "(1460, 1)\n",
            "RMSE: 0.17550027062447976\n",
            "The Learning rate is: 9.765625e-07\n"
          ],
          "name": "stdout"
        }
      ]
    },
    {
      "cell_type": "code",
      "metadata": {
        "id": "W7YSG7wDcX3W",
        "colab_type": "code",
        "colab": {
          "base_uri": "https://localhost:8080/",
          "height": 1000
        },
        "outputId": "7ec24a25-595c-4877-8f6b-fa34135c5e7f"
      },
      "source": [
        "!python Residual.py"
      ],
      "execution_count": 46,
      "outputs": [
        {
          "output_type": "stream",
          "text": [
            "WARNING:tensorflow:From Residual.py:145: The name tf.app.run is deprecated. Please use tf.compat.v1.app.run instead.\n",
            "\n",
            "I0223 00:36:38.245556 140364871370624 utils.py:141] NumExpr defaulting to 2 threads.\n",
            "WARNING:tensorflow:From Residual.py:117: The name tf.ConfigProto is deprecated. Please use tf.compat.v1.ConfigProto instead.\n",
            "\n",
            "W0223 00:36:38.253382 140364871370624 module_wrapper.py:139] From Residual.py:117: The name tf.ConfigProto is deprecated. Please use tf.compat.v1.ConfigProto instead.\n",
            "\n",
            "WARNING:tensorflow:From Residual.py:120: The name tf.Session is deprecated. Please use tf.compat.v1.Session instead.\n",
            "\n",
            "W0223 00:36:38.253720 140364871370624 module_wrapper.py:139] From Residual.py:120: The name tf.Session is deprecated. Please use tf.compat.v1.Session instead.\n",
            "\n",
            "2020-02-23 00:36:38.259517: I tensorflow/core/platform/profile_utils/cpu_utils.cc:94] CPU Frequency: 2300000000 Hz\n",
            "2020-02-23 00:36:38.259786: I tensorflow/compiler/xla/service/service.cc:168] XLA service 0x29acbc0 initialized for platform Host (this does not guarantee that XLA will be used). Devices:\n",
            "2020-02-23 00:36:38.259825: I tensorflow/compiler/xla/service/service.cc:176]   StreamExecutor device (0): Host, Default Version\n",
            "2020-02-23 00:36:38.262120: I tensorflow/stream_executor/platform/default/dso_loader.cc:44] Successfully opened dynamic library libcuda.so.1\n",
            "2020-02-23 00:36:38.264291: E tensorflow/stream_executor/cuda/cuda_driver.cc:318] failed call to cuInit: CUDA_ERROR_NO_DEVICE: no CUDA-capable device is detected\n",
            "2020-02-23 00:36:38.264328: I tensorflow/stream_executor/cuda/cuda_diagnostics.cc:156] kernel driver does not appear to be running on this host (3114d6793ca9): /proc/driver/nvidia/version does not exist\n",
            "WARNING:tensorflow:From Residual.py:123: The name tf.variable_scope is deprecated. Please use tf.compat.v1.variable_scope instead.\n",
            "\n",
            "W0223 00:36:38.264999 140364871370624 module_wrapper.py:139] From Residual.py:123: The name tf.variable_scope is deprecated. Please use tf.compat.v1.variable_scope instead.\n",
            "\n",
            "WARNING:tensorflow:From Residual.py:30: The name tf.placeholder is deprecated. Please use tf.compat.v1.placeholder instead.\n",
            "\n",
            "W0223 00:36:38.265449 140364871370624 module_wrapper.py:139] From Residual.py:30: The name tf.placeholder is deprecated. Please use tf.compat.v1.placeholder instead.\n",
            "\n",
            "WARNING:tensorflow:From Residual.py:33: GRUCell.__init__ (from tensorflow.python.ops.rnn_cell_impl) is deprecated and will be removed in a future version.\n",
            "Instructions for updating:\n",
            "This class is equivalent as tf.keras.layers.GRUCell, and will be replaced by that in Tensorflow 2.0.\n",
            "W0223 00:36:38.267081 140364871370624 deprecation.py:323] From Residual.py:33: GRUCell.__init__ (from tensorflow.python.ops.rnn_cell_impl) is deprecated and will be removed in a future version.\n",
            "Instructions for updating:\n",
            "This class is equivalent as tf.keras.layers.GRUCell, and will be replaced by that in Tensorflow 2.0.\n",
            "WARNING:tensorflow:From Residual.py:35: The name tf.nn.rnn_cell.ResidualWrapper is deprecated. Please use tf.compat.v1.nn.rnn_cell.ResidualWrapper instead.\n",
            "\n",
            "W0223 00:36:38.269436 140364871370624 module_wrapper.py:139] From Residual.py:35: The name tf.nn.rnn_cell.ResidualWrapper is deprecated. Please use tf.compat.v1.nn.rnn_cell.ResidualWrapper instead.\n",
            "\n",
            "WARNING:tensorflow:From Residual.py:36: MultiRNNCell.__init__ (from tensorflow.python.ops.rnn_cell_impl) is deprecated and will be removed in a future version.\n",
            "Instructions for updating:\n",
            "This class is equivalent as tf.keras.layers.StackedRNNCells, and will be replaced by that in Tensorflow 2.0.\n",
            "W0223 00:36:38.270343 140364871370624 deprecation.py:323] From Residual.py:36: MultiRNNCell.__init__ (from tensorflow.python.ops.rnn_cell_impl) is deprecated and will be removed in a future version.\n",
            "Instructions for updating:\n",
            "This class is equivalent as tf.keras.layers.StackedRNNCells, and will be replaced by that in Tensorflow 2.0.\n",
            "WARNING:tensorflow:From /usr/local/lib/python3.6/dist-packages/tensorflow_core/python/ops/rnn_cell_impl.py:559: Layer.add_variable (from tensorflow.python.keras.engine.base_layer) is deprecated and will be removed in a future version.\n",
            "Instructions for updating:\n",
            "Please use `layer.add_weight` method instead.\n",
            "W0223 00:36:38.286053 140364871370624 deprecation.py:323] From /usr/local/lib/python3.6/dist-packages/tensorflow_core/python/ops/rnn_cell_impl.py:559: Layer.add_variable (from tensorflow.python.keras.engine.base_layer) is deprecated and will be removed in a future version.\n",
            "Instructions for updating:\n",
            "Please use `layer.add_weight` method instead.\n",
            "WARNING:tensorflow:From /usr/local/lib/python3.6/dist-packages/tensorflow_core/python/ops/rnn_cell_impl.py:565: calling Constant.__init__ (from tensorflow.python.ops.init_ops) with dtype is deprecated and will be removed in a future version.\n",
            "Instructions for updating:\n",
            "Call initializer instance with the dtype argument instead of passing it to the constructor\n",
            "W0223 00:36:38.294476 140364871370624 deprecation.py:506] From /usr/local/lib/python3.6/dist-packages/tensorflow_core/python/ops/rnn_cell_impl.py:565: calling Constant.__init__ (from tensorflow.python.ops.init_ops) with dtype is deprecated and will be removed in a future version.\n",
            "Instructions for updating:\n",
            "Call initializer instance with the dtype argument instead of passing it to the constructor\n",
            "WARNING:tensorflow:From /usr/local/lib/python3.6/dist-packages/tensorflow_core/python/ops/rnn_cell_impl.py:575: calling Zeros.__init__ (from tensorflow.python.ops.init_ops) with dtype is deprecated and will be removed in a future version.\n",
            "Instructions for updating:\n",
            "Call initializer instance with the dtype argument instead of passing it to the constructor\n",
            "W0223 00:36:38.305691 140364871370624 deprecation.py:506] From /usr/local/lib/python3.6/dist-packages/tensorflow_core/python/ops/rnn_cell_impl.py:575: calling Zeros.__init__ (from tensorflow.python.ops.init_ops) with dtype is deprecated and will be removed in a future version.\n",
            "Instructions for updating:\n",
            "Call initializer instance with the dtype argument instead of passing it to the constructor\n",
            "WARNING:tensorflow:From Residual.py:44: The name tf.get_variable_scope is deprecated. Please use tf.compat.v1.get_variable_scope instead.\n",
            "\n",
            "W0223 00:36:38.355458 140364871370624 module_wrapper.py:139] From Residual.py:44: The name tf.get_variable_scope is deprecated. Please use tf.compat.v1.get_variable_scope instead.\n",
            "\n",
            "WARNING:tensorflow:From Residual.py:52: where (from tensorflow.python.ops.array_ops) is deprecated and will be removed in a future version.\n",
            "Instructions for updating:\n",
            "Use tf.where in 2.0, which has the same broadcast rule as np.where\n",
            "W0223 00:36:38.362475 140364871370624 deprecation.py:323] From Residual.py:52: where (from tensorflow.python.ops.array_ops) is deprecated and will be removed in a future version.\n",
            "Instructions for updating:\n",
            "Use tf.where in 2.0, which has the same broadcast rule as np.where\n",
            "WARNING:tensorflow:From Residual.py:73: The name tf.train.AdamOptimizer is deprecated. Please use tf.compat.v1.train.AdamOptimizer instead.\n",
            "\n",
            "W0223 00:36:39.556735 140364871370624 module_wrapper.py:139] From Residual.py:73: The name tf.train.AdamOptimizer is deprecated. Please use tf.compat.v1.train.AdamOptimizer instead.\n",
            "\n",
            "WARNING:tensorflow:From Residual.py:76: The name tf.assign is deprecated. Please use tf.compat.v1.assign instead.\n",
            "\n",
            "W0223 00:36:43.981815 140364871370624 module_wrapper.py:139] From Residual.py:76: The name tf.assign is deprecated. Please use tf.compat.v1.assign instead.\n",
            "\n",
            "WARNING:tensorflow:From /usr/local/lib/python3.6/dist-packages/tensorflow_core/python/util/tf_should_use.py:198: initialize_all_variables (from tensorflow.python.ops.variables) is deprecated and will be removed after 2017-03-02.\n",
            "Instructions for updating:\n",
            "Use `tf.global_variables_initializer` instead.\n",
            "W0223 00:36:43.983041 140364871370624 deprecation.py:323] From /usr/local/lib/python3.6/dist-packages/tensorflow_core/python/util/tf_should_use.py:198: initialize_all_variables (from tensorflow.python.ops.variables) is deprecated and will be removed after 2017-03-02.\n",
            "Instructions for updating:\n",
            "Use `tf.global_variables_initializer` instead.\n",
            "Number of iterations: 0\n",
            "(1460, 1)\n",
            "Number of iterations: 1\n",
            "(1460, 1)\n",
            "Number of iterations: 2\n",
            "(1460, 1)\n",
            "Number of iterations: 3\n",
            "(1460, 1)\n",
            "Number of iterations: 4\n",
            "(1460, 1)\n",
            "Number of iterations: 5\n",
            "(1460, 1)\n",
            "RMSE: 0.181251189358677\n",
            "The Learning rate is: 0.01\n",
            "Number of iterations: 6\n",
            "(1460, 1)\n",
            "RMSE: 0.1801756047089841\n",
            "The Learning rate is: 0.01\n",
            "Number of iterations: 7\n",
            "(1460, 1)\n",
            "RMSE: 0.18119735839318965\n",
            "The Learning rate is: 0.01\n",
            "Number of iterations: 8\n",
            "(1460, 1)\n",
            "RMSE: 0.18068028720157508\n",
            "The Learning rate is: 0.01\n",
            "Number of iterations: 9\n",
            "(1460, 1)\n",
            "RMSE: 0.18082805959745013\n",
            "The Learning rate is: 0.01\n",
            "Number of iterations: 10\n",
            "(1460, 1)\n",
            "RMSE: 0.18068561436291153\n",
            "The Learning rate is: 0.01\n",
            "Number of iterations: 11\n",
            "(1460, 1)\n",
            "RMSE: 0.17930145136131073\n",
            "The Learning rate is: 0.007\n",
            "Number of iterations: 12\n",
            "(1460, 1)\n",
            "RMSE: 0.17861604974931375\n",
            "The Learning rate is: 0.007\n",
            "Number of iterations: 13\n",
            "(1460, 1)\n",
            "RMSE: 0.17861776576057461\n",
            "The Learning rate is: 0.007\n",
            "Number of iterations: 14\n",
            "(1460, 1)\n",
            "RMSE: 0.17865313698153165\n",
            "The Learning rate is: 0.007\n",
            "Number of iterations: 15\n",
            "(1460, 1)\n",
            "RMSE: 0.17867701630416757\n",
            "The Learning rate is: 0.007\n",
            "Number of iterations: 16\n",
            "(1460, 1)\n",
            "RMSE: 0.17869151344547637\n",
            "The Learning rate is: 0.007\n",
            "Number of iterations: 17\n",
            "(1460, 1)\n",
            "RMSE: 0.17869887340284893\n",
            "The Learning rate is: 0.007\n",
            "Number of iterations: 18\n",
            "(1460, 1)\n",
            "RMSE: 0.17870272419274238\n",
            "The Learning rate is: 0.007\n",
            "Number of iterations: 19\n",
            "(1460, 1)\n",
            "RMSE: 0.1787115281390536\n",
            "The Learning rate is: 0.007\n",
            "Number of iterations: 20\n",
            "(1460, 1)\n",
            "RMSE: 0.17874269485244937\n",
            "The Learning rate is: 0.007\n",
            "Number of iterations: 21\n",
            "(1460, 1)\n",
            "RMSE: 0.17705654351885533\n",
            "The Learning rate is: 0.004\n",
            "Number of iterations: 22\n",
            "(1460, 1)\n",
            "RMSE: 0.17698470811523212\n",
            "The Learning rate is: 0.004\n",
            "Number of iterations: 23\n",
            "(1460, 1)\n",
            "RMSE: 0.17701136231373724\n",
            "The Learning rate is: 0.004\n",
            "Number of iterations: 24\n",
            "(1460, 1)\n",
            "RMSE: 0.1770371200515802\n",
            "The Learning rate is: 0.004\n",
            "Number of iterations: 25\n",
            "(1460, 1)\n",
            "RMSE: 0.17706109372949205\n",
            "The Learning rate is: 0.004\n",
            "Number of iterations: 26\n",
            "(1460, 1)\n",
            "RMSE: 0.1770833220164771\n",
            "The Learning rate is: 0.004\n",
            "Number of iterations: 27\n",
            "(1460, 1)\n",
            "RMSE: 0.1771037942298699\n",
            "The Learning rate is: 0.004\n",
            "Number of iterations: 28\n",
            "(1460, 1)\n",
            "RMSE: 0.17712249229705065\n",
            "The Learning rate is: 0.004\n",
            "Number of iterations: 29\n",
            "(1460, 1)\n",
            "RMSE: 0.17713942425319879\n",
            "The Learning rate is: 0.004\n",
            "Number of iterations: 30\n",
            "(1460, 1)\n",
            "RMSE: 0.1771546014145438\n",
            "The Learning rate is: 0.004\n",
            "Number of iterations: 31\n",
            "(1460, 1)\n",
            "RMSE: 0.17631352592224114\n",
            "The Learning rate is: 0.002\n",
            "Number of iterations: 32\n",
            "(1460, 1)\n",
            "RMSE: 0.17628877839099863\n",
            "The Learning rate is: 0.002\n",
            "Number of iterations: 33\n",
            "(1460, 1)\n",
            "RMSE: 0.1762966817740603\n",
            "The Learning rate is: 0.002\n",
            "Number of iterations: 34\n",
            "(1460, 1)\n",
            "RMSE: 0.17630674584971734\n",
            "The Learning rate is: 0.002\n",
            "Number of iterations: 35\n",
            "(1460, 1)\n",
            "RMSE: 0.176316300981572\n",
            "The Learning rate is: 0.002\n",
            "Number of iterations: 36\n",
            "(1460, 1)\n",
            "RMSE: 0.1763253519686287\n",
            "The Learning rate is: 0.002\n",
            "Number of iterations: 37\n",
            "(1460, 1)\n",
            "RMSE: 0.17633387880744472\n",
            "The Learning rate is: 0.002\n",
            "Number of iterations: 38\n",
            "(1460, 1)\n",
            "RMSE: 0.1763418701834473\n",
            "The Learning rate is: 0.002\n",
            "Number of iterations: 39\n",
            "(1460, 1)\n",
            "RMSE: 0.1763493107859365\n",
            "The Learning rate is: 0.002\n",
            "Number of iterations: 40\n",
            "(1460, 1)\n",
            "RMSE: 0.17635619242769687\n",
            "The Learning rate is: 0.002\n",
            "Number of iterations: 41\n",
            "(1460, 1)\n",
            "RMSE: 0.175931411755477\n",
            "The Learning rate is: 0.001\n",
            "Number of iterations: 42\n",
            "(1460, 1)\n",
            "RMSE: 0.17591844635700393\n",
            "The Learning rate is: 0.001\n",
            "Number of iterations: 43\n",
            "(1460, 1)\n",
            "RMSE: 0.17592282235574072\n",
            "The Learning rate is: 0.001\n",
            "Number of iterations: 44\n",
            "(1460, 1)\n",
            "RMSE: 0.17592623714598735\n",
            "The Learning rate is: 0.001\n",
            "Number of iterations: 45\n",
            "(1460, 1)\n",
            "RMSE: 0.17592955906131774\n",
            "The Learning rate is: 0.001\n",
            "Number of iterations: 46\n",
            "(1460, 1)\n",
            "RMSE: 0.17593274549614038\n",
            "The Learning rate is: 0.001\n",
            "Number of iterations: 47\n",
            "(1460, 1)\n",
            "RMSE: 0.1759357900495805\n",
            "The Learning rate is: 0.001\n",
            "Number of iterations: 48\n",
            "(1460, 1)\n",
            "RMSE: 0.17593869139161242\n",
            "The Learning rate is: 0.001\n",
            "Number of iterations: 49\n",
            "(1460, 1)\n",
            "RMSE: 0.17594143984665989\n",
            "The Learning rate is: 0.001\n",
            "Number of iterations: 50\n",
            "(1460, 1)\n",
            "RMSE: 0.1759440468788382\n",
            "The Learning rate is: 0.001\n",
            "Number of iterations: 51\n",
            "(1460, 1)\n",
            "RMSE: 0.17571841373936564\n",
            "The Learning rate is: 0.0005\n",
            "Number of iterations: 52\n",
            "(1460, 1)\n",
            "RMSE: 0.17571595944826432\n",
            "The Learning rate is: 0.0005\n",
            "Number of iterations: 53\n",
            "(1460, 1)\n",
            "RMSE: 0.17571695484747404\n",
            "The Learning rate is: 0.0005\n",
            "Number of iterations: 54\n",
            "(1460, 1)\n",
            "RMSE: 0.17571802524117444\n",
            "The Learning rate is: 0.0005\n",
            "Number of iterations: 55\n",
            "(1460, 1)\n",
            "RMSE: 0.17571907784285337\n",
            "The Learning rate is: 0.0005\n",
            "Number of iterations: 56\n",
            "(1460, 1)\n",
            "RMSE: 0.1757201144237968\n",
            "The Learning rate is: 0.0005\n",
            "Number of iterations: 57\n",
            "(1460, 1)\n",
            "RMSE: 0.17572112635765\n",
            "The Learning rate is: 0.0005\n",
            "Number of iterations: 58\n",
            "(1460, 1)\n",
            "RMSE: 0.1757221218792189\n",
            "The Learning rate is: 0.0005\n",
            "Number of iterations: 59\n",
            "(1460, 1)\n",
            "RMSE: 0.17572309267599195\n",
            "The Learning rate is: 0.0005\n",
            "Number of iterations: 60\n",
            "(1460, 1)\n",
            "RMSE: 0.17572404113378448\n",
            "The Learning rate is: 0.0005\n",
            "Number of iterations: 61\n",
            "(1460, 1)\n",
            "RMSE: 0.17560646216439643\n",
            "The Learning rate is: 0.00025\n",
            "Number of iterations: 62\n",
            "(1460, 1)\n",
            "RMSE: 0.17560566983057413\n",
            "The Learning rate is: 0.00025\n",
            "Number of iterations: 63\n",
            "(1460, 1)\n",
            "RMSE: 0.17560578698870852\n",
            "The Learning rate is: 0.00025\n",
            "Number of iterations: 64\n",
            "(1460, 1)\n",
            "RMSE: 0.17560603551396203\n",
            "The Learning rate is: 0.00025\n",
            "Number of iterations: 65\n",
            "(1460, 1)\n",
            "RMSE: 0.1756063201071316\n",
            "The Learning rate is: 0.00025\n",
            "Number of iterations: 66\n",
            "(1460, 1)\n",
            "RMSE: 0.17560661762926386\n",
            "The Learning rate is: 0.00025\n",
            "Number of iterations: 67\n",
            "(1460, 1)\n",
            "RMSE: 0.17560692121984006\n",
            "The Learning rate is: 0.00025\n",
            "Number of iterations: 68\n",
            "(1460, 1)\n",
            "RMSE: 0.17560722720510633\n",
            "The Learning rate is: 0.00025\n",
            "Number of iterations: 69\n",
            "(1460, 1)\n",
            "RMSE: 0.17560752876923857\n",
            "The Learning rate is: 0.00025\n",
            "Number of iterations: 70\n",
            "(1460, 1)\n",
            "RMSE: 0.17560783468919372\n",
            "The Learning rate is: 0.00025\n",
            "Number of iterations: 71\n",
            "(1460, 1)\n",
            "RMSE: 0.17554583340663335\n",
            "The Learning rate is: 0.000125\n",
            "Number of iterations: 72\n",
            "(1460, 1)\n",
            "RMSE: 0.1755454983441092\n",
            "The Learning rate is: 0.000125\n",
            "Number of iterations: 73\n",
            "(1460, 1)\n",
            "RMSE: 0.1755453967249752\n",
            "The Learning rate is: 0.000125\n",
            "Number of iterations: 74\n",
            "(1460, 1)\n",
            "RMSE: 0.17554536218667807\n",
            "The Learning rate is: 0.000125\n",
            "Number of iterations: 75\n",
            "(1460, 1)\n",
            "RMSE: 0.17554536149944636\n",
            "The Learning rate is: 0.000125\n",
            "Number of iterations: 76\n",
            "(1460, 1)\n",
            "RMSE: 0.17554538074800302\n",
            "The Learning rate is: 0.000125\n",
            "Number of iterations: 77\n",
            "(1460, 1)\n",
            "RMSE: 0.17554540781357147\n",
            "The Learning rate is: 0.000125\n",
            "Number of iterations: 78\n",
            "(1460, 1)\n",
            "RMSE: 0.17554544215042123\n",
            "The Learning rate is: 0.000125\n",
            "Number of iterations: 79\n",
            "(1460, 1)\n",
            "RMSE: 0.17554547628009295\n",
            "The Learning rate is: 0.000125\n",
            "Number of iterations: 80\n",
            "(1460, 1)\n",
            "RMSE: 0.1755455144185566\n",
            "The Learning rate is: 0.000125\n",
            "Number of iterations: 81\n",
            "(1460, 1)\n",
            "RMSE: 0.17551241401959325\n",
            "The Learning rate is: 6.25e-05\n",
            "Number of iterations: 82\n",
            "(1460, 1)\n",
            "RMSE: 0.17551225453944894\n",
            "The Learning rate is: 6.25e-05\n",
            "Number of iterations: 83\n",
            "(1460, 1)\n",
            "RMSE: 0.17551213902286478\n",
            "The Learning rate is: 6.25e-05\n",
            "Number of iterations: 84\n",
            "(1460, 1)\n",
            "RMSE: 0.17551204692988875\n",
            "The Learning rate is: 6.25e-05\n",
            "Number of iterations: 85\n",
            "(1460, 1)\n",
            "RMSE: 0.17551196270460398\n",
            "The Learning rate is: 6.25e-05\n",
            "Number of iterations: 86\n",
            "(1460, 1)\n",
            "RMSE: 0.17551188580009933\n",
            "The Learning rate is: 6.25e-05\n",
            "Number of iterations: 87\n",
            "(1460, 1)\n",
            "RMSE: 0.17551181418009398\n",
            "The Learning rate is: 6.25e-05\n",
            "Number of iterations: 88\n",
            "(1460, 1)\n",
            "RMSE: 0.1755117446650277\n",
            "The Learning rate is: 6.25e-05\n",
            "Number of iterations: 89\n",
            "(1460, 1)\n",
            "RMSE: 0.17551168018025556\n",
            "The Learning rate is: 6.25e-05\n",
            "Number of iterations: 90\n",
            "(1460, 1)\n",
            "RMSE: 0.17551161474421703\n",
            "The Learning rate is: 6.25e-05\n",
            "Number of iterations: 91\n",
            "(1460, 1)\n",
            "RMSE: 0.1754938467312233\n",
            "The Learning rate is: 3.125e-05\n",
            "Number of iterations: 92\n",
            "(1460, 1)\n",
            "RMSE: 0.17549375033233544\n",
            "The Learning rate is: 3.125e-05\n",
            "Number of iterations: 93\n",
            "(1460, 1)\n",
            "RMSE: 0.17549365680322182\n",
            "The Learning rate is: 3.125e-05\n",
            "Number of iterations: 94\n",
            "(1460, 1)\n",
            "RMSE: 0.17549356667440014\n",
            "The Learning rate is: 3.125e-05\n",
            "Number of iterations: 95\n",
            "(1460, 1)\n",
            "RMSE: 0.17549347715227456\n",
            "The Learning rate is: 3.125e-05\n",
            "Number of iterations: 96\n",
            "(1460, 1)\n",
            "RMSE: 0.17549339179396153\n",
            "The Learning rate is: 3.125e-05\n",
            "Number of iterations: 97\n",
            "(1460, 1)\n",
            "RMSE: 0.17549330285322726\n",
            "The Learning rate is: 3.125e-05\n",
            "Number of iterations: 98\n",
            "(1460, 1)\n",
            "RMSE: 0.17549321530179143\n",
            "The Learning rate is: 3.125e-05\n",
            "Number of iterations: 99\n",
            "(1460, 1)\n",
            "RMSE: 0.17549312779844167\n",
            "The Learning rate is: 3.125e-05\n",
            "Number of iterations: 100\n",
            "(1460, 1)\n",
            "RMSE: 0.17549303872531738\n",
            "The Learning rate is: 3.125e-05\n",
            "Number of iterations: 101\n",
            "(1460, 1)\n",
            "RMSE: 0.17548350524640297\n",
            "The Learning rate is: 1.5625e-05\n",
            "Number of iterations: 102\n",
            "(1460, 1)\n",
            "RMSE: 0.17548343690195214\n",
            "The Learning rate is: 1.5625e-05\n",
            "Number of iterations: 103\n",
            "(1460, 1)\n",
            "RMSE: 0.17548336400252043\n",
            "The Learning rate is: 1.5625e-05\n",
            "Number of iterations: 104\n",
            "(1460, 1)\n",
            "RMSE: 0.17548329250667405\n",
            "The Learning rate is: 1.5625e-05\n",
            "Number of iterations: 105\n",
            "(1460, 1)\n",
            "RMSE: 0.1754832204317032\n",
            "The Learning rate is: 1.5625e-05\n",
            "Number of iterations: 106\n",
            "(1460, 1)\n",
            "RMSE: 0.17548314910550078\n",
            "The Learning rate is: 1.5625e-05\n",
            "Number of iterations: 107\n",
            "(1460, 1)\n",
            "RMSE: 0.17548307534446367\n",
            "The Learning rate is: 1.5625e-05\n",
            "Number of iterations: 108\n",
            "(1460, 1)\n",
            "RMSE: 0.17548300422362703\n",
            "The Learning rate is: 1.5625e-05\n",
            "Number of iterations: 109\n",
            "(1460, 1)\n",
            "RMSE: 0.17548292847264926\n",
            "The Learning rate is: 1.5625e-05\n",
            "Number of iterations: 110\n",
            "(1460, 1)\n",
            "RMSE: 0.1754828476850896\n",
            "The Learning rate is: 1.5625e-05\n",
            "Number of iterations: 111\n",
            "(1460, 1)\n",
            "RMSE: 0.1754777524265203\n",
            "The Learning rate is: 7.8125e-06\n",
            "Number of iterations: 112\n",
            "(1460, 1)\n",
            "RMSE: 0.17547770273227045\n",
            "The Learning rate is: 7.8125e-06\n",
            "Number of iterations: 113\n",
            "(1460, 1)\n",
            "RMSE: 0.1754776521791861\n",
            "The Learning rate is: 7.8125e-06\n",
            "Number of iterations: 114\n",
            "(1460, 1)\n",
            "RMSE: 0.17547760103203314\n",
            "The Learning rate is: 7.8125e-06\n",
            "Number of iterations: 115\n",
            "(1460, 1)\n",
            "RMSE: 0.17547754836409443\n",
            "The Learning rate is: 7.8125e-06\n",
            "Number of iterations: 116\n",
            "(1460, 1)\n",
            "RMSE: 0.1754774953043624\n",
            "The Learning rate is: 7.8125e-06\n",
            "Number of iterations: 117\n",
            "(1460, 1)\n",
            "RMSE: 0.17547744065715193\n",
            "The Learning rate is: 7.8125e-06\n",
            "Number of iterations: 118\n",
            "(1460, 1)\n",
            "RMSE: 0.17547738506399774\n",
            "The Learning rate is: 7.8125e-06\n",
            "Number of iterations: 119\n",
            "(1460, 1)\n",
            "RMSE: 0.1754773298218271\n",
            "The Learning rate is: 7.8125e-06\n",
            "Number of iterations: 120\n",
            "(1460, 1)\n",
            "RMSE: 0.17547727394753526\n",
            "The Learning rate is: 7.8125e-06\n",
            "Number of iterations: 121\n",
            "(1460, 1)\n",
            "RMSE: 0.1754745646005802\n",
            "The Learning rate is: 3.90625e-06\n",
            "Number of iterations: 122\n",
            "(1460, 1)\n",
            "RMSE: 0.17547452989077714\n",
            "The Learning rate is: 3.90625e-06\n",
            "Number of iterations: 123\n",
            "(1460, 1)\n",
            "RMSE: 0.1754744974402186\n",
            "The Learning rate is: 3.90625e-06\n",
            "Number of iterations: 124\n",
            "(1460, 1)\n",
            "RMSE: 0.1754744643127253\n",
            "The Learning rate is: 3.90625e-06\n",
            "Number of iterations: 125\n",
            "(1460, 1)\n",
            "RMSE: 0.1754744266468423\n",
            "The Learning rate is: 3.90625e-06\n",
            "Number of iterations: 126\n",
            "(1460, 1)\n",
            "RMSE: 0.1754743925648585\n",
            "The Learning rate is: 3.90625e-06\n",
            "Number of iterations: 127\n",
            "(1460, 1)\n",
            "RMSE: 0.17547435522944452\n",
            "The Learning rate is: 3.90625e-06\n",
            "Number of iterations: 128\n",
            "(1460, 1)\n",
            "RMSE: 0.17547431677740094\n",
            "The Learning rate is: 3.90625e-06\n",
            "Number of iterations: 129\n",
            "(1460, 1)\n",
            "RMSE: 0.1754742780179283\n",
            "The Learning rate is: 3.90625e-06\n",
            "Number of iterations: 130\n",
            "(1460, 1)\n",
            "RMSE: 0.17547424022502509\n",
            "The Learning rate is: 3.90625e-06\n",
            "Number of iterations: 131\n",
            "(1460, 1)\n",
            "RMSE: 0.17547280600361978\n",
            "The Learning rate is: 1.953125e-06\n",
            "Number of iterations: 132\n",
            "(1460, 1)\n",
            "RMSE: 0.17547278600360128\n",
            "The Learning rate is: 1.953125e-06\n",
            "Number of iterations: 133\n",
            "(1460, 1)\n",
            "RMSE: 0.17547276485564398\n",
            "The Learning rate is: 1.953125e-06\n",
            "Number of iterations: 134\n",
            "(1460, 1)\n",
            "RMSE: 0.1754727417431667\n",
            "The Learning rate is: 1.953125e-06\n",
            "Number of iterations: 135\n",
            "(1460, 1)\n",
            "RMSE: 0.17547271698218894\n",
            "The Learning rate is: 1.953125e-06\n",
            "Number of iterations: 136\n",
            "(1460, 1)\n",
            "RMSE: 0.17547269569536708\n",
            "The Learning rate is: 1.953125e-06\n",
            "Number of iterations: 137\n",
            "(1460, 1)\n",
            "RMSE: 0.17547267210735842\n",
            "The Learning rate is: 1.953125e-06\n",
            "Number of iterations: 138\n",
            "(1460, 1)\n",
            "RMSE: 0.17547264801160184\n",
            "The Learning rate is: 1.953125e-06\n",
            "Number of iterations: 139\n",
            "(1460, 1)\n",
            "RMSE: 0.17547262266068034\n",
            "The Learning rate is: 1.953125e-06\n",
            "Number of iterations: 140\n",
            "(1460, 1)\n",
            "RMSE: 0.1754725965803716\n",
            "The Learning rate is: 1.953125e-06\n",
            "Number of iterations: 141\n",
            "(1460, 1)\n",
            "RMSE: 0.17547185158141476\n",
            "The Learning rate is: 9.765625e-07\n",
            "Number of iterations: 142\n",
            "(1460, 1)\n",
            "RMSE: 0.17547183869358213\n",
            "The Learning rate is: 9.765625e-07\n",
            "Number of iterations: 143\n",
            "(1460, 1)\n",
            "RMSE: 0.1754718243793013\n",
            "The Learning rate is: 9.765625e-07\n",
            "Number of iterations: 144\n",
            "(1460, 1)\n",
            "RMSE: 0.17547181133759182\n",
            "The Learning rate is: 9.765625e-07\n",
            "Number of iterations: 145\n",
            "(1460, 1)\n",
            "RMSE: 0.1754717969026618\n",
            "The Learning rate is: 9.765625e-07\n",
            "Number of iterations: 146\n",
            "(1460, 1)\n",
            "RMSE: 0.17547178235588726\n",
            "The Learning rate is: 9.765625e-07\n",
            "Number of iterations: 147\n",
            "(1460, 1)\n",
            "RMSE: 0.17547176784238264\n",
            "The Learning rate is: 9.765625e-07\n",
            "Number of iterations: 148\n",
            "(1460, 1)\n",
            "RMSE: 0.17547175331193568\n",
            "The Learning rate is: 9.765625e-07\n",
            "Number of iterations: 149\n",
            "(1460, 1)\n",
            "RMSE: 0.17547173829850332\n",
            "The Learning rate is: 9.765625e-07\n"
          ],
          "name": "stdout"
        }
      ]
    },
    {
      "cell_type": "code",
      "metadata": {
        "id": "OevxvJj7dH1o",
        "colab_type": "code",
        "colab": {
          "base_uri": "https://localhost:8080/",
          "height": 136
        },
        "outputId": "b494a0e5-0931-4c4c-9b76-b57406718b52"
      },
      "source": [
        "mdf = pd.read_excel('/content/ML Ensemble Training.xlsx')\n",
        "print(mdf.head())\n",
        "x_train = mdf[['Residual','Hybrid']].values\n",
        "y_train=mdf[['Original']].values\n",
        "type(x_train),x_train.shape,type(y_train),y_train.shape"
      ],
      "execution_count": 47,
      "outputs": [
        {
          "output_type": "stream",
          "text": [
            "   Original     Hybrid   Residual\n",
            "0  54.22838  49.069311  49.062313\n",
            "1  43.83395  49.069225  49.058518\n",
            "2  59.13587  49.063229  48.889733\n",
            "3  50.66887  49.103583  48.933853\n",
            "4  44.47127  49.078277  49.198943\n"
          ],
          "name": "stdout"
        },
        {
          "output_type": "execute_result",
          "data": {
            "text/plain": [
              "(numpy.ndarray, (72, 2), numpy.ndarray, (72, 1))"
            ]
          },
          "metadata": {
            "tags": []
          },
          "execution_count": 47
        }
      ]
    },
    {
      "cell_type": "code",
      "metadata": {
        "id": "ZSutsmIQdLUi",
        "colab_type": "code",
        "colab": {
          "base_uri": "https://localhost:8080/",
          "height": 34
        },
        "outputId": "103da5bc-5651-4b4b-aec6-7c4516d1d531"
      },
      "source": [
        "ytest = pd.read_excel('/content/y_test.xlsx').values\n",
        "xtest = pd.read_excel('/content/x_test.xlsx').values\n",
        "type(ytest),ytest.shape,type(xtest),xtest.shape"
      ],
      "execution_count": 48,
      "outputs": [
        {
          "output_type": "execute_result",
          "data": {
            "text/plain": [
              "(numpy.ndarray, (750, 1), numpy.ndarray, (750, 2))"
            ]
          },
          "metadata": {
            "tags": []
          },
          "execution_count": 48
        }
      ]
    },
    {
      "cell_type": "code",
      "metadata": {
        "id": "mkmMiLlbdNe7",
        "colab_type": "code",
        "colab": {
          "base_uri": "https://localhost:8080/",
          "height": 105
        },
        "outputId": "eff29d8f-cd79-4b5d-9c69-8226599388ef"
      },
      "source": [
        "gbr = ensemble.GradientBoostingRegressor()\n",
        "clf = SVR(kernel='linear')\n",
        "clf.fit(x_train,y_train)\n",
        "gbr.fit(x_train,y_train)\n",
        "reg = LinearRegression().fit(x_train, y_train)\n",
        "predictions = clf.predict(xtest)\n",
        "predictions2 = gbr.predict(xtest)\n",
        "lr_pred=reg.predict(xtest)"
      ],
      "execution_count": 49,
      "outputs": [
        {
          "output_type": "stream",
          "text": [
            "/usr/local/lib/python3.6/dist-packages/sklearn/utils/validation.py:760: DataConversionWarning: A column-vector y was passed when a 1d array was expected. Please change the shape of y to (n_samples, ), for example using ravel().\n",
            "  y = column_or_1d(y, warn=True)\n",
            "/usr/local/lib/python3.6/dist-packages/sklearn/ensemble/_gb.py:1454: DataConversionWarning: A column-vector y was passed when a 1d array was expected. Please change the shape of y to (n_samples, ), for example using ravel().\n",
            "  y = column_or_1d(y, warn=True)\n"
          ],
          "name": "stderr"
        }
      ]
    },
    {
      "cell_type": "code",
      "metadata": {
        "id": "uOUywW_LdP7O",
        "colab_type": "code",
        "colab": {
          "base_uri": "https://localhost:8080/",
          "height": 119
        },
        "outputId": "90bba356-dc5f-4e41-e4b0-0194ca04e484"
      },
      "source": [
        "mse(ytest,predictions),mae(ytest,predictions),mse(ytest,predictions2),mae(ytest,predictions2),mse(ytest,lr_pred),mae(ytest,lr_pred)"
      ],
      "execution_count": 50,
      "outputs": [
        {
          "output_type": "execute_result",
          "data": {
            "text/plain": [
              "(98.64632057835199,\n",
              " 7.931519706878161,\n",
              " 153.9117113357779,\n",
              " 9.91643871508676,\n",
              " 118.62206187363128,\n",
              " 8.576189780740886)"
            ]
          },
          "metadata": {
            "tags": []
          },
          "execution_count": 50
        }
      ]
    },
    {
      "cell_type": "code",
      "metadata": {
        "id": "z5zCeW2Ng8bm",
        "colab_type": "code",
        "colab": {}
      },
      "source": [
        ""
      ],
      "execution_count": 0,
      "outputs": []
    }
  ]
}